{
 "cells": [
  {
   "cell_type": "code",
   "execution_count": 1,
   "id": "8aae6e4e",
   "metadata": {},
   "outputs": [],
   "source": [
    "#importing neccesary libraries\n",
    "import pandas as pd,numpy as np\n",
    "import matplotlib.pyplot as plt\n",
    "import seaborn as sns\n",
    "import warnings\n",
    "import scipy.stats as stats\n",
    "warnings.filterwarnings('ignore')"
   ]
  },
  {
   "cell_type": "code",
   "execution_count": 2,
   "id": "188b491a",
   "metadata": {
    "scrolled": false
   },
   "outputs": [
    {
     "data": {
      "text/html": [
       "<div>\n",
       "<style scoped>\n",
       "    .dataframe tbody tr th:only-of-type {\n",
       "        vertical-align: middle;\n",
       "    }\n",
       "\n",
       "    .dataframe tbody tr th {\n",
       "        vertical-align: top;\n",
       "    }\n",
       "\n",
       "    .dataframe thead th {\n",
       "        text-align: right;\n",
       "    }\n",
       "</style>\n",
       "<table border=\"1\" class=\"dataframe\">\n",
       "  <thead>\n",
       "    <tr style=\"text-align: right;\">\n",
       "      <th></th>\n",
       "      <th>YearStart</th>\n",
       "      <th>YearEnd</th>\n",
       "      <th>LocationAbbr</th>\n",
       "      <th>LocationDesc</th>\n",
       "      <th>Datasource</th>\n",
       "      <th>Class</th>\n",
       "      <th>Topic</th>\n",
       "      <th>Question</th>\n",
       "      <th>Data_Value_Unit</th>\n",
       "      <th>Data_Value_Type</th>\n",
       "      <th>...</th>\n",
       "      <th>GeoLocation</th>\n",
       "      <th>ClassID</th>\n",
       "      <th>TopicID</th>\n",
       "      <th>QuestionID</th>\n",
       "      <th>DataValueTypeID</th>\n",
       "      <th>LocationID</th>\n",
       "      <th>StratificationCategory1</th>\n",
       "      <th>Stratification1</th>\n",
       "      <th>StratificationCategoryId1</th>\n",
       "      <th>StratificationID1</th>\n",
       "    </tr>\n",
       "  </thead>\n",
       "  <tbody>\n",
       "    <tr>\n",
       "      <th>0</th>\n",
       "      <td>2011</td>\n",
       "      <td>2011</td>\n",
       "      <td>AL</td>\n",
       "      <td>Alabama</td>\n",
       "      <td>Behavioral Risk Factor Surveillance System</td>\n",
       "      <td>Obesity / Weight Status</td>\n",
       "      <td>Obesity / Weight Status</td>\n",
       "      <td>Percent of adults aged 18 years and older who ...</td>\n",
       "      <td>NaN</td>\n",
       "      <td>Value</td>\n",
       "      <td>...</td>\n",
       "      <td>(32.84057112200048, -86.63186076199969)</td>\n",
       "      <td>OWS</td>\n",
       "      <td>OWS1</td>\n",
       "      <td>Q036</td>\n",
       "      <td>VALUE</td>\n",
       "      <td>1</td>\n",
       "      <td>Total</td>\n",
       "      <td>Total</td>\n",
       "      <td>OVR</td>\n",
       "      <td>OVERALL</td>\n",
       "    </tr>\n",
       "    <tr>\n",
       "      <th>1</th>\n",
       "      <td>2011</td>\n",
       "      <td>2011</td>\n",
       "      <td>AL</td>\n",
       "      <td>Alabama</td>\n",
       "      <td>Behavioral Risk Factor Surveillance System</td>\n",
       "      <td>Obesity / Weight Status</td>\n",
       "      <td>Obesity / Weight Status</td>\n",
       "      <td>Percent of adults aged 18 years and older who ...</td>\n",
       "      <td>NaN</td>\n",
       "      <td>Value</td>\n",
       "      <td>...</td>\n",
       "      <td>(32.84057112200048, -86.63186076199969)</td>\n",
       "      <td>OWS</td>\n",
       "      <td>OWS1</td>\n",
       "      <td>Q036</td>\n",
       "      <td>VALUE</td>\n",
       "      <td>1</td>\n",
       "      <td>Gender</td>\n",
       "      <td>Male</td>\n",
       "      <td>GEN</td>\n",
       "      <td>MALE</td>\n",
       "    </tr>\n",
       "    <tr>\n",
       "      <th>2</th>\n",
       "      <td>2011</td>\n",
       "      <td>2011</td>\n",
       "      <td>AL</td>\n",
       "      <td>Alabama</td>\n",
       "      <td>Behavioral Risk Factor Surveillance System</td>\n",
       "      <td>Obesity / Weight Status</td>\n",
       "      <td>Obesity / Weight Status</td>\n",
       "      <td>Percent of adults aged 18 years and older who ...</td>\n",
       "      <td>NaN</td>\n",
       "      <td>Value</td>\n",
       "      <td>...</td>\n",
       "      <td>(32.84057112200048, -86.63186076199969)</td>\n",
       "      <td>OWS</td>\n",
       "      <td>OWS1</td>\n",
       "      <td>Q036</td>\n",
       "      <td>VALUE</td>\n",
       "      <td>1</td>\n",
       "      <td>Gender</td>\n",
       "      <td>Female</td>\n",
       "      <td>GEN</td>\n",
       "      <td>FEMALE</td>\n",
       "    </tr>\n",
       "    <tr>\n",
       "      <th>3</th>\n",
       "      <td>2011</td>\n",
       "      <td>2011</td>\n",
       "      <td>AL</td>\n",
       "      <td>Alabama</td>\n",
       "      <td>Behavioral Risk Factor Surveillance System</td>\n",
       "      <td>Obesity / Weight Status</td>\n",
       "      <td>Obesity / Weight Status</td>\n",
       "      <td>Percent of adults aged 18 years and older who ...</td>\n",
       "      <td>NaN</td>\n",
       "      <td>Value</td>\n",
       "      <td>...</td>\n",
       "      <td>(32.84057112200048, -86.63186076199969)</td>\n",
       "      <td>OWS</td>\n",
       "      <td>OWS1</td>\n",
       "      <td>Q036</td>\n",
       "      <td>VALUE</td>\n",
       "      <td>1</td>\n",
       "      <td>Education</td>\n",
       "      <td>Less than high school</td>\n",
       "      <td>EDU</td>\n",
       "      <td>EDUHS</td>\n",
       "    </tr>\n",
       "    <tr>\n",
       "      <th>4</th>\n",
       "      <td>2011</td>\n",
       "      <td>2011</td>\n",
       "      <td>AL</td>\n",
       "      <td>Alabama</td>\n",
       "      <td>Behavioral Risk Factor Surveillance System</td>\n",
       "      <td>Obesity / Weight Status</td>\n",
       "      <td>Obesity / Weight Status</td>\n",
       "      <td>Percent of adults aged 18 years and older who ...</td>\n",
       "      <td>NaN</td>\n",
       "      <td>Value</td>\n",
       "      <td>...</td>\n",
       "      <td>(32.84057112200048, -86.63186076199969)</td>\n",
       "      <td>OWS</td>\n",
       "      <td>OWS1</td>\n",
       "      <td>Q036</td>\n",
       "      <td>VALUE</td>\n",
       "      <td>1</td>\n",
       "      <td>Education</td>\n",
       "      <td>High school graduate</td>\n",
       "      <td>EDU</td>\n",
       "      <td>EDUHSGRAD</td>\n",
       "    </tr>\n",
       "    <tr>\n",
       "      <th>5</th>\n",
       "      <td>2011</td>\n",
       "      <td>2011</td>\n",
       "      <td>AL</td>\n",
       "      <td>Alabama</td>\n",
       "      <td>Behavioral Risk Factor Surveillance System</td>\n",
       "      <td>Obesity / Weight Status</td>\n",
       "      <td>Obesity / Weight Status</td>\n",
       "      <td>Percent of adults aged 18 years and older who ...</td>\n",
       "      <td>NaN</td>\n",
       "      <td>Value</td>\n",
       "      <td>...</td>\n",
       "      <td>(32.84057112200048, -86.63186076199969)</td>\n",
       "      <td>OWS</td>\n",
       "      <td>OWS1</td>\n",
       "      <td>Q036</td>\n",
       "      <td>VALUE</td>\n",
       "      <td>1</td>\n",
       "      <td>Education</td>\n",
       "      <td>Some college or technical school</td>\n",
       "      <td>EDU</td>\n",
       "      <td>EDUCOTEC</td>\n",
       "    </tr>\n",
       "    <tr>\n",
       "      <th>6</th>\n",
       "      <td>2011</td>\n",
       "      <td>2011</td>\n",
       "      <td>AL</td>\n",
       "      <td>Alabama</td>\n",
       "      <td>Behavioral Risk Factor Surveillance System</td>\n",
       "      <td>Obesity / Weight Status</td>\n",
       "      <td>Obesity / Weight Status</td>\n",
       "      <td>Percent of adults aged 18 years and older who ...</td>\n",
       "      <td>NaN</td>\n",
       "      <td>Value</td>\n",
       "      <td>...</td>\n",
       "      <td>(32.84057112200048, -86.63186076199969)</td>\n",
       "      <td>OWS</td>\n",
       "      <td>OWS1</td>\n",
       "      <td>Q036</td>\n",
       "      <td>VALUE</td>\n",
       "      <td>1</td>\n",
       "      <td>Education</td>\n",
       "      <td>College graduate</td>\n",
       "      <td>EDU</td>\n",
       "      <td>EDUCOGRAD</td>\n",
       "    </tr>\n",
       "    <tr>\n",
       "      <th>7</th>\n",
       "      <td>2011</td>\n",
       "      <td>2011</td>\n",
       "      <td>AL</td>\n",
       "      <td>Alabama</td>\n",
       "      <td>Behavioral Risk Factor Surveillance System</td>\n",
       "      <td>Obesity / Weight Status</td>\n",
       "      <td>Obesity / Weight Status</td>\n",
       "      <td>Percent of adults aged 18 years and older who ...</td>\n",
       "      <td>NaN</td>\n",
       "      <td>Value</td>\n",
       "      <td>...</td>\n",
       "      <td>(32.84057112200048, -86.63186076199969)</td>\n",
       "      <td>OWS</td>\n",
       "      <td>OWS1</td>\n",
       "      <td>Q036</td>\n",
       "      <td>VALUE</td>\n",
       "      <td>1</td>\n",
       "      <td>Age (years)</td>\n",
       "      <td>18 - 24</td>\n",
       "      <td>AGEYR</td>\n",
       "      <td>AGEYR1824</td>\n",
       "    </tr>\n",
       "    <tr>\n",
       "      <th>8</th>\n",
       "      <td>2011</td>\n",
       "      <td>2011</td>\n",
       "      <td>AL</td>\n",
       "      <td>Alabama</td>\n",
       "      <td>Behavioral Risk Factor Surveillance System</td>\n",
       "      <td>Obesity / Weight Status</td>\n",
       "      <td>Obesity / Weight Status</td>\n",
       "      <td>Percent of adults aged 18 years and older who ...</td>\n",
       "      <td>NaN</td>\n",
       "      <td>Value</td>\n",
       "      <td>...</td>\n",
       "      <td>(32.84057112200048, -86.63186076199969)</td>\n",
       "      <td>OWS</td>\n",
       "      <td>OWS1</td>\n",
       "      <td>Q036</td>\n",
       "      <td>VALUE</td>\n",
       "      <td>1</td>\n",
       "      <td>Age (years)</td>\n",
       "      <td>25 - 34</td>\n",
       "      <td>AGEYR</td>\n",
       "      <td>AGEYR2534</td>\n",
       "    </tr>\n",
       "    <tr>\n",
       "      <th>9</th>\n",
       "      <td>2011</td>\n",
       "      <td>2011</td>\n",
       "      <td>AL</td>\n",
       "      <td>Alabama</td>\n",
       "      <td>Behavioral Risk Factor Surveillance System</td>\n",
       "      <td>Obesity / Weight Status</td>\n",
       "      <td>Obesity / Weight Status</td>\n",
       "      <td>Percent of adults aged 18 years and older who ...</td>\n",
       "      <td>NaN</td>\n",
       "      <td>Value</td>\n",
       "      <td>...</td>\n",
       "      <td>(32.84057112200048, -86.63186076199969)</td>\n",
       "      <td>OWS</td>\n",
       "      <td>OWS1</td>\n",
       "      <td>Q036</td>\n",
       "      <td>VALUE</td>\n",
       "      <td>1</td>\n",
       "      <td>Age (years)</td>\n",
       "      <td>35 - 44</td>\n",
       "      <td>AGEYR</td>\n",
       "      <td>AGEYR3544</td>\n",
       "    </tr>\n",
       "    <tr>\n",
       "      <th>10</th>\n",
       "      <td>2011</td>\n",
       "      <td>2011</td>\n",
       "      <td>AL</td>\n",
       "      <td>Alabama</td>\n",
       "      <td>Behavioral Risk Factor Surveillance System</td>\n",
       "      <td>Obesity / Weight Status</td>\n",
       "      <td>Obesity / Weight Status</td>\n",
       "      <td>Percent of adults aged 18 years and older who ...</td>\n",
       "      <td>NaN</td>\n",
       "      <td>Value</td>\n",
       "      <td>...</td>\n",
       "      <td>(32.84057112200048, -86.63186076199969)</td>\n",
       "      <td>OWS</td>\n",
       "      <td>OWS1</td>\n",
       "      <td>Q036</td>\n",
       "      <td>VALUE</td>\n",
       "      <td>1</td>\n",
       "      <td>Age (years)</td>\n",
       "      <td>45 - 54</td>\n",
       "      <td>AGEYR</td>\n",
       "      <td>AGEYR4554</td>\n",
       "    </tr>\n",
       "    <tr>\n",
       "      <th>11</th>\n",
       "      <td>2011</td>\n",
       "      <td>2011</td>\n",
       "      <td>AL</td>\n",
       "      <td>Alabama</td>\n",
       "      <td>Behavioral Risk Factor Surveillance System</td>\n",
       "      <td>Obesity / Weight Status</td>\n",
       "      <td>Obesity / Weight Status</td>\n",
       "      <td>Percent of adults aged 18 years and older who ...</td>\n",
       "      <td>NaN</td>\n",
       "      <td>Value</td>\n",
       "      <td>...</td>\n",
       "      <td>(32.84057112200048, -86.63186076199969)</td>\n",
       "      <td>OWS</td>\n",
       "      <td>OWS1</td>\n",
       "      <td>Q036</td>\n",
       "      <td>VALUE</td>\n",
       "      <td>1</td>\n",
       "      <td>Age (years)</td>\n",
       "      <td>55 - 64</td>\n",
       "      <td>AGEYR</td>\n",
       "      <td>AGEYR5564</td>\n",
       "    </tr>\n",
       "    <tr>\n",
       "      <th>12</th>\n",
       "      <td>2011</td>\n",
       "      <td>2011</td>\n",
       "      <td>AL</td>\n",
       "      <td>Alabama</td>\n",
       "      <td>Behavioral Risk Factor Surveillance System</td>\n",
       "      <td>Obesity / Weight Status</td>\n",
       "      <td>Obesity / Weight Status</td>\n",
       "      <td>Percent of adults aged 18 years and older who ...</td>\n",
       "      <td>NaN</td>\n",
       "      <td>Value</td>\n",
       "      <td>...</td>\n",
       "      <td>(32.84057112200048, -86.63186076199969)</td>\n",
       "      <td>OWS</td>\n",
       "      <td>OWS1</td>\n",
       "      <td>Q036</td>\n",
       "      <td>VALUE</td>\n",
       "      <td>1</td>\n",
       "      <td>Age (years)</td>\n",
       "      <td>65 or older</td>\n",
       "      <td>AGEYR</td>\n",
       "      <td>AGEYR65PLUS</td>\n",
       "    </tr>\n",
       "    <tr>\n",
       "      <th>13</th>\n",
       "      <td>2011</td>\n",
       "      <td>2011</td>\n",
       "      <td>AL</td>\n",
       "      <td>Alabama</td>\n",
       "      <td>Behavioral Risk Factor Surveillance System</td>\n",
       "      <td>Obesity / Weight Status</td>\n",
       "      <td>Obesity / Weight Status</td>\n",
       "      <td>Percent of adults aged 18 years and older who ...</td>\n",
       "      <td>NaN</td>\n",
       "      <td>Value</td>\n",
       "      <td>...</td>\n",
       "      <td>(32.84057112200048, -86.63186076199969)</td>\n",
       "      <td>OWS</td>\n",
       "      <td>OWS1</td>\n",
       "      <td>Q036</td>\n",
       "      <td>VALUE</td>\n",
       "      <td>1</td>\n",
       "      <td>Income</td>\n",
       "      <td>Less than $15,000</td>\n",
       "      <td>INC</td>\n",
       "      <td>INCLESS15</td>\n",
       "    </tr>\n",
       "    <tr>\n",
       "      <th>14</th>\n",
       "      <td>2011</td>\n",
       "      <td>2011</td>\n",
       "      <td>AL</td>\n",
       "      <td>Alabama</td>\n",
       "      <td>Behavioral Risk Factor Surveillance System</td>\n",
       "      <td>Obesity / Weight Status</td>\n",
       "      <td>Obesity / Weight Status</td>\n",
       "      <td>Percent of adults aged 18 years and older who ...</td>\n",
       "      <td>NaN</td>\n",
       "      <td>Value</td>\n",
       "      <td>...</td>\n",
       "      <td>(32.84057112200048, -86.63186076199969)</td>\n",
       "      <td>OWS</td>\n",
       "      <td>OWS1</td>\n",
       "      <td>Q036</td>\n",
       "      <td>VALUE</td>\n",
       "      <td>1</td>\n",
       "      <td>Income</td>\n",
       "      <td>$15,000 - $24,999</td>\n",
       "      <td>INC</td>\n",
       "      <td>INC1525</td>\n",
       "    </tr>\n",
       "    <tr>\n",
       "      <th>15</th>\n",
       "      <td>2011</td>\n",
       "      <td>2011</td>\n",
       "      <td>AL</td>\n",
       "      <td>Alabama</td>\n",
       "      <td>Behavioral Risk Factor Surveillance System</td>\n",
       "      <td>Obesity / Weight Status</td>\n",
       "      <td>Obesity / Weight Status</td>\n",
       "      <td>Percent of adults aged 18 years and older who ...</td>\n",
       "      <td>NaN</td>\n",
       "      <td>Value</td>\n",
       "      <td>...</td>\n",
       "      <td>(32.84057112200048, -86.63186076199969)</td>\n",
       "      <td>OWS</td>\n",
       "      <td>OWS1</td>\n",
       "      <td>Q036</td>\n",
       "      <td>VALUE</td>\n",
       "      <td>1</td>\n",
       "      <td>Income</td>\n",
       "      <td>$25,000 - $34,999</td>\n",
       "      <td>INC</td>\n",
       "      <td>INC2535</td>\n",
       "    </tr>\n",
       "    <tr>\n",
       "      <th>16</th>\n",
       "      <td>2011</td>\n",
       "      <td>2011</td>\n",
       "      <td>AL</td>\n",
       "      <td>Alabama</td>\n",
       "      <td>Behavioral Risk Factor Surveillance System</td>\n",
       "      <td>Obesity / Weight Status</td>\n",
       "      <td>Obesity / Weight Status</td>\n",
       "      <td>Percent of adults aged 18 years and older who ...</td>\n",
       "      <td>NaN</td>\n",
       "      <td>Value</td>\n",
       "      <td>...</td>\n",
       "      <td>(32.84057112200048, -86.63186076199969)</td>\n",
       "      <td>OWS</td>\n",
       "      <td>OWS1</td>\n",
       "      <td>Q036</td>\n",
       "      <td>VALUE</td>\n",
       "      <td>1</td>\n",
       "      <td>Income</td>\n",
       "      <td>$35,000 - $49,999</td>\n",
       "      <td>INC</td>\n",
       "      <td>INC3550</td>\n",
       "    </tr>\n",
       "    <tr>\n",
       "      <th>17</th>\n",
       "      <td>2011</td>\n",
       "      <td>2011</td>\n",
       "      <td>AL</td>\n",
       "      <td>Alabama</td>\n",
       "      <td>Behavioral Risk Factor Surveillance System</td>\n",
       "      <td>Obesity / Weight Status</td>\n",
       "      <td>Obesity / Weight Status</td>\n",
       "      <td>Percent of adults aged 18 years and older who ...</td>\n",
       "      <td>NaN</td>\n",
       "      <td>Value</td>\n",
       "      <td>...</td>\n",
       "      <td>(32.84057112200048, -86.63186076199969)</td>\n",
       "      <td>OWS</td>\n",
       "      <td>OWS1</td>\n",
       "      <td>Q036</td>\n",
       "      <td>VALUE</td>\n",
       "      <td>1</td>\n",
       "      <td>Income</td>\n",
       "      <td>$50,000 - $74,999</td>\n",
       "      <td>INC</td>\n",
       "      <td>INC5075</td>\n",
       "    </tr>\n",
       "    <tr>\n",
       "      <th>18</th>\n",
       "      <td>2011</td>\n",
       "      <td>2011</td>\n",
       "      <td>AL</td>\n",
       "      <td>Alabama</td>\n",
       "      <td>Behavioral Risk Factor Surveillance System</td>\n",
       "      <td>Obesity / Weight Status</td>\n",
       "      <td>Obesity / Weight Status</td>\n",
       "      <td>Percent of adults aged 18 years and older who ...</td>\n",
       "      <td>NaN</td>\n",
       "      <td>Value</td>\n",
       "      <td>...</td>\n",
       "      <td>(32.84057112200048, -86.63186076199969)</td>\n",
       "      <td>OWS</td>\n",
       "      <td>OWS1</td>\n",
       "      <td>Q036</td>\n",
       "      <td>VALUE</td>\n",
       "      <td>1</td>\n",
       "      <td>Income</td>\n",
       "      <td>$75,000 or greater</td>\n",
       "      <td>INC</td>\n",
       "      <td>INC75PLUS</td>\n",
       "    </tr>\n",
       "    <tr>\n",
       "      <th>19</th>\n",
       "      <td>2011</td>\n",
       "      <td>2011</td>\n",
       "      <td>AL</td>\n",
       "      <td>Alabama</td>\n",
       "      <td>Behavioral Risk Factor Surveillance System</td>\n",
       "      <td>Obesity / Weight Status</td>\n",
       "      <td>Obesity / Weight Status</td>\n",
       "      <td>Percent of adults aged 18 years and older who ...</td>\n",
       "      <td>NaN</td>\n",
       "      <td>Value</td>\n",
       "      <td>...</td>\n",
       "      <td>(32.84057112200048, -86.63186076199969)</td>\n",
       "      <td>OWS</td>\n",
       "      <td>OWS1</td>\n",
       "      <td>Q036</td>\n",
       "      <td>VALUE</td>\n",
       "      <td>1</td>\n",
       "      <td>Income</td>\n",
       "      <td>Data not reported</td>\n",
       "      <td>INC</td>\n",
       "      <td>INCNR</td>\n",
       "    </tr>\n",
       "  </tbody>\n",
       "</table>\n",
       "<p>20 rows × 33 columns</p>\n",
       "</div>"
      ],
      "text/plain": [
       "    YearStart  YearEnd LocationAbbr LocationDesc  \\\n",
       "0        2011     2011           AL      Alabama   \n",
       "1        2011     2011           AL      Alabama   \n",
       "2        2011     2011           AL      Alabama   \n",
       "3        2011     2011           AL      Alabama   \n",
       "4        2011     2011           AL      Alabama   \n",
       "5        2011     2011           AL      Alabama   \n",
       "6        2011     2011           AL      Alabama   \n",
       "7        2011     2011           AL      Alabama   \n",
       "8        2011     2011           AL      Alabama   \n",
       "9        2011     2011           AL      Alabama   \n",
       "10       2011     2011           AL      Alabama   \n",
       "11       2011     2011           AL      Alabama   \n",
       "12       2011     2011           AL      Alabama   \n",
       "13       2011     2011           AL      Alabama   \n",
       "14       2011     2011           AL      Alabama   \n",
       "15       2011     2011           AL      Alabama   \n",
       "16       2011     2011           AL      Alabama   \n",
       "17       2011     2011           AL      Alabama   \n",
       "18       2011     2011           AL      Alabama   \n",
       "19       2011     2011           AL      Alabama   \n",
       "\n",
       "                                    Datasource                    Class  \\\n",
       "0   Behavioral Risk Factor Surveillance System  Obesity / Weight Status   \n",
       "1   Behavioral Risk Factor Surveillance System  Obesity / Weight Status   \n",
       "2   Behavioral Risk Factor Surveillance System  Obesity / Weight Status   \n",
       "3   Behavioral Risk Factor Surveillance System  Obesity / Weight Status   \n",
       "4   Behavioral Risk Factor Surveillance System  Obesity / Weight Status   \n",
       "5   Behavioral Risk Factor Surveillance System  Obesity / Weight Status   \n",
       "6   Behavioral Risk Factor Surveillance System  Obesity / Weight Status   \n",
       "7   Behavioral Risk Factor Surveillance System  Obesity / Weight Status   \n",
       "8   Behavioral Risk Factor Surveillance System  Obesity / Weight Status   \n",
       "9   Behavioral Risk Factor Surveillance System  Obesity / Weight Status   \n",
       "10  Behavioral Risk Factor Surveillance System  Obesity / Weight Status   \n",
       "11  Behavioral Risk Factor Surveillance System  Obesity / Weight Status   \n",
       "12  Behavioral Risk Factor Surveillance System  Obesity / Weight Status   \n",
       "13  Behavioral Risk Factor Surveillance System  Obesity / Weight Status   \n",
       "14  Behavioral Risk Factor Surveillance System  Obesity / Weight Status   \n",
       "15  Behavioral Risk Factor Surveillance System  Obesity / Weight Status   \n",
       "16  Behavioral Risk Factor Surveillance System  Obesity / Weight Status   \n",
       "17  Behavioral Risk Factor Surveillance System  Obesity / Weight Status   \n",
       "18  Behavioral Risk Factor Surveillance System  Obesity / Weight Status   \n",
       "19  Behavioral Risk Factor Surveillance System  Obesity / Weight Status   \n",
       "\n",
       "                      Topic  \\\n",
       "0   Obesity / Weight Status   \n",
       "1   Obesity / Weight Status   \n",
       "2   Obesity / Weight Status   \n",
       "3   Obesity / Weight Status   \n",
       "4   Obesity / Weight Status   \n",
       "5   Obesity / Weight Status   \n",
       "6   Obesity / Weight Status   \n",
       "7   Obesity / Weight Status   \n",
       "8   Obesity / Weight Status   \n",
       "9   Obesity / Weight Status   \n",
       "10  Obesity / Weight Status   \n",
       "11  Obesity / Weight Status   \n",
       "12  Obesity / Weight Status   \n",
       "13  Obesity / Weight Status   \n",
       "14  Obesity / Weight Status   \n",
       "15  Obesity / Weight Status   \n",
       "16  Obesity / Weight Status   \n",
       "17  Obesity / Weight Status   \n",
       "18  Obesity / Weight Status   \n",
       "19  Obesity / Weight Status   \n",
       "\n",
       "                                             Question  Data_Value_Unit  \\\n",
       "0   Percent of adults aged 18 years and older who ...              NaN   \n",
       "1   Percent of adults aged 18 years and older who ...              NaN   \n",
       "2   Percent of adults aged 18 years and older who ...              NaN   \n",
       "3   Percent of adults aged 18 years and older who ...              NaN   \n",
       "4   Percent of adults aged 18 years and older who ...              NaN   \n",
       "5   Percent of adults aged 18 years and older who ...              NaN   \n",
       "6   Percent of adults aged 18 years and older who ...              NaN   \n",
       "7   Percent of adults aged 18 years and older who ...              NaN   \n",
       "8   Percent of adults aged 18 years and older who ...              NaN   \n",
       "9   Percent of adults aged 18 years and older who ...              NaN   \n",
       "10  Percent of adults aged 18 years and older who ...              NaN   \n",
       "11  Percent of adults aged 18 years and older who ...              NaN   \n",
       "12  Percent of adults aged 18 years and older who ...              NaN   \n",
       "13  Percent of adults aged 18 years and older who ...              NaN   \n",
       "14  Percent of adults aged 18 years and older who ...              NaN   \n",
       "15  Percent of adults aged 18 years and older who ...              NaN   \n",
       "16  Percent of adults aged 18 years and older who ...              NaN   \n",
       "17  Percent of adults aged 18 years and older who ...              NaN   \n",
       "18  Percent of adults aged 18 years and older who ...              NaN   \n",
       "19  Percent of adults aged 18 years and older who ...              NaN   \n",
       "\n",
       "   Data_Value_Type  ...                              GeoLocation  ClassID  \\\n",
       "0            Value  ...  (32.84057112200048, -86.63186076199969)      OWS   \n",
       "1            Value  ...  (32.84057112200048, -86.63186076199969)      OWS   \n",
       "2            Value  ...  (32.84057112200048, -86.63186076199969)      OWS   \n",
       "3            Value  ...  (32.84057112200048, -86.63186076199969)      OWS   \n",
       "4            Value  ...  (32.84057112200048, -86.63186076199969)      OWS   \n",
       "5            Value  ...  (32.84057112200048, -86.63186076199969)      OWS   \n",
       "6            Value  ...  (32.84057112200048, -86.63186076199969)      OWS   \n",
       "7            Value  ...  (32.84057112200048, -86.63186076199969)      OWS   \n",
       "8            Value  ...  (32.84057112200048, -86.63186076199969)      OWS   \n",
       "9            Value  ...  (32.84057112200048, -86.63186076199969)      OWS   \n",
       "10           Value  ...  (32.84057112200048, -86.63186076199969)      OWS   \n",
       "11           Value  ...  (32.84057112200048, -86.63186076199969)      OWS   \n",
       "12           Value  ...  (32.84057112200048, -86.63186076199969)      OWS   \n",
       "13           Value  ...  (32.84057112200048, -86.63186076199969)      OWS   \n",
       "14           Value  ...  (32.84057112200048, -86.63186076199969)      OWS   \n",
       "15           Value  ...  (32.84057112200048, -86.63186076199969)      OWS   \n",
       "16           Value  ...  (32.84057112200048, -86.63186076199969)      OWS   \n",
       "17           Value  ...  (32.84057112200048, -86.63186076199969)      OWS   \n",
       "18           Value  ...  (32.84057112200048, -86.63186076199969)      OWS   \n",
       "19           Value  ...  (32.84057112200048, -86.63186076199969)      OWS   \n",
       "\n",
       "   TopicID QuestionID  DataValueTypeID  LocationID  StratificationCategory1  \\\n",
       "0     OWS1       Q036            VALUE           1                    Total   \n",
       "1     OWS1       Q036            VALUE           1                   Gender   \n",
       "2     OWS1       Q036            VALUE           1                   Gender   \n",
       "3     OWS1       Q036            VALUE           1                Education   \n",
       "4     OWS1       Q036            VALUE           1                Education   \n",
       "5     OWS1       Q036            VALUE           1                Education   \n",
       "6     OWS1       Q036            VALUE           1                Education   \n",
       "7     OWS1       Q036            VALUE           1              Age (years)   \n",
       "8     OWS1       Q036            VALUE           1              Age (years)   \n",
       "9     OWS1       Q036            VALUE           1              Age (years)   \n",
       "10    OWS1       Q036            VALUE           1              Age (years)   \n",
       "11    OWS1       Q036            VALUE           1              Age (years)   \n",
       "12    OWS1       Q036            VALUE           1              Age (years)   \n",
       "13    OWS1       Q036            VALUE           1                   Income   \n",
       "14    OWS1       Q036            VALUE           1                   Income   \n",
       "15    OWS1       Q036            VALUE           1                   Income   \n",
       "16    OWS1       Q036            VALUE           1                   Income   \n",
       "17    OWS1       Q036            VALUE           1                   Income   \n",
       "18    OWS1       Q036            VALUE           1                   Income   \n",
       "19    OWS1       Q036            VALUE           1                   Income   \n",
       "\n",
       "                     Stratification1 StratificationCategoryId1  \\\n",
       "0                              Total                       OVR   \n",
       "1                               Male                       GEN   \n",
       "2                             Female                       GEN   \n",
       "3              Less than high school                       EDU   \n",
       "4               High school graduate                       EDU   \n",
       "5   Some college or technical school                       EDU   \n",
       "6                   College graduate                       EDU   \n",
       "7                            18 - 24                     AGEYR   \n",
       "8                            25 - 34                     AGEYR   \n",
       "9                            35 - 44                     AGEYR   \n",
       "10                           45 - 54                     AGEYR   \n",
       "11                           55 - 64                     AGEYR   \n",
       "12                       65 or older                     AGEYR   \n",
       "13                 Less than $15,000                       INC   \n",
       "14                 $15,000 - $24,999                       INC   \n",
       "15                 $25,000 - $34,999                       INC   \n",
       "16                 $35,000 - $49,999                       INC   \n",
       "17                 $50,000 - $74,999                       INC   \n",
       "18                $75,000 or greater                       INC   \n",
       "19                 Data not reported                       INC   \n",
       "\n",
       "   StratificationID1  \n",
       "0            OVERALL  \n",
       "1               MALE  \n",
       "2             FEMALE  \n",
       "3              EDUHS  \n",
       "4          EDUHSGRAD  \n",
       "5           EDUCOTEC  \n",
       "6          EDUCOGRAD  \n",
       "7          AGEYR1824  \n",
       "8          AGEYR2534  \n",
       "9          AGEYR3544  \n",
       "10         AGEYR4554  \n",
       "11         AGEYR5564  \n",
       "12       AGEYR65PLUS  \n",
       "13         INCLESS15  \n",
       "14           INC1525  \n",
       "15           INC2535  \n",
       "16           INC3550  \n",
       "17           INC5075  \n",
       "18         INC75PLUS  \n",
       "19             INCNR  \n",
       "\n",
       "[20 rows x 33 columns]"
      ]
     },
     "execution_count": 2,
     "metadata": {},
     "output_type": "execute_result"
    }
   ],
   "source": [
    "#importing dataset\n",
    "df = pd.read_csv('Nutrition__Physical_Activity__and_Obesity_-_Behavioral_Risk_Factor_Surveillance_System.csv')\n",
    "df.head(20)"
   ]
  },
  {
   "cell_type": "code",
   "execution_count": 3,
   "id": "59897a23",
   "metadata": {},
   "outputs": [
    {
     "data": {
      "text/plain": [
       "(53392, 33)"
      ]
     },
     "execution_count": 3,
     "metadata": {},
     "output_type": "execute_result"
    }
   ],
   "source": [
    "#checking the shape of dataframe\n",
    "df.shape"
   ]
  },
  {
   "cell_type": "code",
   "execution_count": 4,
   "id": "65ee5b5d",
   "metadata": {},
   "outputs": [
    {
     "name": "stdout",
     "output_type": "stream",
     "text": [
      "<class 'pandas.core.frame.DataFrame'>\n",
      "RangeIndex: 53392 entries, 0 to 53391\n",
      "Data columns (total 33 columns):\n",
      " #   Column                      Non-Null Count  Dtype  \n",
      "---  ------                      --------------  -----  \n",
      " 0   YearStart                   53392 non-null  int64  \n",
      " 1   YearEnd                     53392 non-null  int64  \n",
      " 2   LocationAbbr                53392 non-null  object \n",
      " 3   LocationDesc                53392 non-null  object \n",
      " 4   Datasource                  53392 non-null  object \n",
      " 5   Class                       53392 non-null  object \n",
      " 6   Topic                       53392 non-null  object \n",
      " 7   Question                    53392 non-null  object \n",
      " 8   Data_Value_Unit             0 non-null      float64\n",
      " 9   Data_Value_Type             53392 non-null  object \n",
      " 10  Data_Value                  48346 non-null  float64\n",
      " 11  Data_Value_Alt              48346 non-null  float64\n",
      " 12  Data_Value_Footnote_Symbol  5046 non-null   object \n",
      " 13  Data_Value_Footnote         5046 non-null   object \n",
      " 14  Low_Confidence_Limit        48346 non-null  float64\n",
      " 15  High_Confidence_Limit       48346 non-null  float64\n",
      " 16  Sample_Size                 48346 non-null  float64\n",
      " 17  Total                       1907 non-null   object \n",
      " 18  Age(years)                  11438 non-null  object \n",
      " 19  Education                   7628 non-null   object \n",
      " 20  Gender                      3814 non-null   object \n",
      " 21  Income                      13349 non-null  object \n",
      " 22  Race/Ethnicity              15256 non-null  object \n",
      " 23  GeoLocation                 52384 non-null  object \n",
      " 24  ClassID                     53392 non-null  object \n",
      " 25  TopicID                     53392 non-null  object \n",
      " 26  QuestionID                  53392 non-null  object \n",
      " 27  DataValueTypeID             53392 non-null  object \n",
      " 28  LocationID                  53392 non-null  int64  \n",
      " 29  StratificationCategory1     53392 non-null  object \n",
      " 30  Stratification1             53392 non-null  object \n",
      " 31  StratificationCategoryId1   53392 non-null  object \n",
      " 32  StratificationID1           53392 non-null  object \n",
      "dtypes: float64(6), int64(3), object(24)\n",
      "memory usage: 13.4+ MB\n"
     ]
    }
   ],
   "source": [
    "#getting to know the data\n",
    "df.info()"
   ]
  },
  {
   "cell_type": "code",
   "execution_count": 5,
   "id": "b0eed44e",
   "metadata": {},
   "outputs": [
    {
     "data": {
      "text/html": [
       "<div>\n",
       "<style scoped>\n",
       "    .dataframe tbody tr th:only-of-type {\n",
       "        vertical-align: middle;\n",
       "    }\n",
       "\n",
       "    .dataframe tbody tr th {\n",
       "        vertical-align: top;\n",
       "    }\n",
       "\n",
       "    .dataframe thead th {\n",
       "        text-align: right;\n",
       "    }\n",
       "</style>\n",
       "<table border=\"1\" class=\"dataframe\">\n",
       "  <thead>\n",
       "    <tr style=\"text-align: right;\">\n",
       "      <th></th>\n",
       "      <th>YearStart</th>\n",
       "      <th>YearEnd</th>\n",
       "      <th>Data_Value_Unit</th>\n",
       "      <th>Data_Value</th>\n",
       "      <th>Data_Value_Alt</th>\n",
       "      <th>Low_Confidence_Limit</th>\n",
       "      <th>High_Confidence_Limit</th>\n",
       "      <th>Sample_Size</th>\n",
       "      <th>LocationID</th>\n",
       "    </tr>\n",
       "  </thead>\n",
       "  <tbody>\n",
       "    <tr>\n",
       "      <th>count</th>\n",
       "      <td>53392.000000</td>\n",
       "      <td>53392.000000</td>\n",
       "      <td>0.0</td>\n",
       "      <td>48346.000000</td>\n",
       "      <td>48346.000000</td>\n",
       "      <td>48346.000000</td>\n",
       "      <td>48346.000000</td>\n",
       "      <td>48346.00000</td>\n",
       "      <td>53392.000000</td>\n",
       "    </tr>\n",
       "    <tr>\n",
       "      <th>mean</th>\n",
       "      <td>2013.281465</td>\n",
       "      <td>2013.281465</td>\n",
       "      <td>NaN</td>\n",
       "      <td>31.156681</td>\n",
       "      <td>31.156681</td>\n",
       "      <td>26.892227</td>\n",
       "      <td>35.989997</td>\n",
       "      <td>3889.19286</td>\n",
       "      <td>30.282215</td>\n",
       "    </tr>\n",
       "    <tr>\n",
       "      <th>std</th>\n",
       "      <td>1.693300</td>\n",
       "      <td>1.693300</td>\n",
       "      <td>NaN</td>\n",
       "      <td>10.247033</td>\n",
       "      <td>10.247033</td>\n",
       "      <td>10.038584</td>\n",
       "      <td>11.205813</td>\n",
       "      <td>19829.42129</td>\n",
       "      <td>16.821318</td>\n",
       "    </tr>\n",
       "    <tr>\n",
       "      <th>min</th>\n",
       "      <td>2011.000000</td>\n",
       "      <td>2011.000000</td>\n",
       "      <td>NaN</td>\n",
       "      <td>0.900000</td>\n",
       "      <td>0.900000</td>\n",
       "      <td>0.300000</td>\n",
       "      <td>3.000000</td>\n",
       "      <td>50.00000</td>\n",
       "      <td>1.000000</td>\n",
       "    </tr>\n",
       "    <tr>\n",
       "      <th>25%</th>\n",
       "      <td>2012.000000</td>\n",
       "      <td>2012.000000</td>\n",
       "      <td>NaN</td>\n",
       "      <td>24.100000</td>\n",
       "      <td>24.100000</td>\n",
       "      <td>20.000000</td>\n",
       "      <td>28.200000</td>\n",
       "      <td>566.00000</td>\n",
       "      <td>17.000000</td>\n",
       "    </tr>\n",
       "    <tr>\n",
       "      <th>50%</th>\n",
       "      <td>2013.000000</td>\n",
       "      <td>2013.000000</td>\n",
       "      <td>NaN</td>\n",
       "      <td>30.700000</td>\n",
       "      <td>30.700000</td>\n",
       "      <td>26.450000</td>\n",
       "      <td>35.600000</td>\n",
       "      <td>1209.00000</td>\n",
       "      <td>30.000000</td>\n",
       "    </tr>\n",
       "    <tr>\n",
       "      <th>75%</th>\n",
       "      <td>2015.000000</td>\n",
       "      <td>2015.000000</td>\n",
       "      <td>NaN</td>\n",
       "      <td>37.000000</td>\n",
       "      <td>37.000000</td>\n",
       "      <td>32.900000</td>\n",
       "      <td>42.200000</td>\n",
       "      <td>2519.00000</td>\n",
       "      <td>44.000000</td>\n",
       "    </tr>\n",
       "    <tr>\n",
       "      <th>max</th>\n",
       "      <td>2016.000000</td>\n",
       "      <td>2016.000000</td>\n",
       "      <td>NaN</td>\n",
       "      <td>77.600000</td>\n",
       "      <td>77.600000</td>\n",
       "      <td>69.500000</td>\n",
       "      <td>87.700000</td>\n",
       "      <td>476876.00000</td>\n",
       "      <td>78.000000</td>\n",
       "    </tr>\n",
       "  </tbody>\n",
       "</table>\n",
       "</div>"
      ],
      "text/plain": [
       "          YearStart       YearEnd  Data_Value_Unit    Data_Value  \\\n",
       "count  53392.000000  53392.000000              0.0  48346.000000   \n",
       "mean    2013.281465   2013.281465              NaN     31.156681   \n",
       "std        1.693300      1.693300              NaN     10.247033   \n",
       "min     2011.000000   2011.000000              NaN      0.900000   \n",
       "25%     2012.000000   2012.000000              NaN     24.100000   \n",
       "50%     2013.000000   2013.000000              NaN     30.700000   \n",
       "75%     2015.000000   2015.000000              NaN     37.000000   \n",
       "max     2016.000000   2016.000000              NaN     77.600000   \n",
       "\n",
       "       Data_Value_Alt  Low_Confidence_Limit  High_Confidence_Limit   \\\n",
       "count    48346.000000          48346.000000            48346.000000   \n",
       "mean        31.156681             26.892227               35.989997   \n",
       "std         10.247033             10.038584               11.205813   \n",
       "min          0.900000              0.300000                3.000000   \n",
       "25%         24.100000             20.000000               28.200000   \n",
       "50%         30.700000             26.450000               35.600000   \n",
       "75%         37.000000             32.900000               42.200000   \n",
       "max         77.600000             69.500000               87.700000   \n",
       "\n",
       "        Sample_Size    LocationID  \n",
       "count   48346.00000  53392.000000  \n",
       "mean     3889.19286     30.282215  \n",
       "std     19829.42129     16.821318  \n",
       "min        50.00000      1.000000  \n",
       "25%       566.00000     17.000000  \n",
       "50%      1209.00000     30.000000  \n",
       "75%      2519.00000     44.000000  \n",
       "max    476876.00000     78.000000  "
      ]
     },
     "execution_count": 5,
     "metadata": {},
     "output_type": "execute_result"
    }
   ],
   "source": [
    "df.describe()"
   ]
  },
  {
   "cell_type": "code",
   "execution_count": 6,
   "id": "3026d8ed",
   "metadata": {},
   "outputs": [
    {
     "data": {
      "text/plain": [
       "YearStart                       0.000000\n",
       "YearEnd                         0.000000\n",
       "LocationAbbr                    0.000000\n",
       "LocationDesc                    0.000000\n",
       "Datasource                      0.000000\n",
       "Class                           0.000000\n",
       "Topic                           0.000000\n",
       "Question                        0.000000\n",
       "Data_Value_Unit               100.000000\n",
       "Data_Value_Type                 0.000000\n",
       "Data_Value                      9.450854\n",
       "Data_Value_Alt                  9.450854\n",
       "Data_Value_Footnote_Symbol     90.549146\n",
       "Data_Value_Footnote            90.549146\n",
       "Low_Confidence_Limit            9.450854\n",
       "High_Confidence_Limit           9.450854\n",
       "Sample_Size                     9.450854\n",
       "Total                          96.428304\n",
       "Age(years)                     78.577315\n",
       "Education                      85.713215\n",
       "Gender                         92.856608\n",
       "Income                         74.998127\n",
       "Race/Ethnicity                 71.426431\n",
       "GeoLocation                     1.887923\n",
       "ClassID                         0.000000\n",
       "TopicID                         0.000000\n",
       "QuestionID                      0.000000\n",
       "DataValueTypeID                 0.000000\n",
       "LocationID                      0.000000\n",
       "StratificationCategory1         0.000000\n",
       "Stratification1                 0.000000\n",
       "StratificationCategoryId1       0.000000\n",
       "StratificationID1               0.000000\n",
       "dtype: float64"
      ]
     },
     "execution_count": 6,
     "metadata": {},
     "output_type": "execute_result"
    }
   ],
   "source": [
    "#checking the missing values\n",
    "df.isnull().sum()/len(df)*100"
   ]
  },
  {
   "cell_type": "markdown",
   "id": "f2baa973",
   "metadata": {},
   "source": [
    "### columns which have more than 70% null values will not give any value "
   ]
  },
  {
   "cell_type": "code",
   "execution_count": 7,
   "id": "3577f61a",
   "metadata": {},
   "outputs": [
    {
     "name": "stdout",
     "output_type": "stream",
     "text": [
      "(53392, 33)\n",
      "(53392, 22)\n"
     ]
    }
   ],
   "source": [
    "#dropping the columns\n",
    "print(df.shape)\n",
    "df.drop(['Data_Value_Unit','Data_Value_Type','Datasource','Data_Value_Footnote_Symbol','Data_Value_Footnote','Total','Age(years)','Education','Gender','Income','Race/Ethnicity'],inplace=True,axis=1)\n",
    "print(df.shape)"
   ]
  },
  {
   "cell_type": "code",
   "execution_count": 8,
   "id": "fdd1934e",
   "metadata": {},
   "outputs": [
    {
     "name": "stdout",
     "output_type": "stream",
     "text": [
      "<class 'pandas.core.frame.DataFrame'>\n",
      "RangeIndex: 53392 entries, 0 to 53391\n",
      "Data columns (total 22 columns):\n",
      " #   Column                     Non-Null Count  Dtype  \n",
      "---  ------                     --------------  -----  \n",
      " 0   YearStart                  53392 non-null  int64  \n",
      " 1   YearEnd                    53392 non-null  int64  \n",
      " 2   LocationAbbr               53392 non-null  object \n",
      " 3   LocationDesc               53392 non-null  object \n",
      " 4   Class                      53392 non-null  object \n",
      " 5   Topic                      53392 non-null  object \n",
      " 6   Question                   53392 non-null  object \n",
      " 7   Data_Value                 48346 non-null  float64\n",
      " 8   Data_Value_Alt             48346 non-null  float64\n",
      " 9   Low_Confidence_Limit       48346 non-null  float64\n",
      " 10  High_Confidence_Limit      48346 non-null  float64\n",
      " 11  Sample_Size                48346 non-null  float64\n",
      " 12  GeoLocation                52384 non-null  object \n",
      " 13  ClassID                    53392 non-null  object \n",
      " 14  TopicID                    53392 non-null  object \n",
      " 15  QuestionID                 53392 non-null  object \n",
      " 16  DataValueTypeID            53392 non-null  object \n",
      " 17  LocationID                 53392 non-null  int64  \n",
      " 18  StratificationCategory1    53392 non-null  object \n",
      " 19  Stratification1            53392 non-null  object \n",
      " 20  StratificationCategoryId1  53392 non-null  object \n",
      " 21  StratificationID1          53392 non-null  object \n",
      "dtypes: float64(5), int64(3), object(14)\n",
      "memory usage: 9.0+ MB\n"
     ]
    }
   ],
   "source": [
    "df.info()"
   ]
  },
  {
   "cell_type": "code",
   "execution_count": 9,
   "id": "dfd67722",
   "metadata": {},
   "outputs": [
    {
     "data": {
      "text/plain": [
       "55"
      ]
     },
     "execution_count": 9,
     "metadata": {},
     "output_type": "execute_result"
    }
   ],
   "source": [
    "#checking the no. of classes\n",
    "df.LocationAbbr.value_counts().count()"
   ]
  },
  {
   "cell_type": "code",
   "execution_count": 10,
   "id": "ae2d5b7b",
   "metadata": {},
   "outputs": [
    {
     "name": "stdout",
     "output_type": "stream",
     "text": [
      "(53392, 22)\n",
      "(53392, 21)\n"
     ]
    }
   ],
   "source": [
    "#this has more unique values so we will drop\n",
    "print(df.shape)\n",
    "df.drop('LocationAbbr',inplace=True,axis=1)\n",
    "print(df.shape)"
   ]
  },
  {
   "cell_type": "code",
   "execution_count": 11,
   "id": "b4f7f4fe",
   "metadata": {},
   "outputs": [
    {
     "data": {
      "text/plain": [
       "55"
      ]
     },
     "execution_count": 11,
     "metadata": {},
     "output_type": "execute_result"
    }
   ],
   "source": [
    "#checking the no. of classes\n",
    "df.LocationDesc.value_counts().count()"
   ]
  },
  {
   "cell_type": "code",
   "execution_count": 12,
   "id": "a2396568",
   "metadata": {},
   "outputs": [
    {
     "name": "stdout",
     "output_type": "stream",
     "text": [
      "(53392, 21)\n",
      "(53392, 20)\n"
     ]
    }
   ],
   "source": [
    "#dropping because it has more unique classes\n",
    "print(df.shape)\n",
    "df.drop('LocationDesc',inplace=True,axis=1)\n",
    "print(df.shape)"
   ]
  },
  {
   "cell_type": "code",
   "execution_count": 13,
   "id": "4ac0afda",
   "metadata": {},
   "outputs": [
    {
     "data": {
      "text/plain": [
       "Physical Activity          26628\n",
       "Obesity / Weight Status    17920\n",
       "Fruits and Vegetables       8844\n",
       "Name: Class, dtype: int64"
      ]
     },
     "execution_count": 13,
     "metadata": {},
     "output_type": "execute_result"
    }
   ],
   "source": [
    "df.Class.value_counts()"
   ]
  },
  {
   "cell_type": "code",
   "execution_count": 14,
   "id": "0daae76a",
   "metadata": {},
   "outputs": [
    {
     "data": {
      "image/png": "[encoded data removed]",
      "text/plain": [
       "<Figure size 432x288 with 1 Axes>"
      ]
     },
     "metadata": {},
     "output_type": "display_data"
    }
   ],
   "source": [
    "plt.pie(df.Class.value_counts(),autopct='%0.02f',labels=['Physical Activity','Obesity / Weight Status','Fruits and Vegetables'])\n",
    "plt.title('Class')\n",
    "plt.show()"
   ]
  },
  {
   "cell_type": "code",
   "execution_count": 15,
   "id": "b78964a9",
   "metadata": {},
   "outputs": [
    {
     "data": {
      "text/plain": [
       "5     26628\n",
       "1     17920\n",
       "90     8844\n",
       "Name: Class, dtype: int64"
      ]
     },
     "execution_count": 15,
     "metadata": {},
     "output_type": "execute_result"
    }
   ],
   "source": [
    "df.Class = df.Class.map({'Physical Activity':5,'Obesity / Weight Status':1,'Fruits and Vegetables':90})\n",
    "df.Class.value_counts()"
   ]
  },
  {
   "cell_type": "code",
   "execution_count": 16,
   "id": "a6c08cf9",
   "metadata": {},
   "outputs": [
    {
     "data": {
      "text/plain": [
       "Percent of adults aged 18 years and older who have an overweight classification                                                                                                                                                                          16.781540\n",
       "Percent of adults aged 18 years and older who have obesity                                                                                                                                                                                               16.781540\n",
       "Percent of adults who engage in no leisure-time physical activity                                                                                                                                                                                        16.729098\n",
       "Percent of adults who achieve at least 150 minutes a week of moderate-intensity aerobic physical activity or 75 minutes a week of vigorous-intensity aerobic physical activity and engage in muscle-strengthening activities on 2 or more days a week     8.285886\n",
       "Percent of adults who engage in muscle-strengthening activities on 2 or more days a week                                                                                                                                                                  8.285886\n",
       "Percent of adults who achieve at least 150 minutes a week of moderate-intensity aerobic physical activity or 75 minutes a week of vigorous-intensity aerobic activity (or an equivalent combination)                                                      8.285886\n",
       "Percent of adults who report consuming vegetables less than one time daily                                                                                                                                                                                8.285886\n",
       "Percent of adults who achieve at least 300 minutes a week of moderate-intensity aerobic physical activity or 150 minutes a week of vigorous-intensity aerobic activity (or an equivalent combination)                                                     8.285886\n",
       "Percent of adults who report consuming fruit less than one time daily                                                                                                                                                                                     8.278394\n",
       "Name: Question, dtype: float64"
      ]
     },
     "execution_count": 16,
     "metadata": {},
     "output_type": "execute_result"
    }
   ],
   "source": [
    "df.Question.value_counts()/len(df)*100"
   ]
  },
  {
   "cell_type": "code",
   "execution_count": 17,
   "id": "56f9e97e",
   "metadata": {},
   "outputs": [
    {
     "data": {
      "text/plain": [
       "1      8960\n",
       "5      8960\n",
       "22     8932\n",
       "256    4424\n",
       "43     4424\n",
       "24     4424\n",
       "56     4424\n",
       "90     4424\n",
       "35     4420\n",
       "Name: Question, dtype: int64"
      ]
     },
     "execution_count": 17,
     "metadata": {},
     "output_type": "execute_result"
    }
   ],
   "source": [
    "df.Question = df.Question.map({'Percent of adults aged 18 years and older who have an overweight classification':1,'Percent of adults aged 18 years and older who have obesity':5,'Percent of adults who engage in no leisure-time physical activity':22,'Percent of adults who achieve at least 300 minutes a week of moderate-intensity aerobic physical activity or 150 minutes a week of vigorous-intensity aerobic activity (or an equivalent combination)':24,'Percent of adults who achieve at least 150 minutes a week of moderate-intensity aerobic physical activity or 75 minutes a week of vigorous-intensity aerobic activity (or an equivalent combination)':90,'Percent of adults who achieve at least 150 minutes a week of moderate-intensity aerobic physical activity or 75 minutes a week of vigorous-intensity aerobic physical activity and engage in muscle-strengthening activities on 2 or more days a week':56,'Percent of adults who engage in muscle-strengthening activities on 2 or more days a week':43,'Percent of adults who report consuming vegetables less than one time daily':256,'Percent of adults who report consuming fruit less than one time daily':35})\n",
    "df.Question.value_counts()"
   ]
  },
  {
   "cell_type": "code",
   "execution_count": 18,
   "id": "ba784942",
   "metadata": {},
   "outputs": [
    {
     "data": {
      "text/plain": [
       "Physical Activity - Behavior        26628\n",
       "Obesity / Weight Status             17920\n",
       "Fruits and Vegetables - Behavior     8844\n",
       "Name: Topic, dtype: int64"
      ]
     },
     "execution_count": 18,
     "metadata": {},
     "output_type": "execute_result"
    }
   ],
   "source": [
    "df.Topic.value_counts()"
   ]
  },
  {
   "cell_type": "code",
   "execution_count": 19,
   "id": "6275340f",
   "metadata": {},
   "outputs": [
    {
     "data": {
      "image/png": "[encoded data removed]",
      "text/plain": [
       "<Figure size 432x288 with 1 Axes>"
      ]
     },
     "metadata": {},
     "output_type": "display_data"
    }
   ],
   "source": [
    "plt.pie(df.Topic.value_counts(),autopct='%0.02f',labels=['Physical Activity','Obesity / Weight Status','Fruits and Vegetables'])\n",
    "plt.title('Topic')\n",
    "plt.show()"
   ]
  },
  {
   "cell_type": "code",
   "execution_count": 20,
   "id": "01d2a074",
   "metadata": {},
   "outputs": [
    {
     "name": "stdout",
     "output_type": "stream",
     "text": [
      "(53392, 20)\n",
      "(53392, 19)\n"
     ]
    }
   ],
   "source": [
    "#as topic is duplicate of class column we will drop\n",
    "print(df.shape)\n",
    "df.drop('Topic',inplace=True,axis=1)\n",
    "print(df.shape)\n"
   ]
  },
  {
   "cell_type": "code",
   "execution_count": 21,
   "id": "169525c4",
   "metadata": {},
   "outputs": [
    {
     "name": "stdout",
     "output_type": "stream",
     "text": [
      "<class 'pandas.core.frame.DataFrame'>\n",
      "RangeIndex: 53392 entries, 0 to 53391\n",
      "Data columns (total 19 columns):\n",
      " #   Column                     Non-Null Count  Dtype  \n",
      "---  ------                     --------------  -----  \n",
      " 0   YearStart                  53392 non-null  int64  \n",
      " 1   YearEnd                    53392 non-null  int64  \n",
      " 2   Class                      53392 non-null  int64  \n",
      " 3   Question                   53392 non-null  int64  \n",
      " 4   Data_Value                 48346 non-null  float64\n",
      " 5   Data_Value_Alt             48346 non-null  float64\n",
      " 6   Low_Confidence_Limit       48346 non-null  float64\n",
      " 7   High_Confidence_Limit      48346 non-null  float64\n",
      " 8   Sample_Size                48346 non-null  float64\n",
      " 9   GeoLocation                52384 non-null  object \n",
      " 10  ClassID                    53392 non-null  object \n",
      " 11  TopicID                    53392 non-null  object \n",
      " 12  QuestionID                 53392 non-null  object \n",
      " 13  DataValueTypeID            53392 non-null  object \n",
      " 14  LocationID                 53392 non-null  int64  \n",
      " 15  StratificationCategory1    53392 non-null  object \n",
      " 16  Stratification1            53392 non-null  object \n",
      " 17  StratificationCategoryId1  53392 non-null  object \n",
      " 18  StratificationID1          53392 non-null  object \n",
      "dtypes: float64(5), int64(5), object(9)\n",
      "memory usage: 7.7+ MB\n"
     ]
    }
   ],
   "source": [
    "df.info()"
   ]
  },
  {
   "cell_type": "code",
   "execution_count": 22,
   "id": "179b4733",
   "metadata": {},
   "outputs": [
    {
     "data": {
      "text/plain": [
       "54"
      ]
     },
     "execution_count": 22,
     "metadata": {},
     "output_type": "execute_result"
    }
   ],
   "source": [
    "df.GeoLocation.value_counts().count()"
   ]
  },
  {
   "cell_type": "code",
   "execution_count": 23,
   "id": "fd307f65",
   "metadata": {},
   "outputs": [
    {
     "name": "stdout",
     "output_type": "stream",
     "text": [
      "(53392, 19)\n",
      "(53392, 18)\n"
     ]
    }
   ],
   "source": [
    "#as the classes are more we will drop\n",
    "print(df.shape)\n",
    "df.drop('GeoLocation',inplace=True,axis=1)\n",
    "print(df.shape)"
   ]
  },
  {
   "cell_type": "code",
   "execution_count": 24,
   "id": "dae76e04",
   "metadata": {},
   "outputs": [
    {
     "data": {
      "text/plain": [
       "PA     26628\n",
       "OWS    17920\n",
       "FV      8844\n",
       "Name: ClassID, dtype: int64"
      ]
     },
     "execution_count": 24,
     "metadata": {},
     "output_type": "execute_result"
    }
   ],
   "source": [
    "df.ClassID.value_counts()"
   ]
  },
  {
   "cell_type": "code",
   "execution_count": 25,
   "id": "b65bee85",
   "metadata": {},
   "outputs": [
    {
     "data": {
      "image/png": "[encoded data removed]",
      "text/plain": [
       "<Figure size 432x288 with 1 Axes>"
      ]
     },
     "metadata": {},
     "output_type": "display_data"
    }
   ],
   "source": [
    "plt.pie(df.ClassID.value_counts(),autopct='%0.02f',labels=['PA','OWS','FV'])\n",
    "plt.title('ClassID')\n",
    "plt.show()\n",
    "#this is same as class column so should be dropped"
   ]
  },
  {
   "cell_type": "code",
   "execution_count": 26,
   "id": "9864cb11",
   "metadata": {},
   "outputs": [
    {
     "data": {
      "text/plain": [
       "PA1     26628\n",
       "OWS1    17920\n",
       "FV1      8844\n",
       "Name: TopicID, dtype: int64"
      ]
     },
     "execution_count": 26,
     "metadata": {},
     "output_type": "execute_result"
    }
   ],
   "source": [
    "df.TopicID.value_counts()"
   ]
  },
  {
   "cell_type": "code",
   "execution_count": 27,
   "id": "3a9b5698",
   "metadata": {},
   "outputs": [
    {
     "data": {
      "image/png": "[encoded data removed]",
      "text/plain": [
       "<Figure size 432x288 with 1 Axes>"
      ]
     },
     "metadata": {},
     "output_type": "display_data"
    }
   ],
   "source": [
    "plt.pie(df.TopicID.value_counts(),autopct='%0.02f',labels=['PA1','OWS1','FV1'])\n",
    "plt.title(\"TopicID\")\n",
    "plt.show()\n",
    "#this same as topic and should be dropped"
   ]
  },
  {
   "cell_type": "code",
   "execution_count": 28,
   "id": "8c7f3c4f",
   "metadata": {},
   "outputs": [
    {
     "data": {
      "text/plain": [
       "Q037    8960\n",
       "Q036    8960\n",
       "Q047    8932\n",
       "Q045    4424\n",
       "Q044    4424\n",
       "Q019    4424\n",
       "Q043    4424\n",
       "Q046    4424\n",
       "Q018    4420\n",
       "Name: QuestionID, dtype: int64"
      ]
     },
     "execution_count": 28,
     "metadata": {},
     "output_type": "execute_result"
    }
   ],
   "source": [
    "df.QuestionID.value_counts()\n",
    "#this is same as Question column so should be dropped"
   ]
  },
  {
   "cell_type": "code",
   "execution_count": 29,
   "id": "7a7b4b90",
   "metadata": {},
   "outputs": [
    {
     "data": {
      "text/plain": [
       "VALUE    53392\n",
       "Name: DataValueTypeID, dtype: int64"
      ]
     },
     "execution_count": 29,
     "metadata": {},
     "output_type": "execute_result"
    }
   ],
   "source": [
    "df.DataValueTypeID.value_counts()\n",
    "#this is highly imbalanced column should be dropped"
   ]
  },
  {
   "cell_type": "code",
   "execution_count": 30,
   "id": "cbd6e08a",
   "metadata": {},
   "outputs": [
    {
     "name": "stdout",
     "output_type": "stream",
     "text": [
      "(53392, 18)\n",
      "(53392, 14)\n"
     ]
    }
   ],
   "source": [
    "#dropping all above mentioned column\n",
    "print(df.shape)\n",
    "df.drop(['ClassID','TopicID','QuestionID','DataValueTypeID'],inplace=True,axis=1)\n",
    "print(df.shape)"
   ]
  },
  {
   "cell_type": "code",
   "execution_count": 31,
   "id": "b87720f3",
   "metadata": {},
   "outputs": [
    {
     "data": {
      "text/plain": [
       "Race/Ethnicity    15256\n",
       "Income            13349\n",
       "Age (years)       11438\n",
       "Education          7628\n",
       "Gender             3814\n",
       "Total              1907\n",
       "Name: StratificationCategory1, dtype: int64"
      ]
     },
     "execution_count": 31,
     "metadata": {},
     "output_type": "execute_result"
    }
   ],
   "source": [
    "df.StratificationCategory1.value_counts()"
   ]
  },
  {
   "cell_type": "code",
   "execution_count": 32,
   "id": "b4eee397",
   "metadata": {},
   "outputs": [
    {
     "data": {
      "image/png": "[encoded data removed]",
      "text/plain": [
       "<Figure size 432x288 with 1 Axes>"
      ]
     },
     "metadata": {
      "needs_background": "light"
     },
     "output_type": "display_data"
    }
   ],
   "source": [
    "df.StratificationCategory1.value_counts().plot.barh()\n",
    "plt.show()"
   ]
  },
  {
   "cell_type": "code",
   "execution_count": 33,
   "id": "3653def2",
   "metadata": {},
   "outputs": [
    {
     "data": {
      "text/plain": [
       "3     15256\n",
       "7     13349\n",
       "90    11438\n",
       "55     7628\n",
       "88     3814\n",
       "43     1907\n",
       "Name: StratificationCategory1, dtype: int64"
      ]
     },
     "execution_count": 33,
     "metadata": {},
     "output_type": "execute_result"
    }
   ],
   "source": [
    "#performing label encoding\n",
    "df.StratificationCategory1 = df.StratificationCategory1.map({'Race/Ethnicity':3,'Income':7,'Age (years)':90,'Education':55,'Gender':88,'Total':43})\n",
    "df.StratificationCategory1.value_counts()"
   ]
  },
  {
   "cell_type": "code",
   "execution_count": 34,
   "id": "8c689d0c",
   "metadata": {},
   "outputs": [
    {
     "data": {
      "text/plain": [
       "55"
      ]
     },
     "execution_count": 34,
     "metadata": {},
     "output_type": "execute_result"
    }
   ],
   "source": [
    "df.LocationID.value_counts().count()\n",
    "#this too many classes so should be dropped"
   ]
  },
  {
   "cell_type": "code",
   "execution_count": 35,
   "id": "e4236361",
   "metadata": {},
   "outputs": [
    {
     "name": "stdout",
     "output_type": "stream",
     "text": [
      "(53392, 14)\n",
      "(53392, 13)\n"
     ]
    }
   ],
   "source": [
    "#dropping\n",
    "print(df.shape)\n",
    "df.drop('LocationID',inplace=True,axis=1)\n",
    "print(df.shape)"
   ]
  },
  {
   "cell_type": "code",
   "execution_count": 36,
   "id": "c807a99a",
   "metadata": {},
   "outputs": [
    {
     "data": {
      "text/plain": [
       "Less than high school               1907\n",
       "Female                              1907\n",
       "Other                               1907\n",
       "35 - 44                             1907\n",
       "Male                                1907\n",
       "45 - 54                             1907\n",
       "$75,000 or greater                  1907\n",
       "2 or more races                     1907\n",
       "Hispanic                            1907\n",
       "Asian                               1907\n",
       "$25,000 - $34,999                   1907\n",
       "Non-Hispanic Black                  1907\n",
       "Data not reported                   1907\n",
       "American Indian/Alaska Native       1907\n",
       "High school graduate                1907\n",
       "Total                               1907\n",
       "$15,000 - $24,999                   1907\n",
       "Less than $15,000                   1907\n",
       "Hawaiian/Pacific Islander           1907\n",
       "Some college or technical school    1907\n",
       "College graduate                    1907\n",
       "$50,000 - $74,999                   1907\n",
       "Non-Hispanic White                  1907\n",
       "$35,000 - $49,999                   1907\n",
       "55 - 64                             1906\n",
       "65 or older                         1906\n",
       "18 - 24                             1906\n",
       "25 - 34                             1906\n",
       "Name: Stratification1, dtype: int64"
      ]
     },
     "execution_count": 36,
     "metadata": {},
     "output_type": "execute_result"
    }
   ],
   "source": [
    "df.Stratification1.value_counts()\n",
    "#there is too many classes. it should be dropped"
   ]
  },
  {
   "cell_type": "code",
   "execution_count": 37,
   "id": "a4866759",
   "metadata": {},
   "outputs": [
    {
     "name": "stdout",
     "output_type": "stream",
     "text": [
      "(53392, 13)\n",
      "(53392, 12)\n"
     ]
    }
   ],
   "source": [
    "print(df.shape)\n",
    "df.drop('Stratification1',inplace=True,axis=1)\n",
    "print(df.shape)"
   ]
  },
  {
   "cell_type": "code",
   "execution_count": 38,
   "id": "d5f59e2e",
   "metadata": {},
   "outputs": [
    {
     "data": {
      "text/plain": [
       "RACE     15256\n",
       "INC      13349\n",
       "AGEYR    11438\n",
       "EDU       7628\n",
       "GEN       3814\n",
       "OVR       1907\n",
       "Name: StratificationCategoryId1, dtype: int64"
      ]
     },
     "execution_count": 38,
     "metadata": {},
     "output_type": "execute_result"
    }
   ],
   "source": [
    "df.StratificationCategoryId1.value_counts()\n",
    "# this id column of StratificationCategory1 column and its same so should be dropped"
   ]
  },
  {
   "cell_type": "code",
   "execution_count": 39,
   "id": "3e57aaf4",
   "metadata": {},
   "outputs": [
    {
     "data": {
      "text/plain": [
       "FEMALE         1907\n",
       "EDUHSGRAD      1907\n",
       "AGEYR3544      1907\n",
       "INC75PLUS      1907\n",
       "INCNR          1907\n",
       "RACEHIS        1907\n",
       "INC1525        1907\n",
       "INCLESS15      1907\n",
       "INC5075        1907\n",
       "EDUCOGRAD      1907\n",
       "RACENAA        1907\n",
       "RACE2PLUS      1907\n",
       "MALE           1907\n",
       "RACEOTH        1907\n",
       "RACEASN        1907\n",
       "RACEBLK        1907\n",
       "EDUHS          1907\n",
       "INC2535        1907\n",
       "RACEHPI        1907\n",
       "OVERALL        1907\n",
       "AGEYR4554      1907\n",
       "EDUCOTEC       1907\n",
       "RACEWHT        1907\n",
       "INC3550        1907\n",
       "AGEYR1824      1906\n",
       "AGEYR5564      1906\n",
       "AGEYR2534      1906\n",
       "AGEYR65PLUS    1906\n",
       "Name: StratificationID1, dtype: int64"
      ]
     },
     "execution_count": 39,
     "metadata": {},
     "output_type": "execute_result"
    }
   ],
   "source": [
    "df.StratificationID1.value_counts()\n",
    "#this is id column of Stratification1 column. should be dropped"
   ]
  },
  {
   "cell_type": "code",
   "execution_count": 40,
   "id": "c9f2467f",
   "metadata": {},
   "outputs": [
    {
     "name": "stdout",
     "output_type": "stream",
     "text": [
      "(53392, 12)\n",
      "(53392, 10)\n"
     ]
    }
   ],
   "source": [
    "print(df.shape)\n",
    "df.drop(['StratificationID1','StratificationCategoryId1'],inplace=True,axis=1)\n",
    "print(df.shape)"
   ]
  },
  {
   "cell_type": "markdown",
   "id": "f00cb559",
   "metadata": {},
   "source": [
    "### categorical columns are treated. now numerical columns"
   ]
  },
  {
   "cell_type": "code",
   "execution_count": 41,
   "id": "5c31d2f5",
   "metadata": {},
   "outputs": [
    {
     "data": {
      "text/plain": [
       "5046"
      ]
     },
     "execution_count": 41,
     "metadata": {},
     "output_type": "execute_result"
    }
   ],
   "source": [
    "#to treat missing values we should for ouliers\n",
    "df.Data_Value.isnull().sum()"
   ]
  },
  {
   "cell_type": "code",
   "execution_count": 42,
   "id": "6d8b1c58",
   "metadata": {},
   "outputs": [
    {
     "data": {
      "image/png": "[encoded data removed]",
      "text/plain": [
       "<Figure size 864x432 with 1 Axes>"
      ]
     },
     "metadata": {
      "needs_background": "light"
     },
     "output_type": "display_data"
    }
   ],
   "source": [
    "plt.figure(figsize=(12,6))\n",
    "sns.boxplot(df.Data_Value)\n",
    "plt.title('Data_Value')\n",
    "plt.show()"
   ]
  },
  {
   "cell_type": "code",
   "execution_count": 43,
   "id": "bd747f2f",
   "metadata": {},
   "outputs": [
    {
     "data": {
      "text/plain": [
       "0"
      ]
     },
     "execution_count": 43,
     "metadata": {},
     "output_type": "execute_result"
    }
   ],
   "source": [
    "#there are outliers so we should impute with median\n",
    "df.Data_Value.fillna(df.Data_Value.median,inplace=True)\n",
    "df.Data_Value.isnull().sum()"
   ]
  },
  {
   "cell_type": "code",
   "execution_count": 44,
   "id": "b637bd8c",
   "metadata": {},
   "outputs": [],
   "source": [
    "df['Data_Value'] = pd.to_numeric(df['Data_Value'],errors = 'coerce')"
   ]
  },
  {
   "cell_type": "code",
   "execution_count": 45,
   "id": "729ba925",
   "metadata": {},
   "outputs": [
    {
     "name": "stdout",
     "output_type": "stream",
     "text": [
      "56.349999999999994 4.7500000000000036\n"
     ]
    }
   ],
   "source": [
    "#we have to treat the outliersdf.\n",
    "\n",
    "Data_Value_IQR = df.Data_Value.quantile(0.75) - df.Data_Value.quantile(0.25)\n",
    "Data_Value_high = df.Data_Value.quantile(0.75) + (1.5*Data_Value_IQR)\n",
    "Data_Value_low = df.Data_Value.quantile(0.25) - (1.5*Data_Value_IQR)\n",
    "print(Data_Value_high,Data_Value_low,)"
   ]
  },
  {
   "cell_type": "code",
   "execution_count": 46,
   "id": "04ca4d49",
   "metadata": {},
   "outputs": [
    {
     "data": {
      "text/html": [
       "<div>\n",
       "<style scoped>\n",
       "    .dataframe tbody tr th:only-of-type {\n",
       "        vertical-align: middle;\n",
       "    }\n",
       "\n",
       "    .dataframe tbody tr th {\n",
       "        vertical-align: top;\n",
       "    }\n",
       "\n",
       "    .dataframe thead th {\n",
       "        text-align: right;\n",
       "    }\n",
       "</style>\n",
       "<table border=\"1\" class=\"dataframe\">\n",
       "  <thead>\n",
       "    <tr style=\"text-align: right;\">\n",
       "      <th></th>\n",
       "      <th>YearStart</th>\n",
       "      <th>YearEnd</th>\n",
       "      <th>Class</th>\n",
       "      <th>Question</th>\n",
       "      <th>Data_Value</th>\n",
       "      <th>Data_Value_Alt</th>\n",
       "      <th>Low_Confidence_Limit</th>\n",
       "      <th>High_Confidence_Limit</th>\n",
       "      <th>Sample_Size</th>\n",
       "      <th>StratificationCategory1</th>\n",
       "    </tr>\n",
       "  </thead>\n",
       "  <tbody>\n",
       "    <tr>\n",
       "      <th>count</th>\n",
       "      <td>53392.000000</td>\n",
       "      <td>53392.000000</td>\n",
       "      <td>53392.000000</td>\n",
       "      <td>53392.000000</td>\n",
       "      <td>48346.000000</td>\n",
       "      <td>48346.000000</td>\n",
       "      <td>48346.000000</td>\n",
       "      <td>48346.000000</td>\n",
       "      <td>48346.00000</td>\n",
       "      <td>53392.000000</td>\n",
       "    </tr>\n",
       "    <tr>\n",
       "      <th>mean</th>\n",
       "      <td>2013.281465</td>\n",
       "      <td>2013.281465</td>\n",
       "      <td>17.737114</td>\n",
       "      <td>46.445535</td>\n",
       "      <td>31.156681</td>\n",
       "      <td>31.156681</td>\n",
       "      <td>26.892227</td>\n",
       "      <td>35.989997</td>\n",
       "      <td>3889.19286</td>\n",
       "      <td>37.567501</td>\n",
       "    </tr>\n",
       "    <tr>\n",
       "      <th>std</th>\n",
       "      <td>1.693300</td>\n",
       "      <td>1.693300</td>\n",
       "      <td>32.247863</td>\n",
       "      <td>67.762921</td>\n",
       "      <td>10.247033</td>\n",
       "      <td>10.247033</td>\n",
       "      <td>10.038584</td>\n",
       "      <td>11.205813</td>\n",
       "      <td>19829.42129</td>\n",
       "      <td>37.284972</td>\n",
       "    </tr>\n",
       "    <tr>\n",
       "      <th>min</th>\n",
       "      <td>2011.000000</td>\n",
       "      <td>2011.000000</td>\n",
       "      <td>1.000000</td>\n",
       "      <td>1.000000</td>\n",
       "      <td>0.900000</td>\n",
       "      <td>0.900000</td>\n",
       "      <td>0.300000</td>\n",
       "      <td>3.000000</td>\n",
       "      <td>50.00000</td>\n",
       "      <td>3.000000</td>\n",
       "    </tr>\n",
       "    <tr>\n",
       "      <th>25%</th>\n",
       "      <td>2012.000000</td>\n",
       "      <td>2012.000000</td>\n",
       "      <td>1.000000</td>\n",
       "      <td>5.000000</td>\n",
       "      <td>24.100000</td>\n",
       "      <td>24.100000</td>\n",
       "      <td>20.000000</td>\n",
       "      <td>28.200000</td>\n",
       "      <td>566.00000</td>\n",
       "      <td>3.000000</td>\n",
       "    </tr>\n",
       "    <tr>\n",
       "      <th>50%</th>\n",
       "      <td>2013.000000</td>\n",
       "      <td>2013.000000</td>\n",
       "      <td>5.000000</td>\n",
       "      <td>22.000000</td>\n",
       "      <td>30.700000</td>\n",
       "      <td>30.700000</td>\n",
       "      <td>26.450000</td>\n",
       "      <td>35.600000</td>\n",
       "      <td>1209.00000</td>\n",
       "      <td>7.000000</td>\n",
       "    </tr>\n",
       "    <tr>\n",
       "      <th>75%</th>\n",
       "      <td>2015.000000</td>\n",
       "      <td>2015.000000</td>\n",
       "      <td>5.000000</td>\n",
       "      <td>43.000000</td>\n",
       "      <td>37.000000</td>\n",
       "      <td>37.000000</td>\n",
       "      <td>32.900000</td>\n",
       "      <td>42.200000</td>\n",
       "      <td>2519.00000</td>\n",
       "      <td>88.000000</td>\n",
       "    </tr>\n",
       "    <tr>\n",
       "      <th>max</th>\n",
       "      <td>2016.000000</td>\n",
       "      <td>2016.000000</td>\n",
       "      <td>90.000000</td>\n",
       "      <td>256.000000</td>\n",
       "      <td>77.600000</td>\n",
       "      <td>77.600000</td>\n",
       "      <td>69.500000</td>\n",
       "      <td>87.700000</td>\n",
       "      <td>476876.00000</td>\n",
       "      <td>90.000000</td>\n",
       "    </tr>\n",
       "  </tbody>\n",
       "</table>\n",
       "</div>"
      ],
      "text/plain": [
       "          YearStart       YearEnd         Class      Question    Data_Value  \\\n",
       "count  53392.000000  53392.000000  53392.000000  53392.000000  48346.000000   \n",
       "mean    2013.281465   2013.281465     17.737114     46.445535     31.156681   \n",
       "std        1.693300      1.693300     32.247863     67.762921     10.247033   \n",
       "min     2011.000000   2011.000000      1.000000      1.000000      0.900000   \n",
       "25%     2012.000000   2012.000000      1.000000      5.000000     24.100000   \n",
       "50%     2013.000000   2013.000000      5.000000     22.000000     30.700000   \n",
       "75%     2015.000000   2015.000000      5.000000     43.000000     37.000000   \n",
       "max     2016.000000   2016.000000     90.000000    256.000000     77.600000   \n",
       "\n",
       "       Data_Value_Alt  Low_Confidence_Limit  High_Confidence_Limit   \\\n",
       "count    48346.000000          48346.000000            48346.000000   \n",
       "mean        31.156681             26.892227               35.989997   \n",
       "std         10.247033             10.038584               11.205813   \n",
       "min          0.900000              0.300000                3.000000   \n",
       "25%         24.100000             20.000000               28.200000   \n",
       "50%         30.700000             26.450000               35.600000   \n",
       "75%         37.000000             32.900000               42.200000   \n",
       "max         77.600000             69.500000               87.700000   \n",
       "\n",
       "        Sample_Size  StratificationCategory1  \n",
       "count   48346.00000             53392.000000  \n",
       "mean     3889.19286                37.567501  \n",
       "std     19829.42129                37.284972  \n",
       "min        50.00000                 3.000000  \n",
       "25%       566.00000                 3.000000  \n",
       "50%      1209.00000                 7.000000  \n",
       "75%      2519.00000                88.000000  \n",
       "max    476876.00000                90.000000  "
      ]
     },
     "execution_count": 46,
     "metadata": {},
     "output_type": "execute_result"
    }
   ],
   "source": [
    "df.describe()"
   ]
  },
  {
   "cell_type": "code",
   "execution_count": 47,
   "id": "02b2fa32",
   "metadata": {},
   "outputs": [
    {
     "data": {
      "image/png": "[encoded data removed]",
      "text/plain": [
       "<Figure size 432x288 with 1 Axes>"
      ]
     },
     "metadata": {
      "needs_background": "light"
     },
     "output_type": "display_data"
    }
   ],
   "source": [
    "Data_Value_treated = np.where(df.Data_Value > Data_Value_high,Data_Value_high,df.Data_Value)\n",
    "Data_Value_treated = np.where(Data_Value_treated < Data_Value_low,Data_Value_low,Data_Value_treated)\n",
    "df.Data_Value = pd.DataFrame(Data_Value_treated)\n",
    "sns.boxplot(df.Data_Value)\n",
    "plt.title('Data_Value')\n",
    "plt.show()"
   ]
  },
  {
   "cell_type": "code",
   "execution_count": 48,
   "id": "9f6109f9",
   "metadata": {},
   "outputs": [
    {
     "data": {
      "image/png": "[encoded data removed]",
      "text/plain": [
       "<Figure size 432x288 with 1 Axes>"
      ]
     },
     "metadata": {
      "needs_background": "light"
     },
     "output_type": "display_data"
    },
    {
     "data": {
      "image/png": "[encoded data removed]",
      "text/plain": [
       "<Figure size 432x288 with 1 Axes>"
      ]
     },
     "metadata": {
      "needs_background": "light"
     },
     "output_type": "display_data"
    }
   ],
   "source": [
    "sns.distplot(df['Data_Value'])\n",
    "plt.show()\n",
    "stats.probplot(df.Data_Value,plot=plt)\n",
    "plt.show()\n",
    "#it looks like normal distribution so we will not do transform"
   ]
  },
  {
   "cell_type": "code",
   "execution_count": 49,
   "id": "be5738b2",
   "metadata": {},
   "outputs": [
    {
     "data": {
      "text/plain": [
       "5046"
      ]
     },
     "execution_count": 49,
     "metadata": {},
     "output_type": "execute_result"
    }
   ],
   "source": [
    "df.Data_Value_Alt.isnull().sum()"
   ]
  },
  {
   "cell_type": "code",
   "execution_count": 50,
   "id": "413aeb8c",
   "metadata": {},
   "outputs": [
    {
     "data": {
      "image/png": "[encoded data removed]",
      "text/plain": [
       "<Figure size 432x288 with 1 Axes>"
      ]
     },
     "metadata": {
      "needs_background": "light"
     },
     "output_type": "display_data"
    }
   ],
   "source": [
    "sns.boxplot(df.Data_Value_Alt)\n",
    "plt.title('Data_Value_Alt')\n",
    "plt.show()"
   ]
  },
  {
   "cell_type": "code",
   "execution_count": 51,
   "id": "e5f85a78",
   "metadata": {},
   "outputs": [
    {
     "data": {
      "text/plain": [
       "0"
      ]
     },
     "execution_count": 51,
     "metadata": {},
     "output_type": "execute_result"
    }
   ],
   "source": [
    "#we have outliers so we will impute with median\n",
    "df.Data_Value_Alt.fillna(df.Data_Value_Alt.median(),inplace=True)\n",
    "df.Data_Value_Alt.isnull().sum()"
   ]
  },
  {
   "cell_type": "code",
   "execution_count": 52,
   "id": "a0e0ba92",
   "metadata": {},
   "outputs": [
    {
     "name": "stdout",
     "output_type": "stream",
     "text": [
      "53.39999999999999 7.800000000000001\n"
     ]
    }
   ],
   "source": [
    "Data_Value_Alt_IQR = df.Data_Value_Alt.quantile(0.75)-df.Data_Value_Alt.quantile(0.25)\n",
    "Data_Value_Alt_high = df.Data_Value_Alt.quantile(0.75) + (1.5*Data_Value_Alt_IQR)\n",
    "Data_Value_Alt_low = df.Data_Value_Alt.quantile(0.25) - (1.5*Data_Value_Alt_IQR)\n",
    "print(Data_Value_Alt_high,Data_Value_Alt_low)"
   ]
  },
  {
   "cell_type": "code",
   "execution_count": 53,
   "id": "bda0a434",
   "metadata": {},
   "outputs": [
    {
     "data": {
      "image/png": "[encoded data removed]",
      "text/plain": [
       "<Figure size 432x288 with 1 Axes>"
      ]
     },
     "metadata": {
      "needs_background": "light"
     },
     "output_type": "display_data"
    }
   ],
   "source": [
    "Data_Value_Alt_treated = np.where(df.Data_Value_Alt > Data_Value_Alt_high,Data_Value_Alt_high,df.Data_Value_Alt)\n",
    "Data_Value_Alt_treated = np.where(Data_Value_Alt_treated < Data_Value_Alt_low,Data_Value_Alt_low,Data_Value_Alt_treated)\n",
    "df.Data_Value_Alt = pd.DataFrame(Data_Value_Alt_treated)\n",
    "sns.boxplot(df.Data_Value_Alt)\n",
    "plt.title('Data_Value_Alt')\n",
    "plt.show()"
   ]
  },
  {
   "cell_type": "code",
   "execution_count": 54,
   "id": "cebccfa0",
   "metadata": {},
   "outputs": [
    {
     "data": {
      "image/png": "[encoded data removed]",
      "text/plain": [
       "<Figure size 432x288 with 1 Axes>"
      ]
     },
     "metadata": {
      "needs_background": "light"
     },
     "output_type": "display_data"
    },
    {
     "data": {
      "image/png": "[encoded data removed]",
      "text/plain": [
       "<Figure size 432x288 with 1 Axes>"
      ]
     },
     "metadata": {
      "needs_background": "light"
     },
     "output_type": "display_data"
    }
   ],
   "source": [
    "sns.distplot(df.Data_Value_Alt)\n",
    "plt.show()\n",
    "stats.probplot(df.Data_Value_Alt,plot = plt)\n",
    "plt.show()"
   ]
  },
  {
   "cell_type": "code",
   "execution_count": 55,
   "id": "1b120c37",
   "metadata": {},
   "outputs": [
    {
     "data": {
      "text/plain": [
       "<AxesSubplot:xlabel='Data_Value_Alt', ylabel='Density'>"
      ]
     },
     "execution_count": 55,
     "metadata": {},
     "output_type": "execute_result"
    },
    {
     "data": {
      "image/png": "[encoded data removed]",
      "text/plain": [
       "<Figure size 432x288 with 1 Axes>"
      ]
     },
     "metadata": {
      "needs_background": "light"
     },
     "output_type": "display_data"
    }
   ],
   "source": [
    "df.Data_Value_Alt,a = stats.boxcox(df.Data_Value_Alt)\n",
    "sns.distplot(df.Data_Value_Alt)"
   ]
  },
  {
   "cell_type": "code",
   "execution_count": 56,
   "id": "e6a9315a",
   "metadata": {},
   "outputs": [
    {
     "data": {
      "text/plain": [
       "5046"
      ]
     },
     "execution_count": 56,
     "metadata": {},
     "output_type": "execute_result"
    }
   ],
   "source": [
    "df.Low_Confidence_Limit.isnull().sum()"
   ]
  },
  {
   "cell_type": "code",
   "execution_count": 57,
   "id": "747feaba",
   "metadata": {},
   "outputs": [
    {
     "data": {
      "image/png": "[encoded data removed]",
      "text/plain": [
       "<Figure size 432x288 with 1 Axes>"
      ]
     },
     "metadata": {
      "needs_background": "light"
     },
     "output_type": "display_data"
    }
   ],
   "source": [
    "sns.boxplot(df.Low_Confidence_Limit)\n",
    "plt.title('Low_Confidence_Limit')\n",
    "plt.show()"
   ]
  },
  {
   "cell_type": "code",
   "execution_count": 58,
   "id": "eee4a719",
   "metadata": {},
   "outputs": [
    {
     "data": {
      "text/plain": [
       "0"
      ]
     },
     "execution_count": 58,
     "metadata": {},
     "output_type": "execute_result"
    }
   ],
   "source": [
    "#it has outliers so we will impute with median\n",
    "df.Low_Confidence_Limit.fillna(df.Low_Confidence_Limit.median(),inplace=True)\n",
    "df.Low_Confidence_Limit.isnull().sum()"
   ]
  },
  {
   "cell_type": "code",
   "execution_count": 59,
   "id": "42b203eb",
   "metadata": {},
   "outputs": [
    {
     "name": "stdout",
     "output_type": "stream",
     "text": [
      "49.45000000000001 3.449999999999992\n"
     ]
    }
   ],
   "source": [
    "Low_Confidence_Limit_IQR = df.Low_Confidence_Limit.quantile(0.75) - df.Low_Confidence_Limit.quantile(0.25)\n",
    "Low_Confidence_Limit_high = df.Low_Confidence_Limit.quantile(0.75) + (1.5*Low_Confidence_Limit_IQR)\n",
    "Low_Confidence_Limit_low = df.Low_Confidence_Limit.quantile(0.25) - (1.5*Low_Confidence_Limit_IQR)\n",
    "print(Low_Confidence_Limit_high,Low_Confidence_Limit_low)"
   ]
  },
  {
   "cell_type": "code",
   "execution_count": 60,
   "id": "39e24c95",
   "metadata": {},
   "outputs": [
    {
     "data": {
      "image/png": "[encoded data removed]",
      "text/plain": [
       "<Figure size 432x288 with 1 Axes>"
      ]
     },
     "metadata": {
      "needs_background": "light"
     },
     "output_type": "display_data"
    }
   ],
   "source": [
    "Low_Confidence_Limit_treated = np.where(df.Low_Confidence_Limit > Low_Confidence_Limit_high,Low_Confidence_Limit_high,df.Low_Confidence_Limit)\n",
    "Low_Confidence_Limit_treated = np.where(Low_Confidence_Limit_treated < Low_Confidence_Limit_low,Low_Confidence_Limit_low,Low_Confidence_Limit_treated)\n",
    "df.Low_Confidence_Limit = pd.DataFrame(Low_Confidence_Limit_treated)\n",
    "sns.boxplot(df.Low_Confidence_Limit)\n",
    "plt.title('Low_Confidence_Limit')\n",
    "plt.show()"
   ]
  },
  {
   "cell_type": "code",
   "execution_count": 61,
   "id": "693b5c08",
   "metadata": {},
   "outputs": [
    {
     "data": {
      "image/png": "[encoded data removed]",
      "text/plain": [
       "<Figure size 432x288 with 1 Axes>"
      ]
     },
     "metadata": {
      "needs_background": "light"
     },
     "output_type": "display_data"
    },
    {
     "data": {
      "image/png": "[encoded data removed]",
      "text/plain": [
       "<Figure size 432x288 with 1 Axes>"
      ]
     },
     "metadata": {
      "needs_background": "light"
     },
     "output_type": "display_data"
    }
   ],
   "source": [
    "sns.distplot(df.Low_Confidence_Limit)\n",
    "plt.show()\n",
    "stats.probplot(df.Low_Confidence_Limit,plot=plt)\n",
    "plt.show()"
   ]
  },
  {
   "cell_type": "code",
   "execution_count": 62,
   "id": "7f90330b",
   "metadata": {},
   "outputs": [
    {
     "data": {
      "image/png": "[encoded data removed]",
      "text/plain": [
       "<Figure size 432x288 with 1 Axes>"
      ]
     },
     "metadata": {
      "needs_background": "light"
     },
     "output_type": "display_data"
    }
   ],
   "source": [
    "df.Low_Confidence_Limit,a = stats.boxcox(df.Low_Confidence_Limit)\n",
    "sns.distplot(df.Low_Confidence_Limit)\n",
    "plt.show()"
   ]
  },
  {
   "cell_type": "code",
   "execution_count": 63,
   "id": "5a4e5b3f",
   "metadata": {},
   "outputs": [
    {
     "name": "stdout",
     "output_type": "stream",
     "text": [
      "<class 'pandas.core.frame.DataFrame'>\n",
      "RangeIndex: 53392 entries, 0 to 53391\n",
      "Data columns (total 10 columns):\n",
      " #   Column                   Non-Null Count  Dtype  \n",
      "---  ------                   --------------  -----  \n",
      " 0   YearStart                53392 non-null  int64  \n",
      " 1   YearEnd                  53392 non-null  int64  \n",
      " 2   Class                    53392 non-null  int64  \n",
      " 3   Question                 53392 non-null  int64  \n",
      " 4   Data_Value               48346 non-null  float64\n",
      " 5   Data_Value_Alt           53392 non-null  float64\n",
      " 6   Low_Confidence_Limit     53392 non-null  float64\n",
      " 7   High_Confidence_Limit    48346 non-null  float64\n",
      " 8   Sample_Size              48346 non-null  float64\n",
      " 9   StratificationCategory1  53392 non-null  int64  \n",
      "dtypes: float64(5), int64(5)\n",
      "memory usage: 4.1 MB\n"
     ]
    }
   ],
   "source": [
    "df.info()"
   ]
  },
  {
   "cell_type": "code",
   "execution_count": 64,
   "id": "183cf207",
   "metadata": {},
   "outputs": [
    {
     "data": {
      "text/plain": [
       "5046"
      ]
     },
     "execution_count": 64,
     "metadata": {},
     "output_type": "execute_result"
    }
   ],
   "source": [
    "df.Sample_Size.isnull().sum()"
   ]
  },
  {
   "cell_type": "code",
   "execution_count": 65,
   "id": "0e5bea30",
   "metadata": {},
   "outputs": [
    {
     "data": {
      "image/png": "[encoded data removed]",
      "text/plain": [
       "<Figure size 432x288 with 1 Axes>"
      ]
     },
     "metadata": {
      "needs_background": "light"
     },
     "output_type": "display_data"
    }
   ],
   "source": [
    "sns.boxplot(df.Sample_Size)\n",
    "plt.title('Sample_Size')\n",
    "plt.show()\n"
   ]
  },
  {
   "cell_type": "code",
   "execution_count": 66,
   "id": "35cda6a7",
   "metadata": {},
   "outputs": [
    {
     "name": "stdout",
     "output_type": "stream",
     "text": [
      "5448.5\n"
     ]
    }
   ],
   "source": [
    "Sample_Size_IQR = df.Sample_Size.quantile(0.75) - df.Sample_Size.quantile(0.25)\n",
    "Sample_Size_high = df.Sample_Size.quantile(0.75) + (1.5*Sample_Size_IQR)\n",
    "print(Sample_Size_high)"
   ]
  },
  {
   "cell_type": "code",
   "execution_count": 67,
   "id": "4cbafdee",
   "metadata": {},
   "outputs": [
    {
     "data": {
      "text/plain": [
       "43701"
      ]
     },
     "execution_count": 67,
     "metadata": {},
     "output_type": "execute_result"
    }
   ],
   "source": [
    "df.Sample_Size = df.Sample_Size[df.Sample_Size<Sample_Size_high]\n",
    "df.Sample_Size.count()"
   ]
  },
  {
   "cell_type": "code",
   "execution_count": 68,
   "id": "4448d908",
   "metadata": {},
   "outputs": [
    {
     "name": "stdout",
     "output_type": "stream",
     "text": [
      "(53392, 10)\n",
      "(53392, 9)\n"
     ]
    }
   ],
   "source": [
    "#as there too many outliers we will drop the column\n",
    "print(df.shape)\n",
    "df.drop('Sample_Size',inplace=True,axis=1)\n",
    "print(df.shape)"
   ]
  },
  {
   "cell_type": "code",
   "execution_count": 69,
   "id": "53d26c1b",
   "metadata": {
    "scrolled": true
   },
   "outputs": [
    {
     "data": {
      "text/plain": [
       "0"
      ]
     },
     "execution_count": 69,
     "metadata": {},
     "output_type": "execute_result"
    }
   ],
   "source": [
    "df.YearStart.isnull().sum()"
   ]
  },
  {
   "cell_type": "code",
   "execution_count": 70,
   "id": "4ae7c6d6",
   "metadata": {},
   "outputs": [
    {
     "data": {
      "text/plain": [
       "2015    13604\n",
       "2013    13160\n",
       "2011    13104\n",
       "2016     4620\n",
       "2014     4536\n",
       "2012     4368\n",
       "Name: YearStart, dtype: int64"
      ]
     },
     "execution_count": 70,
     "metadata": {},
     "output_type": "execute_result"
    }
   ],
   "source": [
    "df.YearStart.value_counts()"
   ]
  },
  {
   "cell_type": "code",
   "execution_count": 71,
   "id": "7597cf70",
   "metadata": {},
   "outputs": [
    {
     "data": {
      "text/plain": [
       "0"
      ]
     },
     "execution_count": 71,
     "metadata": {},
     "output_type": "execute_result"
    }
   ],
   "source": [
    "df.YearEnd.isnull().sum()"
   ]
  },
  {
   "cell_type": "code",
   "execution_count": 72,
   "id": "4bc7f6e8",
   "metadata": {},
   "outputs": [
    {
     "data": {
      "text/plain": [
       "2015    13604\n",
       "2013    13160\n",
       "2011    13104\n",
       "2016     4620\n",
       "2014     4536\n",
       "2012     4368\n",
       "Name: YearEnd, dtype: int64"
      ]
     },
     "execution_count": 72,
     "metadata": {},
     "output_type": "execute_result"
    }
   ],
   "source": [
    "df.YearEnd.value_counts()"
   ]
  },
  {
   "cell_type": "code",
   "execution_count": 73,
   "id": "7f6bbd28",
   "metadata": {},
   "outputs": [
    {
     "name": "stdout",
     "output_type": "stream",
     "text": [
      "<class 'pandas.core.frame.DataFrame'>\n",
      "RangeIndex: 53392 entries, 0 to 53391\n",
      "Data columns (total 9 columns):\n",
      " #   Column                   Non-Null Count  Dtype  \n",
      "---  ------                   --------------  -----  \n",
      " 0   YearStart                53392 non-null  int64  \n",
      " 1   YearEnd                  53392 non-null  int64  \n",
      " 2   Class                    53392 non-null  int64  \n",
      " 3   Question                 53392 non-null  int64  \n",
      " 4   Data_Value               48346 non-null  float64\n",
      " 5   Data_Value_Alt           53392 non-null  float64\n",
      " 6   Low_Confidence_Limit     53392 non-null  float64\n",
      " 7   High_Confidence_Limit    48346 non-null  float64\n",
      " 8   StratificationCategory1  53392 non-null  int64  \n",
      "dtypes: float64(4), int64(5)\n",
      "memory usage: 3.7 MB\n"
     ]
    }
   ],
   "source": [
    "df.info()"
   ]
  },
  {
   "cell_type": "code",
   "execution_count": 74,
   "id": "576ffc4d",
   "metadata": {},
   "outputs": [
    {
     "data": {
      "text/html": [
       "<div>\n",
       "<style scoped>\n",
       "    .dataframe tbody tr th:only-of-type {\n",
       "        vertical-align: middle;\n",
       "    }\n",
       "\n",
       "    .dataframe tbody tr th {\n",
       "        vertical-align: top;\n",
       "    }\n",
       "\n",
       "    .dataframe thead th {\n",
       "        text-align: right;\n",
       "    }\n",
       "</style>\n",
       "<table border=\"1\" class=\"dataframe\">\n",
       "  <thead>\n",
       "    <tr style=\"text-align: right;\">\n",
       "      <th></th>\n",
       "      <th>YearStart</th>\n",
       "      <th>YearEnd</th>\n",
       "      <th>Class</th>\n",
       "      <th>Question</th>\n",
       "      <th>Data_Value</th>\n",
       "      <th>Data_Value_Alt</th>\n",
       "      <th>Low_Confidence_Limit</th>\n",
       "      <th>High_Confidence_Limit</th>\n",
       "      <th>StratificationCategory1</th>\n",
       "    </tr>\n",
       "  </thead>\n",
       "  <tbody>\n",
       "    <tr>\n",
       "      <th>0</th>\n",
       "      <td>2011</td>\n",
       "      <td>2011</td>\n",
       "      <td>1</td>\n",
       "      <td>5</td>\n",
       "      <td>32.0</td>\n",
       "      <td>15.746935</td>\n",
       "      <td>16.160320</td>\n",
       "      <td>33.5</td>\n",
       "      <td>43</td>\n",
       "    </tr>\n",
       "    <tr>\n",
       "      <th>1</th>\n",
       "      <td>2011</td>\n",
       "      <td>2011</td>\n",
       "      <td>1</td>\n",
       "      <td>5</td>\n",
       "      <td>32.3</td>\n",
       "      <td>15.863619</td>\n",
       "      <td>15.900009</td>\n",
       "      <td>34.7</td>\n",
       "      <td>88</td>\n",
       "    </tr>\n",
       "    <tr>\n",
       "      <th>2</th>\n",
       "      <td>2011</td>\n",
       "      <td>2011</td>\n",
       "      <td>1</td>\n",
       "      <td>5</td>\n",
       "      <td>31.8</td>\n",
       "      <td>15.668980</td>\n",
       "      <td>15.943483</td>\n",
       "      <td>33.6</td>\n",
       "      <td>88</td>\n",
       "    </tr>\n",
       "    <tr>\n",
       "      <th>3</th>\n",
       "      <td>2011</td>\n",
       "      <td>2011</td>\n",
       "      <td>1</td>\n",
       "      <td>5</td>\n",
       "      <td>33.6</td>\n",
       "      <td>16.365890</td>\n",
       "      <td>15.900009</td>\n",
       "      <td>37.6</td>\n",
       "      <td>55</td>\n",
       "    </tr>\n",
       "    <tr>\n",
       "      <th>4</th>\n",
       "      <td>2011</td>\n",
       "      <td>2011</td>\n",
       "      <td>1</td>\n",
       "      <td>5</td>\n",
       "      <td>32.8</td>\n",
       "      <td>16.057440</td>\n",
       "      <td>16.030323</td>\n",
       "      <td>35.6</td>\n",
       "      <td>55</td>\n",
       "    </tr>\n",
       "    <tr>\n",
       "      <th>5</th>\n",
       "      <td>2011</td>\n",
       "      <td>2011</td>\n",
       "      <td>1</td>\n",
       "      <td>5</td>\n",
       "      <td>33.8</td>\n",
       "      <td>16.442689</td>\n",
       "      <td>16.376288</td>\n",
       "      <td>36.8</td>\n",
       "      <td>55</td>\n",
       "    </tr>\n",
       "    <tr>\n",
       "      <th>6</th>\n",
       "      <td>2011</td>\n",
       "      <td>2011</td>\n",
       "      <td>1</td>\n",
       "      <td>5</td>\n",
       "      <td>26.4</td>\n",
       "      <td>13.509852</td>\n",
       "      <td>13.128360</td>\n",
       "      <td>29.3</td>\n",
       "      <td>55</td>\n",
       "    </tr>\n",
       "    <tr>\n",
       "      <th>7</th>\n",
       "      <td>2011</td>\n",
       "      <td>2011</td>\n",
       "      <td>1</td>\n",
       "      <td>5</td>\n",
       "      <td>16.3</td>\n",
       "      <td>9.104142</td>\n",
       "      <td>7.645826</td>\n",
       "      <td>20.9</td>\n",
       "      <td>90</td>\n",
       "    </tr>\n",
       "    <tr>\n",
       "      <th>8</th>\n",
       "      <td>2011</td>\n",
       "      <td>2011</td>\n",
       "      <td>1</td>\n",
       "      <td>5</td>\n",
       "      <td>35.2</td>\n",
       "      <td>16.976873</td>\n",
       "      <td>16.246811</td>\n",
       "      <td>40.0</td>\n",
       "      <td>90</td>\n",
       "    </tr>\n",
       "    <tr>\n",
       "      <th>9</th>\n",
       "      <td>2011</td>\n",
       "      <td>2011</td>\n",
       "      <td>1</td>\n",
       "      <td>5</td>\n",
       "      <td>35.5</td>\n",
       "      <td>17.090583</td>\n",
       "      <td>16.634327</td>\n",
       "      <td>39.6</td>\n",
       "      <td>90</td>\n",
       "    </tr>\n",
       "    <tr>\n",
       "      <th>10</th>\n",
       "      <td>2011</td>\n",
       "      <td>2011</td>\n",
       "      <td>1</td>\n",
       "      <td>5</td>\n",
       "      <td>38.0</td>\n",
       "      <td>18.028265</td>\n",
       "      <td>17.865113</td>\n",
       "      <td>41.5</td>\n",
       "      <td>90</td>\n",
       "    </tr>\n",
       "    <tr>\n",
       "      <th>11</th>\n",
       "      <td>2011</td>\n",
       "      <td>2011</td>\n",
       "      <td>1</td>\n",
       "      <td>5</td>\n",
       "      <td>36.4</td>\n",
       "      <td>17.430157</td>\n",
       "      <td>17.401366</td>\n",
       "      <td>39.5</td>\n",
       "      <td>90</td>\n",
       "    </tr>\n",
       "    <tr>\n",
       "      <th>12</th>\n",
       "      <td>2011</td>\n",
       "      <td>2011</td>\n",
       "      <td>1</td>\n",
       "      <td>5</td>\n",
       "      <td>27.1</td>\n",
       "      <td>13.796086</td>\n",
       "      <td>13.677478</td>\n",
       "      <td>29.3</td>\n",
       "      <td>90</td>\n",
       "    </tr>\n",
       "    <tr>\n",
       "      <th>13</th>\n",
       "      <td>2011</td>\n",
       "      <td>2011</td>\n",
       "      <td>1</td>\n",
       "      <td>5</td>\n",
       "      <td>38.5</td>\n",
       "      <td>18.213759</td>\n",
       "      <td>17.823106</td>\n",
       "      <td>42.8</td>\n",
       "      <td>7</td>\n",
       "    </tr>\n",
       "    <tr>\n",
       "      <th>14</th>\n",
       "      <td>2011</td>\n",
       "      <td>2011</td>\n",
       "      <td>1</td>\n",
       "      <td>5</td>\n",
       "      <td>34.8</td>\n",
       "      <td>16.824849</td>\n",
       "      <td>16.505459</td>\n",
       "      <td>38.5</td>\n",
       "      <td>7</td>\n",
       "    </tr>\n",
       "    <tr>\n",
       "      <th>15</th>\n",
       "      <td>2011</td>\n",
       "      <td>2011</td>\n",
       "      <td>1</td>\n",
       "      <td>5</td>\n",
       "      <td>35.8</td>\n",
       "      <td>17.204032</td>\n",
       "      <td>16.419379</td>\n",
       "      <td>40.8</td>\n",
       "      <td>7</td>\n",
       "    </tr>\n",
       "    <tr>\n",
       "      <th>16</th>\n",
       "      <td>2011</td>\n",
       "      <td>2011</td>\n",
       "      <td>1</td>\n",
       "      <td>5</td>\n",
       "      <td>32.3</td>\n",
       "      <td>15.863619</td>\n",
       "      <td>15.067067</td>\n",
       "      <td>36.8</td>\n",
       "      <td>7</td>\n",
       "    </tr>\n",
       "    <tr>\n",
       "      <th>17</th>\n",
       "      <td>2011</td>\n",
       "      <td>2011</td>\n",
       "      <td>1</td>\n",
       "      <td>5</td>\n",
       "      <td>34.1</td>\n",
       "      <td>16.557656</td>\n",
       "      <td>15.812955</td>\n",
       "      <td>38.8</td>\n",
       "      <td>7</td>\n",
       "    </tr>\n",
       "    <tr>\n",
       "      <th>18</th>\n",
       "      <td>2011</td>\n",
       "      <td>2011</td>\n",
       "      <td>1</td>\n",
       "      <td>5</td>\n",
       "      <td>28.8</td>\n",
       "      <td>14.483005</td>\n",
       "      <td>13.904352</td>\n",
       "      <td>32.5</td>\n",
       "      <td>7</td>\n",
       "    </tr>\n",
       "    <tr>\n",
       "      <th>19</th>\n",
       "      <td>2011</td>\n",
       "      <td>2011</td>\n",
       "      <td>1</td>\n",
       "      <td>5</td>\n",
       "      <td>23.8</td>\n",
       "      <td>12.427962</td>\n",
       "      <td>11.724539</td>\n",
       "      <td>27.3</td>\n",
       "      <td>7</td>\n",
       "    </tr>\n",
       "  </tbody>\n",
       "</table>\n",
       "</div>"
      ],
      "text/plain": [
       "    YearStart  YearEnd  Class  Question  Data_Value  Data_Value_Alt  \\\n",
       "0        2011     2011      1         5        32.0       15.746935   \n",
       "1        2011     2011      1         5        32.3       15.863619   \n",
       "2        2011     2011      1         5        31.8       15.668980   \n",
       "3        2011     2011      1         5        33.6       16.365890   \n",
       "4        2011     2011      1         5        32.8       16.057440   \n",
       "5        2011     2011      1         5        33.8       16.442689   \n",
       "6        2011     2011      1         5        26.4       13.509852   \n",
       "7        2011     2011      1         5        16.3        9.104142   \n",
       "8        2011     2011      1         5        35.2       16.976873   \n",
       "9        2011     2011      1         5        35.5       17.090583   \n",
       "10       2011     2011      1         5        38.0       18.028265   \n",
       "11       2011     2011      1         5        36.4       17.430157   \n",
       "12       2011     2011      1         5        27.1       13.796086   \n",
       "13       2011     2011      1         5        38.5       18.213759   \n",
       "14       2011     2011      1         5        34.8       16.824849   \n",
       "15       2011     2011      1         5        35.8       17.204032   \n",
       "16       2011     2011      1         5        32.3       15.863619   \n",
       "17       2011     2011      1         5        34.1       16.557656   \n",
       "18       2011     2011      1         5        28.8       14.483005   \n",
       "19       2011     2011      1         5        23.8       12.427962   \n",
       "\n",
       "    Low_Confidence_Limit  High_Confidence_Limit   StratificationCategory1  \n",
       "0              16.160320                    33.5                       43  \n",
       "1              15.900009                    34.7                       88  \n",
       "2              15.943483                    33.6                       88  \n",
       "3              15.900009                    37.6                       55  \n",
       "4              16.030323                    35.6                       55  \n",
       "5              16.376288                    36.8                       55  \n",
       "6              13.128360                    29.3                       55  \n",
       "7               7.645826                    20.9                       90  \n",
       "8              16.246811                    40.0                       90  \n",
       "9              16.634327                    39.6                       90  \n",
       "10             17.865113                    41.5                       90  \n",
       "11             17.401366                    39.5                       90  \n",
       "12             13.677478                    29.3                       90  \n",
       "13             17.823106                    42.8                        7  \n",
       "14             16.505459                    38.5                        7  \n",
       "15             16.419379                    40.8                        7  \n",
       "16             15.067067                    36.8                        7  \n",
       "17             15.812955                    38.8                        7  \n",
       "18             13.904352                    32.5                        7  \n",
       "19             11.724539                    27.3                        7  "
      ]
     },
     "execution_count": 74,
     "metadata": {},
     "output_type": "execute_result"
    }
   ],
   "source": [
    "df.head(20)"
   ]
  },
  {
   "cell_type": "markdown",
   "id": "5a831a0b",
   "metadata": {},
   "source": [
    "## the dataset is treated"
   ]
  }
 ],
 "metadata": {
  "kernelspec": {
   "display_name": "Python 3",
   "language": "python",
   "name": "python3"
  },
  "language_info": {
   "codemirror_mode": {
    "name": "ipython",
    "version": 3
   },
   "file_extension": ".py",
   "mimetype": "text/x-python",
   "name": "python",
   "nbconvert_exporter": "python",
   "pygments_lexer": "ipython3",
   "version": "3.8.8"
  }
 },
 "nbformat": 4,
 "nbformat_minor": 5
}
