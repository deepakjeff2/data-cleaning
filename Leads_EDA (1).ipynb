{
 "cells": [
  {
   "cell_type": "markdown",
   "id": "deab6599",
   "metadata": {},
   "source": [
    "### importing necessary libraries"
   ]
  },
  {
   "cell_type": "code",
   "execution_count": 1,
   "id": "5723bda8",
   "metadata": {},
   "outputs": [],
   "source": [
    "import pandas as pd\n",
    "import numpy as np\n",
    "import matplotlib.pyplot as plt\n",
    "import seaborn as sns\n",
    "import warnings\n",
    "warnings.filterwarnings('ignore')\n",
    "%matplotlib inline\n",
    "import scipy.stats as stats"
   ]
  },
  {
   "cell_type": "markdown",
   "id": "edfe175b",
   "metadata": {},
   "source": [
    "### importing the datasets"
   ]
  },
  {
   "cell_type": "code",
   "execution_count": 4,
   "id": "7c0bb4b2",
   "metadata": {},
   "outputs": [
    {
     "data": {
      "text/plain": [
       "2"
      ]
     },
     "execution_count": 4,
     "metadata": {},
     "output_type": "execute_result"
    }
   ],
   "source": [
    "df['Do Not Call'].value_counts().count()"
   ]
  },
  {
   "cell_type": "code",
   "execution_count": 2,
   "id": "5e171956",
   "metadata": {},
   "outputs": [
    {
     "data": {
      "text/html": [
       "<div>\n",
       "<style scoped>\n",
       "    .dataframe tbody tr th:only-of-type {\n",
       "        vertical-align: middle;\n",
       "    }\n",
       "\n",
       "    .dataframe tbody tr th {\n",
       "        vertical-align: top;\n",
       "    }\n",
       "\n",
       "    .dataframe thead th {\n",
       "        text-align: right;\n",
       "    }\n",
       "</style>\n",
       "<table border=\"1\" class=\"dataframe\">\n",
       "  <thead>\n",
       "    <tr style=\"text-align: right;\">\n",
       "      <th></th>\n",
       "      <th>Prospect ID</th>\n",
       "      <th>Lead Number</th>\n",
       "      <th>Lead Origin</th>\n",
       "      <th>Lead Source</th>\n",
       "      <th>Do Not Email</th>\n",
       "      <th>Do Not Call</th>\n",
       "      <th>Converted</th>\n",
       "      <th>TotalVisits</th>\n",
       "      <th>Total Time Spent on Website</th>\n",
       "      <th>Page Views Per Visit</th>\n",
       "      <th>...</th>\n",
       "      <th>Get updates on DM Content</th>\n",
       "      <th>Lead Profile</th>\n",
       "      <th>City</th>\n",
       "      <th>Asymmetrique Activity Index</th>\n",
       "      <th>Asymmetrique Profile Index</th>\n",
       "      <th>Asymmetrique Activity Score</th>\n",
       "      <th>Asymmetrique Profile Score</th>\n",
       "      <th>I agree to pay the amount through cheque</th>\n",
       "      <th>A free copy of Mastering The Interview</th>\n",
       "      <th>Last Notable Activity</th>\n",
       "    </tr>\n",
       "  </thead>\n",
       "  <tbody>\n",
       "    <tr>\n",
       "      <th>0</th>\n",
       "      <td>7927b2df-8bba-4d29-b9a2-b6e0beafe620</td>\n",
       "      <td>660737</td>\n",
       "      <td>API</td>\n",
       "      <td>Olark Chat</td>\n",
       "      <td>No</td>\n",
       "      <td>No</td>\n",
       "      <td>0</td>\n",
       "      <td>0.0</td>\n",
       "      <td>0</td>\n",
       "      <td>0.0</td>\n",
       "      <td>...</td>\n",
       "      <td>No</td>\n",
       "      <td>Select</td>\n",
       "      <td>Select</td>\n",
       "      <td>02.Medium</td>\n",
       "      <td>02.Medium</td>\n",
       "      <td>15.0</td>\n",
       "      <td>15.0</td>\n",
       "      <td>No</td>\n",
       "      <td>No</td>\n",
       "      <td>Modified</td>\n",
       "    </tr>\n",
       "    <tr>\n",
       "      <th>1</th>\n",
       "      <td>2a272436-5132-4136-86fa-dcc88c88f482</td>\n",
       "      <td>660728</td>\n",
       "      <td>API</td>\n",
       "      <td>Organic Search</td>\n",
       "      <td>No</td>\n",
       "      <td>No</td>\n",
       "      <td>0</td>\n",
       "      <td>5.0</td>\n",
       "      <td>674</td>\n",
       "      <td>2.5</td>\n",
       "      <td>...</td>\n",
       "      <td>No</td>\n",
       "      <td>Select</td>\n",
       "      <td>Select</td>\n",
       "      <td>02.Medium</td>\n",
       "      <td>02.Medium</td>\n",
       "      <td>15.0</td>\n",
       "      <td>15.0</td>\n",
       "      <td>No</td>\n",
       "      <td>No</td>\n",
       "      <td>Email Opened</td>\n",
       "    </tr>\n",
       "    <tr>\n",
       "      <th>2</th>\n",
       "      <td>8cc8c611-a219-4f35-ad23-fdfd2656bd8a</td>\n",
       "      <td>660727</td>\n",
       "      <td>Landing Page Submission</td>\n",
       "      <td>Direct Traffic</td>\n",
       "      <td>No</td>\n",
       "      <td>No</td>\n",
       "      <td>1</td>\n",
       "      <td>2.0</td>\n",
       "      <td>1532</td>\n",
       "      <td>2.0</td>\n",
       "      <td>...</td>\n",
       "      <td>No</td>\n",
       "      <td>Potential Lead</td>\n",
       "      <td>Mumbai</td>\n",
       "      <td>02.Medium</td>\n",
       "      <td>01.High</td>\n",
       "      <td>14.0</td>\n",
       "      <td>20.0</td>\n",
       "      <td>No</td>\n",
       "      <td>Yes</td>\n",
       "      <td>Email Opened</td>\n",
       "    </tr>\n",
       "    <tr>\n",
       "      <th>3</th>\n",
       "      <td>0cc2df48-7cf4-4e39-9de9-19797f9b38cc</td>\n",
       "      <td>660719</td>\n",
       "      <td>Landing Page Submission</td>\n",
       "      <td>Direct Traffic</td>\n",
       "      <td>No</td>\n",
       "      <td>No</td>\n",
       "      <td>0</td>\n",
       "      <td>1.0</td>\n",
       "      <td>305</td>\n",
       "      <td>1.0</td>\n",
       "      <td>...</td>\n",
       "      <td>No</td>\n",
       "      <td>Select</td>\n",
       "      <td>Mumbai</td>\n",
       "      <td>02.Medium</td>\n",
       "      <td>01.High</td>\n",
       "      <td>13.0</td>\n",
       "      <td>17.0</td>\n",
       "      <td>No</td>\n",
       "      <td>No</td>\n",
       "      <td>Modified</td>\n",
       "    </tr>\n",
       "    <tr>\n",
       "      <th>4</th>\n",
       "      <td>3256f628-e534-4826-9d63-4a8b88782852</td>\n",
       "      <td>660681</td>\n",
       "      <td>Landing Page Submission</td>\n",
       "      <td>Google</td>\n",
       "      <td>No</td>\n",
       "      <td>No</td>\n",
       "      <td>1</td>\n",
       "      <td>2.0</td>\n",
       "      <td>1428</td>\n",
       "      <td>1.0</td>\n",
       "      <td>...</td>\n",
       "      <td>No</td>\n",
       "      <td>Select</td>\n",
       "      <td>Mumbai</td>\n",
       "      <td>02.Medium</td>\n",
       "      <td>01.High</td>\n",
       "      <td>15.0</td>\n",
       "      <td>18.0</td>\n",
       "      <td>No</td>\n",
       "      <td>No</td>\n",
       "      <td>Modified</td>\n",
       "    </tr>\n",
       "  </tbody>\n",
       "</table>\n",
       "<p>5 rows × 37 columns</p>\n",
       "</div>"
      ],
      "text/plain": [
       "                            Prospect ID  Lead Number              Lead Origin  \\\n",
       "0  7927b2df-8bba-4d29-b9a2-b6e0beafe620       660737                      API   \n",
       "1  2a272436-5132-4136-86fa-dcc88c88f482       660728                      API   \n",
       "2  8cc8c611-a219-4f35-ad23-fdfd2656bd8a       660727  Landing Page Submission   \n",
       "3  0cc2df48-7cf4-4e39-9de9-19797f9b38cc       660719  Landing Page Submission   \n",
       "4  3256f628-e534-4826-9d63-4a8b88782852       660681  Landing Page Submission   \n",
       "\n",
       "      Lead Source Do Not Email Do Not Call  Converted  TotalVisits  \\\n",
       "0      Olark Chat           No          No          0          0.0   \n",
       "1  Organic Search           No          No          0          5.0   \n",
       "2  Direct Traffic           No          No          1          2.0   \n",
       "3  Direct Traffic           No          No          0          1.0   \n",
       "4          Google           No          No          1          2.0   \n",
       "\n",
       "   Total Time Spent on Website  Page Views Per Visit  ...  \\\n",
       "0                            0                   0.0  ...   \n",
       "1                          674                   2.5  ...   \n",
       "2                         1532                   2.0  ...   \n",
       "3                          305                   1.0  ...   \n",
       "4                         1428                   1.0  ...   \n",
       "\n",
       "  Get updates on DM Content    Lead Profile    City  \\\n",
       "0                        No          Select  Select   \n",
       "1                        No          Select  Select   \n",
       "2                        No  Potential Lead  Mumbai   \n",
       "3                        No          Select  Mumbai   \n",
       "4                        No          Select  Mumbai   \n",
       "\n",
       "  Asymmetrique Activity Index Asymmetrique Profile Index  \\\n",
       "0                   02.Medium                  02.Medium   \n",
       "1                   02.Medium                  02.Medium   \n",
       "2                   02.Medium                    01.High   \n",
       "3                   02.Medium                    01.High   \n",
       "4                   02.Medium                    01.High   \n",
       "\n",
       "  Asymmetrique Activity Score Asymmetrique Profile Score  \\\n",
       "0                        15.0                       15.0   \n",
       "1                        15.0                       15.0   \n",
       "2                        14.0                       20.0   \n",
       "3                        13.0                       17.0   \n",
       "4                        15.0                       18.0   \n",
       "\n",
       "  I agree to pay the amount through cheque  \\\n",
       "0                                       No   \n",
       "1                                       No   \n",
       "2                                       No   \n",
       "3                                       No   \n",
       "4                                       No   \n",
       "\n",
       "  A free copy of Mastering The Interview Last Notable Activity  \n",
       "0                                     No              Modified  \n",
       "1                                     No          Email Opened  \n",
       "2                                    Yes          Email Opened  \n",
       "3                                     No              Modified  \n",
       "4                                     No              Modified  \n",
       "\n",
       "[5 rows x 37 columns]"
      ]
     },
     "execution_count": 2,
     "metadata": {},
     "output_type": "execute_result"
    }
   ],
   "source": [
    "df = pd.read_csv('Leads.csv')\n",
    "df.head()"
   ]
  },
  {
   "cell_type": "markdown",
   "id": "2d8d84e0",
   "metadata": {},
   "source": [
    "### checking and getting to know about data"
   ]
  },
  {
   "cell_type": "code",
   "execution_count": 4,
   "id": "34e719f7",
   "metadata": {},
   "outputs": [
    {
     "name": "stdout",
     "output_type": "stream",
     "text": [
      "<class 'pandas.core.frame.DataFrame'>\n",
      "RangeIndex: 9240 entries, 0 to 9239\n",
      "Data columns (total 37 columns):\n",
      " #   Column                                         Non-Null Count  Dtype  \n",
      "---  ------                                         --------------  -----  \n",
      " 0   Prospect ID                                    9240 non-null   object \n",
      " 1   Lead Number                                    9240 non-null   int64  \n",
      " 2   Lead Origin                                    9240 non-null   object \n",
      " 3   Lead Source                                    9204 non-null   object \n",
      " 4   Do Not Email                                   9240 non-null   object \n",
      " 5   Do Not Call                                    9240 non-null   object \n",
      " 6   Converted                                      9240 non-null   int64  \n",
      " 7   TotalVisits                                    9103 non-null   float64\n",
      " 8   Total Time Spent on Website                    9240 non-null   int64  \n",
      " 9   Page Views Per Visit                           9103 non-null   float64\n",
      " 10  Last Activity                                  9137 non-null   object \n",
      " 11  Country                                        6779 non-null   object \n",
      " 12  Specialization                                 7802 non-null   object \n",
      " 13  How did you hear about X Education             7033 non-null   object \n",
      " 14  What is your current occupation                6550 non-null   object \n",
      " 15  What matters most to you in choosing a course  6531 non-null   object \n",
      " 16  Search                                         9240 non-null   object \n",
      " 17  Magazine                                       9240 non-null   object \n",
      " 18  Newspaper Article                              9240 non-null   object \n",
      " 19  X Education Forums                             9240 non-null   object \n",
      " 20  Newspaper                                      9240 non-null   object \n",
      " 21  Digital Advertisement                          9240 non-null   object \n",
      " 22  Through Recommendations                        9240 non-null   object \n",
      " 23  Receive More Updates About Our Courses         9240 non-null   object \n",
      " 24  Tags                                           5887 non-null   object \n",
      " 25  Lead Quality                                   4473 non-null   object \n",
      " 26  Update me on Supply Chain Content              9240 non-null   object \n",
      " 27  Get updates on DM Content                      9240 non-null   object \n",
      " 28  Lead Profile                                   6531 non-null   object \n",
      " 29  City                                           7820 non-null   object \n",
      " 30  Asymmetrique Activity Index                    5022 non-null   object \n",
      " 31  Asymmetrique Profile Index                     5022 non-null   object \n",
      " 32  Asymmetrique Activity Score                    5022 non-null   float64\n",
      " 33  Asymmetrique Profile Score                     5022 non-null   float64\n",
      " 34  I agree to pay the amount through cheque       9240 non-null   object \n",
      " 35  A free copy of Mastering The Interview         9240 non-null   object \n",
      " 36  Last Notable Activity                          9240 non-null   object \n",
      "dtypes: float64(4), int64(3), object(30)\n",
      "memory usage: 2.6+ MB\n"
     ]
    }
   ],
   "source": [
    "df.info()"
   ]
  },
  {
   "cell_type": "markdown",
   "id": "e016a0d8",
   "metadata": {},
   "source": [
    "### ploting a displot to see the distribution of a numerical data"
   ]
  },
  {
   "cell_type": "code",
   "execution_count": 5,
   "id": "4be7e61f",
   "metadata": {},
   "outputs": [
    {
     "data": {
      "image/png": "[encoded data removed]",
      "text/plain": [
       "<Figure size 864x360 with 1 Axes>"
      ]
     },
     "metadata": {
      "needs_background": "light"
     },
     "output_type": "display_data"
    }
   ],
   "source": [
    "plt.figure(figsize=(12,5))\n",
    "sns.distplot(df['Lead Number'])\n",
    "plt.title('Lead Number')\n",
    "plt.show()"
   ]
  },
  {
   "cell_type": "markdown",
   "id": "1adc743c",
   "metadata": {},
   "source": [
    "### Inference : It looks like uniform distribution"
   ]
  },
  {
   "cell_type": "code",
   "execution_count": 6,
   "id": "b2ad1868",
   "metadata": {},
   "outputs": [
    {
     "data": {
      "text/plain": [
       "Landing Page Submission    4886\n",
       "API                        3580\n",
       "Lead Add Form               718\n",
       "Lead Import                  55\n",
       "Quick Add Form                1\n",
       "Name: Lead Origin, dtype: int64"
      ]
     },
     "execution_count": 6,
     "metadata": {},
     "output_type": "execute_result"
    }
   ],
   "source": [
    "df['Lead Origin'].value_counts()"
   ]
  },
  {
   "cell_type": "markdown",
   "id": "a6346682",
   "metadata": {},
   "source": [
    "### plotting pie plot "
   ]
  },
  {
   "cell_type": "code",
   "execution_count": 7,
   "id": "a4802534",
   "metadata": {},
   "outputs": [
    {
     "data": {
      "image/png": "[encoded data removed]",
      "text/plain": [
       "<Figure size 432x288 with 1 Axes>"
      ]
     },
     "metadata": {},
     "output_type": "display_data"
    }
   ],
   "source": [
    "plt.pie(df['Lead Origin'].value_counts(),autopct='%0.01f',labels=['Landing Page Submission','API','Lead Add Form','Lead Import','Quick Add Form'])\n",
    "plt.title('Lead Origin')\n",
    "plt.show()"
   ]
  },
  {
   "cell_type": "markdown",
   "id": "c86b739b",
   "metadata": {},
   "source": [
    "### this is balanced column"
   ]
  },
  {
   "cell_type": "code",
   "execution_count": 8,
   "id": "7f0cceb9",
   "metadata": {},
   "outputs": [
    {
     "data": {
      "text/plain": [
       "Google               2868\n",
       "Direct Traffic       2543\n",
       "Olark Chat           1755\n",
       "Organic Search       1154\n",
       "Reference             534\n",
       "Welingak Website      142\n",
       "Referral Sites        125\n",
       "Facebook               55\n",
       "bing                    6\n",
       "google                  5\n",
       "Click2call              4\n",
       "Live Chat               2\n",
       "Press_Release           2\n",
       "Social Media            2\n",
       "NC_EDM                  1\n",
       "WeLearn                 1\n",
       "youtubechannel          1\n",
       "Pay per Click Ads       1\n",
       "welearnblog_Home        1\n",
       "blog                    1\n",
       "testone                 1\n",
       "Name: Lead Source, dtype: int64"
      ]
     },
     "execution_count": 8,
     "metadata": {},
     "output_type": "execute_result"
    }
   ],
   "source": [
    "df['Lead Source'].value_counts()"
   ]
  },
  {
   "cell_type": "code",
   "execution_count": 9,
   "id": "ccf41b46",
   "metadata": {},
   "outputs": [
    {
     "data": {
      "image/png": "[encoded data removed]",
      "text/plain": [
       "<Figure size 864x360 with 1 Axes>"
      ]
     },
     "metadata": {
      "needs_background": "light"
     },
     "output_type": "display_data"
    }
   ],
   "source": [
    "plt.figure(figsize=(12,5))\n",
    "df['Lead Source'].value_counts().plot.barh()\n",
    "plt.title('Lead Source')\n",
    "plt.show()"
   ]
  },
  {
   "cell_type": "markdown",
   "id": "24dad0a3",
   "metadata": {},
   "source": [
    "### this is balanced column"
   ]
  },
  {
   "cell_type": "code",
   "execution_count": 10,
   "id": "8c67e4c4",
   "metadata": {},
   "outputs": [
    {
     "data": {
      "text/plain": [
       "No     8506\n",
       "Yes     734\n",
       "Name: Do Not Email, dtype: int64"
      ]
     },
     "execution_count": 10,
     "metadata": {},
     "output_type": "execute_result"
    }
   ],
   "source": [
    "df['Do Not Email'].value_counts()"
   ]
  },
  {
   "cell_type": "code",
   "execution_count": 11,
   "id": "37111f4d",
   "metadata": {},
   "outputs": [
    {
     "data": {
      "image/png": "[encoded data removed]",
      "text/plain": [
       "<Figure size 432x288 with 1 Axes>"
      ]
     },
     "metadata": {},
     "output_type": "display_data"
    }
   ],
   "source": [
    "plt.pie(df['Do Not Email'].value_counts(),autopct='%0.01f',labels=['No','Yes'])\n",
    "plt.title('Do Not Email')\n",
    "plt.show()"
   ]
  },
  {
   "cell_type": "markdown",
   "id": "68cb1438",
   "metadata": {},
   "source": [
    "### this is unbalanced column and should be dropped"
   ]
  },
  {
   "cell_type": "code",
   "execution_count": 12,
   "id": "c8c4339c",
   "metadata": {},
   "outputs": [
    {
     "data": {
      "text/plain": [
       "No     9238\n",
       "Yes       2\n",
       "Name: Do Not Call, dtype: int64"
      ]
     },
     "execution_count": 12,
     "metadata": {},
     "output_type": "execute_result"
    }
   ],
   "source": [
    "df['Do Not Call'].value_counts()"
   ]
  },
  {
   "cell_type": "code",
   "execution_count": 13,
   "id": "9ebea578",
   "metadata": {},
   "outputs": [
    {
     "data": {
      "image/png": "[encoded data removed]",
      "text/plain": [
       "<Figure size 432x288 with 1 Axes>"
      ]
     },
     "metadata": {},
     "output_type": "display_data"
    }
   ],
   "source": [
    "plt.pie(df['Do Not Call'].value_counts(),autopct='%0.02f',labels=['No','Yes'])\n",
    "plt.title('Do Not Call')\n",
    "plt.show()"
   ]
  },
  {
   "cell_type": "markdown",
   "id": "2edaa555",
   "metadata": {},
   "source": [
    "### this is highly unbalanced data should be dropped"
   ]
  },
  {
   "cell_type": "code",
   "execution_count": 14,
   "id": "8d319280",
   "metadata": {},
   "outputs": [
    {
     "data": {
      "image/png": "[encoded data removed]",
      "text/plain": [
       "<Figure size 864x360 with 1 Axes>"
      ]
     },
     "metadata": {
      "needs_background": "light"
     },
     "output_type": "display_data"
    }
   ],
   "source": [
    "plt.figure(figsize=(12,5))\n",
    "sns.distplot(df['Converted'])\n",
    "plt.title('Converted')\n",
    "plt.show()"
   ]
  },
  {
   "cell_type": "markdown",
   "id": "12bc3ac2",
   "metadata": {},
   "source": [
    "### this column should be transformed"
   ]
  },
  {
   "cell_type": "code",
   "execution_count": 15,
   "id": "52f49363",
   "metadata": {},
   "outputs": [
    {
     "data": {
      "image/png": "[encoded data removed]",
      "text/plain": [
       "<Figure size 864x360 with 1 Axes>"
      ]
     },
     "metadata": {
      "needs_background": "light"
     },
     "output_type": "display_data"
    }
   ],
   "source": [
    "plt.figure(figsize=(12,5))\n",
    "sns.distplot(df['TotalVisits'])\n",
    "plt.title('TotalVisits')\n",
    "plt.show()"
   ]
  },
  {
   "cell_type": "markdown",
   "id": "798614eb",
   "metadata": {},
   "source": [
    "### this is right skewed and should be transformed"
   ]
  },
  {
   "cell_type": "code",
   "execution_count": 16,
   "id": "198e40e7",
   "metadata": {},
   "outputs": [
    {
     "data": {
      "image/png": "[encoded data removed]",
      "text/plain": [
       "<Figure size 864x360 with 1 Axes>"
      ]
     },
     "metadata": {
      "needs_background": "light"
     },
     "output_type": "display_data"
    }
   ],
   "source": [
    "plt.figure(figsize=(12,5))\n",
    "sns.distplot(df['Total Time Spent on Website'])\n",
    "plt.title('Total Time Spent on Website')\n",
    "plt.show()"
   ]
  },
  {
   "cell_type": "markdown",
   "id": "c057c68f",
   "metadata": {},
   "source": [
    "### this is right skewed and should be transformed"
   ]
  },
  {
   "cell_type": "code",
   "execution_count": 17,
   "id": "2bc0fecd",
   "metadata": {},
   "outputs": [
    {
     "data": {
      "image/png": "[encoded data removed]",
      "text/plain": [
       "<Figure size 864x360 with 1 Axes>"
      ]
     },
     "metadata": {
      "needs_background": "light"
     },
     "output_type": "display_data"
    }
   ],
   "source": [
    "plt.figure(figsize=(12,5))\n",
    "sns.distplot(df['Page Views Per Visit'])\n",
    "plt.title('Page Views Per Visit')\n",
    "plt.show()"
   ]
  },
  {
   "cell_type": "markdown",
   "id": "583ec73b",
   "metadata": {},
   "source": [
    "### this right skewed and should be transformed"
   ]
  },
  {
   "cell_type": "code",
   "execution_count": 18,
   "id": "f35cc0d7",
   "metadata": {},
   "outputs": [
    {
     "data": {
      "text/plain": [
       "Email Opened                    3437\n",
       "SMS Sent                        2745\n",
       "Olark Chat Conversation          973\n",
       "Page Visited on Website          640\n",
       "Converted to Lead                428\n",
       "Email Bounced                    326\n",
       "Email Link Clicked               267\n",
       "Form Submitted on Website        116\n",
       "Unreachable                       93\n",
       "Unsubscribed                      61\n",
       "Had a Phone Conversation          30\n",
       "Approached upfront                 9\n",
       "View in browser link Clicked       6\n",
       "Email Received                     2\n",
       "Email Marked Spam                  2\n",
       "Resubscribed to emails             1\n",
       "Visited Booth in Tradeshow         1\n",
       "Name: Last Activity, dtype: int64"
      ]
     },
     "execution_count": 18,
     "metadata": {},
     "output_type": "execute_result"
    }
   ],
   "source": [
    "df['Last Activity'].value_counts()"
   ]
  },
  {
   "cell_type": "code",
   "execution_count": 19,
   "id": "e77b2e47",
   "metadata": {},
   "outputs": [
    {
     "data": {
      "image/png": "[encoded data removed]",
      "text/plain": [
       "<Figure size 864x360 with 1 Axes>"
      ]
     },
     "metadata": {
      "needs_background": "light"
     },
     "output_type": "display_data"
    }
   ],
   "source": [
    "plt.figure(figsize=(12,5))\n",
    "df['Last Activity'].value_counts().plot.barh(filter)\n",
    "plt.title('Last Activity')\n",
    "plt.show()"
   ]
  },
  {
   "cell_type": "markdown",
   "id": "64922eba",
   "metadata": {},
   "source": [
    "### this is balanced column"
   ]
  },
  {
   "cell_type": "code",
   "execution_count": 20,
   "id": "8a8caf3e",
   "metadata": {},
   "outputs": [
    {
     "data": {
      "text/plain": [
       "India                   6492\n",
       "United States             69\n",
       "United Arab Emirates      53\n",
       "Singapore                 24\n",
       "Saudi Arabia              21\n",
       "United Kingdom            15\n",
       "Australia                 13\n",
       "Qatar                     10\n",
       "Bahrain                    7\n",
       "Hong Kong                  7\n",
       "France                     6\n",
       "Oman                       6\n",
       "unknown                    5\n",
       "Canada                     4\n",
       "Kuwait                     4\n",
       "South Africa               4\n",
       "Germany                    4\n",
       "Nigeria                    4\n",
       "Sweden                     3\n",
       "China                      2\n",
       "Ghana                      2\n",
       "Italy                      2\n",
       "Philippines                2\n",
       "Asia/Pacific Region        2\n",
       "Netherlands                2\n",
       "Bangladesh                 2\n",
       "Uganda                     2\n",
       "Belgium                    2\n",
       "Malaysia                   1\n",
       "Switzerland                1\n",
       "Vietnam                    1\n",
       "Kenya                      1\n",
       "Liberia                    1\n",
       "Denmark                    1\n",
       "Russia                     1\n",
       "Tanzania                   1\n",
       "Sri Lanka                  1\n",
       "Indonesia                  1\n",
       "Name: Country, dtype: int64"
      ]
     },
     "execution_count": 20,
     "metadata": {},
     "output_type": "execute_result"
    }
   ],
   "source": [
    "df['Country'].value_counts()"
   ]
  },
  {
   "cell_type": "code",
   "execution_count": 21,
   "id": "9ea60342",
   "metadata": {},
   "outputs": [
    {
     "data": {
      "image/png": "[encoded data removed]",
      "text/plain": [
       "<Figure size 1080x648 with 1 Axes>"
      ]
     },
     "metadata": {
      "needs_background": "light"
     },
     "output_type": "display_data"
    }
   ],
   "source": [
    "plt.figure(figsize=(15,9))\n",
    "df['Country'].value_counts().plot.barh()\n",
    "plt.title('Country')\n",
    "plt.show()"
   ]
  },
  {
   "cell_type": "markdown",
   "id": "fade6a92",
   "metadata": {},
   "source": [
    "### this is highly unbalanced column and should be dropped"
   ]
  },
  {
   "cell_type": "code",
   "execution_count": 22,
   "id": "d5d50f13",
   "metadata": {},
   "outputs": [
    {
     "data": {
      "text/plain": [
       "Select                               1942\n",
       "Finance Management                    976\n",
       "Human Resource Management             848\n",
       "Marketing Management                  838\n",
       "Operations Management                 503\n",
       "Business Administration               403\n",
       "IT Projects Management                366\n",
       "Supply Chain Management               349\n",
       "Banking, Investment And Insurance     338\n",
       "Media and Advertising                 203\n",
       "Travel and Tourism                    203\n",
       "International Business                178\n",
       "Healthcare Management                 159\n",
       "Hospitality Management                114\n",
       "E-COMMERCE                            112\n",
       "Retail Management                     100\n",
       "Rural and Agribusiness                 73\n",
       "E-Business                             57\n",
       "Services Excellence                    40\n",
       "Name: Specialization, dtype: int64"
      ]
     },
     "execution_count": 22,
     "metadata": {},
     "output_type": "execute_result"
    }
   ],
   "source": [
    "df['Specialization'].value_counts()"
   ]
  },
  {
   "cell_type": "code",
   "execution_count": 23,
   "id": "49ef600b",
   "metadata": {},
   "outputs": [
    {
     "data": {
      "image/png": "[encoded data removed]",
      "text/plain": [
       "<Figure size 576x576 with 1 Axes>"
      ]
     },
     "metadata": {
      "needs_background": "light"
     },
     "output_type": "display_data"
    }
   ],
   "source": [
    "plt.figure(figsize=(8,8))\n",
    "df['Specialization'].value_counts().plot.barh()\n",
    "plt.title('Specialization')\n",
    "plt.show()"
   ]
  },
  {
   "cell_type": "markdown",
   "id": "27a5ff75",
   "metadata": {},
   "source": [
    "### this is balanced column"
   ]
  },
  {
   "cell_type": "code",
   "execution_count": 24,
   "id": "8261e39b",
   "metadata": {},
   "outputs": [
    {
     "data": {
      "text/plain": [
       "Select                   5043\n",
       "Online Search             808\n",
       "Word Of Mouth             348\n",
       "Student of SomeSchool     310\n",
       "Other                     186\n",
       "Multiple Sources          152\n",
       "Advertisements             70\n",
       "Social Media               67\n",
       "Email                      26\n",
       "SMS                        23\n",
       "Name: How did you hear about X Education, dtype: int64"
      ]
     },
     "execution_count": 24,
     "metadata": {},
     "output_type": "execute_result"
    }
   ],
   "source": [
    "df['How did you hear about X Education'].value_counts()"
   ]
  },
  {
   "cell_type": "code",
   "execution_count": 25,
   "id": "d6cf087f",
   "metadata": {},
   "outputs": [
    {
     "data": {
      "image/png": "[encoded data removed]",
      "text/plain": [
       "<Figure size 864x360 with 1 Axes>"
      ]
     },
     "metadata": {
      "needs_background": "light"
     },
     "output_type": "display_data"
    }
   ],
   "source": [
    "plt.figure(figsize=(12,5))\n",
    "df['How did you hear about X Education'].value_counts().plot.barh()\n",
    "plt.title('How did you hear about X Education')\n",
    "plt.show()"
   ]
  },
  {
   "cell_type": "markdown",
   "id": "a9f3e3b7",
   "metadata": {},
   "source": [
    "### this is unbalanced column and should be dropped"
   ]
  },
  {
   "cell_type": "code",
   "execution_count": 26,
   "id": "64c5f2bc",
   "metadata": {},
   "outputs": [
    {
     "data": {
      "text/plain": [
       "Unemployed              5600\n",
       "Working Professional     706\n",
       "Student                  210\n",
       "Other                     16\n",
       "Housewife                 10\n",
       "Businessman                8\n",
       "Name: What is your current occupation, dtype: int64"
      ]
     },
     "execution_count": 26,
     "metadata": {},
     "output_type": "execute_result"
    }
   ],
   "source": [
    "df['What is your current occupation'].value_counts()"
   ]
  },
  {
   "cell_type": "code",
   "execution_count": 27,
   "id": "1bf1c004",
   "metadata": {},
   "outputs": [
    {
     "data": {
      "image/png": "[encoded data removed]",
      "text/plain": [
       "<Figure size 864x360 with 1 Axes>"
      ]
     },
     "metadata": {
      "needs_background": "light"
     },
     "output_type": "display_data"
    }
   ],
   "source": [
    "plt.figure(figsize=(12,5))\n",
    "df['What is your current occupation'].value_counts().plot.barh()\n",
    "plt.title('What is your current occupation')\n",
    "plt.show()"
   ]
  },
  {
   "cell_type": "markdown",
   "id": "870f2d3c",
   "metadata": {},
   "source": [
    "### this unbalanced column and should be removed"
   ]
  },
  {
   "cell_type": "code",
   "execution_count": 28,
   "id": "b8e493db",
   "metadata": {},
   "outputs": [
    {
     "data": {
      "text/plain": [
       "Better Career Prospects      6528\n",
       "Flexibility & Convenience       2\n",
       "Other                           1\n",
       "Name: What matters most to you in choosing a course, dtype: int64"
      ]
     },
     "execution_count": 28,
     "metadata": {},
     "output_type": "execute_result"
    }
   ],
   "source": [
    "df['What matters most to you in choosing a course'].value_counts()"
   ]
  },
  {
   "cell_type": "code",
   "execution_count": 29,
   "id": "8ea3c9ac",
   "metadata": {},
   "outputs": [
    {
     "data": {
      "image/png": "[encoded data removed]",
      "text/plain": [
       "<Figure size 432x288 with 1 Axes>"
      ]
     },
     "metadata": {},
     "output_type": "display_data"
    }
   ],
   "source": [
    "plt.pie(df['What matters most to you in choosing a course'].value_counts(),autopct='%0.02f',labels=['Better Career Prospects','Flexibility & Convenience','Other'])\n",
    "plt.title('What matters most to you in choosing a course')\n",
    "plt.show()"
   ]
  },
  {
   "cell_type": "markdown",
   "id": "7a3675cd",
   "metadata": {},
   "source": [
    "### this is unbalanced column and should be dropped"
   ]
  },
  {
   "cell_type": "code",
   "execution_count": 30,
   "id": "e01456b9",
   "metadata": {},
   "outputs": [
    {
     "data": {
      "text/plain": [
       "No     9226\n",
       "Yes      14\n",
       "Name: Search, dtype: int64"
      ]
     },
     "execution_count": 30,
     "metadata": {},
     "output_type": "execute_result"
    }
   ],
   "source": [
    "df['Search'].value_counts()\n"
   ]
  },
  {
   "cell_type": "code",
   "execution_count": 31,
   "id": "6cef1c91",
   "metadata": {},
   "outputs": [
    {
     "data": {
      "image/png": "[encoded data removed]",
      "text/plain": [
       "<Figure size 432x288 with 1 Axes>"
      ]
     },
     "metadata": {},
     "output_type": "display_data"
    }
   ],
   "source": [
    "plt.pie(df['Search'].value_counts(),autopct='%0.02f',labels=['No','Yes'])\n",
    "plt.title('Search')\n",
    "plt.show()"
   ]
  },
  {
   "cell_type": "markdown",
   "id": "4b6d491c",
   "metadata": {},
   "source": [
    "### this is unbalanced column and should be dropped"
   ]
  },
  {
   "cell_type": "code",
   "execution_count": 32,
   "id": "c01c2267",
   "metadata": {},
   "outputs": [
    {
     "data": {
      "text/plain": [
       "No    9240\n",
       "Name: Magazine, dtype: int64"
      ]
     },
     "execution_count": 32,
     "metadata": {},
     "output_type": "execute_result"
    }
   ],
   "source": [
    "df['Magazine'].value_counts()"
   ]
  },
  {
   "cell_type": "markdown",
   "id": "744baddd",
   "metadata": {},
   "source": [
    "### this is unbalanced column and should be dropped"
   ]
  },
  {
   "cell_type": "code",
   "execution_count": 33,
   "id": "696dee9a",
   "metadata": {},
   "outputs": [
    {
     "data": {
      "text/plain": [
       "No     9238\n",
       "Yes       2\n",
       "Name: Newspaper Article, dtype: int64"
      ]
     },
     "execution_count": 33,
     "metadata": {},
     "output_type": "execute_result"
    }
   ],
   "source": [
    "df['Newspaper Article'].value_counts()"
   ]
  },
  {
   "cell_type": "code",
   "execution_count": 34,
   "id": "b191c664",
   "metadata": {},
   "outputs": [
    {
     "data": {
      "image/png": "[encoded data removed]",
      "text/plain": [
       "<Figure size 432x288 with 1 Axes>"
      ]
     },
     "metadata": {},
     "output_type": "display_data"
    }
   ],
   "source": [
    "plt.pie(df['Newspaper Article'].value_counts(),autopct='%0.02f',labels=['No','Yes'])\n",
    "plt.title('Newspaper Article')\n",
    "plt.show()"
   ]
  },
  {
   "cell_type": "markdown",
   "id": "10c7bc05",
   "metadata": {},
   "source": [
    "### this is unbalanced column and should be dropped"
   ]
  },
  {
   "cell_type": "code",
   "execution_count": 35,
   "id": "86c43e65",
   "metadata": {},
   "outputs": [
    {
     "data": {
      "text/plain": [
       "No     9239\n",
       "Yes       1\n",
       "Name: X Education Forums, dtype: int64"
      ]
     },
     "execution_count": 35,
     "metadata": {},
     "output_type": "execute_result"
    }
   ],
   "source": [
    "df['X Education Forums'].value_counts()"
   ]
  },
  {
   "cell_type": "code",
   "execution_count": 36,
   "id": "6c0ef8e3",
   "metadata": {},
   "outputs": [
    {
     "data": {
      "image/png": "[encoded data removed]",
      "text/plain": [
       "<Figure size 432x288 with 1 Axes>"
      ]
     },
     "metadata": {},
     "output_type": "display_data"
    }
   ],
   "source": [
    "plt.pie(df['X Education Forums'].value_counts(),autopct='%0.02f',labels=['No','Yes'])\n",
    "plt.title('X Education Forums')\n",
    "plt.show()"
   ]
  },
  {
   "cell_type": "markdown",
   "id": "213a86a7",
   "metadata": {},
   "source": [
    "### this is unbalanced column and should be dropped"
   ]
  },
  {
   "cell_type": "code",
   "execution_count": 37,
   "id": "d4e81923",
   "metadata": {},
   "outputs": [
    {
     "data": {
      "text/plain": [
       "No     9239\n",
       "Yes       1\n",
       "Name: Newspaper, dtype: int64"
      ]
     },
     "execution_count": 37,
     "metadata": {},
     "output_type": "execute_result"
    }
   ],
   "source": [
    "df['Newspaper'].value_counts()"
   ]
  },
  {
   "cell_type": "code",
   "execution_count": 38,
   "id": "1042ae26",
   "metadata": {},
   "outputs": [
    {
     "data": {
      "image/png": "[encoded data removed]",
      "text/plain": [
       "<Figure size 432x288 with 1 Axes>"
      ]
     },
     "metadata": {},
     "output_type": "display_data"
    }
   ],
   "source": [
    "plt.pie(df['Newspaper'].value_counts(),autopct='%0.02f',labels=['No','Yes'])\n",
    "plt.title('Newspaper')\n",
    "plt.show()"
   ]
  },
  {
   "cell_type": "markdown",
   "id": "579740ca",
   "metadata": {},
   "source": [
    "### this is unbalanced column and should be dropped"
   ]
  },
  {
   "cell_type": "code",
   "execution_count": 39,
   "id": "386d3ccf",
   "metadata": {},
   "outputs": [
    {
     "data": {
      "text/plain": [
       "No     9236\n",
       "Yes       4\n",
       "Name: Digital Advertisement, dtype: int64"
      ]
     },
     "execution_count": 39,
     "metadata": {},
     "output_type": "execute_result"
    }
   ],
   "source": [
    "df['Digital Advertisement'].value_counts()"
   ]
  },
  {
   "cell_type": "code",
   "execution_count": 40,
   "id": "daa36ce2",
   "metadata": {},
   "outputs": [
    {
     "data": {
      "image/png": "[encoded data removed]",
      "text/plain": [
       "<Figure size 432x288 with 1 Axes>"
      ]
     },
     "metadata": {},
     "output_type": "display_data"
    }
   ],
   "source": [
    "plt.pie(df['Digital Advertisement'].value_counts(),autopct='%0.02f',labels=['No','Yes'])\n",
    "plt.title('Digital Advertisement')\n",
    "plt.show()"
   ]
  },
  {
   "cell_type": "markdown",
   "id": "a49d47b4",
   "metadata": {},
   "source": [
    "### this is unbalanced column and should be dropped"
   ]
  },
  {
   "cell_type": "code",
   "execution_count": 41,
   "id": "59905fb9",
   "metadata": {},
   "outputs": [
    {
     "data": {
      "text/plain": [
       "No     9233\n",
       "Yes       7\n",
       "Name: Through Recommendations, dtype: int64"
      ]
     },
     "execution_count": 41,
     "metadata": {},
     "output_type": "execute_result"
    }
   ],
   "source": [
    "df['Through Recommendations'].value_counts()"
   ]
  },
  {
   "cell_type": "code",
   "execution_count": 42,
   "id": "017c9edd",
   "metadata": {},
   "outputs": [
    {
     "data": {
      "image/png": "[encoded data removed]",
      "text/plain": [
       "<Figure size 432x288 with 1 Axes>"
      ]
     },
     "metadata": {},
     "output_type": "display_data"
    }
   ],
   "source": [
    "plt.pie(df['Through Recommendations'].value_counts(),autopct='%0.02f',labels=['No','Yes'])\n",
    "plt.title('Through Recommendations')\n",
    "plt.show()"
   ]
  },
  {
   "cell_type": "markdown",
   "id": "735b4b4b",
   "metadata": {},
   "source": [
    "### this is unbalanced column and should be dropped"
   ]
  },
  {
   "cell_type": "code",
   "execution_count": 43,
   "id": "b6d13e68",
   "metadata": {},
   "outputs": [
    {
     "data": {
      "text/plain": [
       "No    9240\n",
       "Name: Receive More Updates About Our Courses, dtype: int64"
      ]
     },
     "execution_count": 43,
     "metadata": {},
     "output_type": "execute_result"
    }
   ],
   "source": [
    "df['Receive More Updates About Our Courses'].value_counts()"
   ]
  },
  {
   "cell_type": "markdown",
   "id": "495fe613",
   "metadata": {},
   "source": [
    "### this is unbalanced column and should be dropped"
   ]
  },
  {
   "cell_type": "code",
   "execution_count": 44,
   "id": "305080ad",
   "metadata": {},
   "outputs": [
    {
     "data": {
      "text/plain": [
       "Will revert after reading the email                  2072\n",
       "Ringing                                              1203\n",
       "Interested in other courses                           513\n",
       "Already a student                                     465\n",
       "Closed by Horizzon                                    358\n",
       "switched off                                          240\n",
       "Busy                                                  186\n",
       "Lost to EINS                                          175\n",
       "Not doing further education                           145\n",
       "Interested  in full time MBA                          117\n",
       "Graduation in progress                                111\n",
       "invalid number                                         83\n",
       "Diploma holder (Not Eligible)                          63\n",
       "wrong number given                                     47\n",
       "opp hangup                                             33\n",
       "number not provided                                    27\n",
       "in touch with EINS                                     12\n",
       "Lost to Others                                          7\n",
       "Want to take admission but has financial problems       6\n",
       "Still Thinking                                          6\n",
       "Interested in Next batch                                5\n",
       "In confusion whether part time or DLP                   5\n",
       "Lateral student                                         3\n",
       "Shall take in the next coming month                     2\n",
       "University not recognized                               2\n",
       "Recognition issue (DEC approval)                        1\n",
       "Name: Tags, dtype: int64"
      ]
     },
     "execution_count": 44,
     "metadata": {},
     "output_type": "execute_result"
    }
   ],
   "source": [
    "df['Tags'].value_counts()"
   ]
  },
  {
   "cell_type": "code",
   "execution_count": 45,
   "id": "83b31c40",
   "metadata": {},
   "outputs": [
    {
     "data": {
      "image/png": "[encoded data removed]",
      "text/plain": [
       "<Figure size 864x864 with 1 Axes>"
      ]
     },
     "metadata": {
      "needs_background": "light"
     },
     "output_type": "display_data"
    }
   ],
   "source": [
    "plt.figure(figsize=(12,12))\n",
    "df['Tags'].value_counts().plot.barh()\n",
    "plt.title('Tags')\n",
    "plt.show()"
   ]
  },
  {
   "cell_type": "markdown",
   "id": "3825b78c",
   "metadata": {},
   "source": [
    "### this is balanced column"
   ]
  },
  {
   "cell_type": "code",
   "execution_count": 46,
   "id": "8ada03d9",
   "metadata": {},
   "outputs": [
    {
     "data": {
      "text/plain": [
       "Might be             1560\n",
       "Not Sure             1092\n",
       "High in Relevance     637\n",
       "Worst                 601\n",
       "Low in Relevance      583\n",
       "Name: Lead Quality, dtype: int64"
      ]
     },
     "execution_count": 46,
     "metadata": {},
     "output_type": "execute_result"
    }
   ],
   "source": [
    "df['Lead Quality'].value_counts()"
   ]
  },
  {
   "cell_type": "code",
   "execution_count": 47,
   "id": "49f1eac8",
   "metadata": {},
   "outputs": [
    {
     "data": {
      "image/png": "[encoded data removed]",
      "text/plain": [
       "<Figure size 504x504 with 1 Axes>"
      ]
     },
     "metadata": {},
     "output_type": "display_data"
    }
   ],
   "source": [
    "plt.figure(figsize=(7,7))\n",
    "plt.pie(df['Lead Quality'].value_counts(),autopct='%0.02f',labels=['Might be','Not Sure','High in Relevance','Worst','Low in Relevance'])\n",
    "plt.title('Lead Quality')\n",
    "plt.show()"
   ]
  },
  {
   "cell_type": "markdown",
   "id": "d4b8c9b5",
   "metadata": {},
   "source": [
    "### this is balanced column"
   ]
  },
  {
   "cell_type": "code",
   "execution_count": 48,
   "id": "397f3f69",
   "metadata": {},
   "outputs": [
    {
     "data": {
      "text/plain": [
       "No    9240\n",
       "Name: Update me on Supply Chain Content, dtype: int64"
      ]
     },
     "execution_count": 48,
     "metadata": {},
     "output_type": "execute_result"
    }
   ],
   "source": [
    "df['Update me on Supply Chain Content'].value_counts()"
   ]
  },
  {
   "cell_type": "markdown",
   "id": "076b6ca6",
   "metadata": {},
   "source": [
    "### this is unbalanced column and should be dropped"
   ]
  },
  {
   "cell_type": "code",
   "execution_count": 49,
   "id": "a7775044",
   "metadata": {},
   "outputs": [
    {
     "data": {
      "text/plain": [
       "No    9240\n",
       "Name: Get updates on DM Content, dtype: int64"
      ]
     },
     "execution_count": 49,
     "metadata": {},
     "output_type": "execute_result"
    }
   ],
   "source": [
    "df['Get updates on DM Content'].value_counts()"
   ]
  },
  {
   "cell_type": "markdown",
   "id": "ef26132f",
   "metadata": {},
   "source": [
    "### this is unbalanced column and should be dropped"
   ]
  },
  {
   "cell_type": "code",
   "execution_count": 50,
   "id": "cf385144",
   "metadata": {},
   "outputs": [
    {
     "data": {
      "text/plain": [
       "Select                         4146\n",
       "Potential Lead                 1613\n",
       "Other Leads                     487\n",
       "Student of SomeSchool           241\n",
       "Lateral Student                  24\n",
       "Dual Specialization Student      20\n",
       "Name: Lead Profile, dtype: int64"
      ]
     },
     "execution_count": 50,
     "metadata": {},
     "output_type": "execute_result"
    }
   ],
   "source": [
    "df['Lead Profile'].value_counts()"
   ]
  },
  {
   "cell_type": "code",
   "execution_count": 51,
   "id": "7f3c3ff7",
   "metadata": {
    "scrolled": true
   },
   "outputs": [
    {
     "data": {
      "image/png": "[encoded data removed]",
      "text/plain": [
       "<Figure size 864x360 with 1 Axes>"
      ]
     },
     "metadata": {
      "needs_background": "light"
     },
     "output_type": "display_data"
    }
   ],
   "source": [
    "plt.figure(figsize=(12,5))\n",
    "df['Lead Profile'].value_counts().plot.barh()\n",
    "plt.title('Lead Profile')\n",
    "plt.show()"
   ]
  },
  {
   "cell_type": "markdown",
   "id": "140d1287",
   "metadata": {},
   "source": [
    "### this balanced column"
   ]
  },
  {
   "cell_type": "code",
   "execution_count": 52,
   "id": "ddfba411",
   "metadata": {},
   "outputs": [
    {
     "data": {
      "text/plain": [
       "Mumbai                         3222\n",
       "Select                         2249\n",
       "Thane & Outskirts               752\n",
       "Other Cities                    686\n",
       "Other Cities of Maharashtra     457\n",
       "Other Metro Cities              380\n",
       "Tier II Cities                   74\n",
       "Name: City, dtype: int64"
      ]
     },
     "execution_count": 52,
     "metadata": {},
     "output_type": "execute_result"
    }
   ],
   "source": [
    "df['City'].value_counts()"
   ]
  },
  {
   "cell_type": "code",
   "execution_count": 53,
   "id": "a22bc118",
   "metadata": {},
   "outputs": [
    {
     "data": {
      "image/png": "[encoded data removed]",
      "text/plain": [
       "<Figure size 864x360 with 1 Axes>"
      ]
     },
     "metadata": {
      "needs_background": "light"
     },
     "output_type": "display_data"
    }
   ],
   "source": [
    "plt.figure(figsize=(12,5))\n",
    "df['City'].value_counts().plot.barh()\n",
    "plt.title('City')\n",
    "plt.show()"
   ]
  },
  {
   "cell_type": "markdown",
   "id": "0c733fa1",
   "metadata": {},
   "source": [
    "### this balanced column"
   ]
  },
  {
   "cell_type": "code",
   "execution_count": 54,
   "id": "883fb101",
   "metadata": {},
   "outputs": [
    {
     "data": {
      "text/plain": [
       "02.Medium    3839\n",
       "01.High       821\n",
       "03.Low        362\n",
       "Name: Asymmetrique Activity Index, dtype: int64"
      ]
     },
     "execution_count": 54,
     "metadata": {},
     "output_type": "execute_result"
    }
   ],
   "source": [
    "df['Asymmetrique Activity Index'].value_counts()"
   ]
  },
  {
   "cell_type": "code",
   "execution_count": 55,
   "id": "74909736",
   "metadata": {},
   "outputs": [
    {
     "data": {
      "text/plain": [
       "<function matplotlib.pyplot.show(close=None, block=None)>"
      ]
     },
     "execution_count": 55,
     "metadata": {},
     "output_type": "execute_result"
    },
    {
     "data": {
      "image/png": "[encoded data removed]",
      "text/plain": [
       "<Figure size 432x288 with 1 Axes>"
      ]
     },
     "metadata": {},
     "output_type": "display_data"
    }
   ],
   "source": [
    "plt.pie(df['Asymmetrique Activity Index'].value_counts(),autopct='%0.02f',labels=['02.Medium','01.High','03.Low'])\n",
    "plt.show"
   ]
  },
  {
   "cell_type": "markdown",
   "id": "3cfbb07c",
   "metadata": {},
   "source": [
    "### this unbalanced column and should be dropped"
   ]
  },
  {
   "cell_type": "code",
   "execution_count": 56,
   "id": "525292af",
   "metadata": {},
   "outputs": [
    {
     "data": {
      "text/plain": [
       "02.Medium    2788\n",
       "01.High      2203\n",
       "03.Low         31\n",
       "Name: Asymmetrique Profile Index, dtype: int64"
      ]
     },
     "execution_count": 56,
     "metadata": {},
     "output_type": "execute_result"
    }
   ],
   "source": [
    "df['Asymmetrique Profile Index'].value_counts()"
   ]
  },
  {
   "cell_type": "code",
   "execution_count": 57,
   "id": "a91153e8",
   "metadata": {},
   "outputs": [
    {
     "data": {
      "text/plain": [
       "<function matplotlib.pyplot.show(close=None, block=None)>"
      ]
     },
     "execution_count": 57,
     "metadata": {},
     "output_type": "execute_result"
    },
    {
     "data": {
      "image/png": "[encoded data removed]",
      "text/plain": [
       "<Figure size 432x288 with 1 Axes>"
      ]
     },
     "metadata": {},
     "output_type": "display_data"
    }
   ],
   "source": [
    "plt.pie(df['Asymmetrique Profile Index'].value_counts(),autopct='%0.02f',labels=['02.Medium','01.High','03.Low'])\n",
    "plt.show"
   ]
  },
  {
   "cell_type": "markdown",
   "id": "5d75b9c4",
   "metadata": {},
   "source": [
    "### this balanced column"
   ]
  },
  {
   "cell_type": "code",
   "execution_count": 58,
   "id": "80fa4f27",
   "metadata": {
    "scrolled": true
   },
   "outputs": [
    {
     "data": {
      "image/png": "[encoded data removed]",
      "text/plain": [
       "<Figure size 864x360 with 1 Axes>"
      ]
     },
     "metadata": {
      "needs_background": "light"
     },
     "output_type": "display_data"
    }
   ],
   "source": [
    "plt.figure(figsize=(12,5))\n",
    "sns.distplot(df['Asymmetrique Activity Score'])\n",
    "plt.title('Asymmetrique Activity Score')\n",
    "plt.show()"
   ]
  },
  {
   "cell_type": "markdown",
   "id": "a9743749",
   "metadata": {},
   "source": [
    "### this left skewed and should be transformed"
   ]
  },
  {
   "cell_type": "code",
   "execution_count": 59,
   "id": "d6cbec40",
   "metadata": {},
   "outputs": [
    {
     "data": {
      "image/png": "[encoded data removed]",
      "text/plain": [
       "<Figure size 864x360 with 1 Axes>"
      ]
     },
     "metadata": {
      "needs_background": "light"
     },
     "output_type": "display_data"
    }
   ],
   "source": [
    "plt.figure(figsize=(12,5))\n",
    "sns.distplot(df['Asymmetrique Profile Score'])\n",
    "plt.title('Asymmetrique Profile Score')\n",
    "plt.show()"
   ]
  },
  {
   "cell_type": "markdown",
   "id": "e0f79ad6",
   "metadata": {},
   "source": [
    "### this should be transformed"
   ]
  },
  {
   "cell_type": "code",
   "execution_count": 60,
   "id": "16e5da53",
   "metadata": {},
   "outputs": [
    {
     "data": {
      "text/plain": [
       "No    9240\n",
       "Name: I agree to pay the amount through cheque, dtype: int64"
      ]
     },
     "execution_count": 60,
     "metadata": {},
     "output_type": "execute_result"
    }
   ],
   "source": [
    "df['I agree to pay the amount through cheque'].value_counts()"
   ]
  },
  {
   "cell_type": "markdown",
   "id": "d76269fb",
   "metadata": {},
   "source": [
    "### this is unbalanced column and should be removed"
   ]
  },
  {
   "cell_type": "code",
   "execution_count": 61,
   "id": "781be6f3",
   "metadata": {},
   "outputs": [
    {
     "data": {
      "text/plain": [
       "No     6352\n",
       "Yes    2888\n",
       "Name: A free copy of Mastering The Interview, dtype: int64"
      ]
     },
     "execution_count": 61,
     "metadata": {},
     "output_type": "execute_result"
    }
   ],
   "source": [
    "df['A free copy of Mastering The Interview'].value_counts()"
   ]
  },
  {
   "cell_type": "code",
   "execution_count": 62,
   "id": "7bf052a5",
   "metadata": {},
   "outputs": [
    {
     "data": {
      "text/plain": [
       "<function matplotlib.pyplot.show(close=None, block=None)>"
      ]
     },
     "execution_count": 62,
     "metadata": {},
     "output_type": "execute_result"
    },
    {
     "data": {
      "image/png": "[encoded data removed]",
      "text/plain": [
       "<Figure size 432x288 with 1 Axes>"
      ]
     },
     "metadata": {},
     "output_type": "display_data"
    }
   ],
   "source": [
    "plt.pie(df['A free copy of Mastering The Interview'].value_counts(),autopct='%0.02f',labels=['No','Yes'])\n",
    "plt.show"
   ]
  },
  {
   "cell_type": "markdown",
   "id": "3d8d7eb6",
   "metadata": {},
   "source": [
    "### this is balanced column"
   ]
  },
  {
   "cell_type": "code",
   "execution_count": 63,
   "id": "2436a61e",
   "metadata": {},
   "outputs": [
    {
     "data": {
      "text/plain": [
       "Modified                        3407\n",
       "Email Opened                    2827\n",
       "SMS Sent                        2172\n",
       "Page Visited on Website          318\n",
       "Olark Chat Conversation          183\n",
       "Email Link Clicked               173\n",
       "Email Bounced                     60\n",
       "Unsubscribed                      47\n",
       "Unreachable                       32\n",
       "Had a Phone Conversation          14\n",
       "Email Marked Spam                  2\n",
       "Resubscribed to emails             1\n",
       "Email Received                     1\n",
       "View in browser link Clicked       1\n",
       "Approached upfront                 1\n",
       "Form Submitted on Website          1\n",
       "Name: Last Notable Activity, dtype: int64"
      ]
     },
     "execution_count": 63,
     "metadata": {},
     "output_type": "execute_result"
    }
   ],
   "source": [
    "df['Last Notable Activity'].value_counts()"
   ]
  },
  {
   "cell_type": "code",
   "execution_count": 64,
   "id": "5cd7f8aa",
   "metadata": {},
   "outputs": [
    {
     "data": {
      "image/png": "[encoded data removed]",
      "text/plain": [
       "<Figure size 864x360 with 1 Axes>"
      ]
     },
     "metadata": {
      "needs_background": "light"
     },
     "output_type": "display_data"
    }
   ],
   "source": [
    "plt.figure(figsize=(12,5))\n",
    "df['Last Notable Activity'].value_counts().plot.barh()\n",
    "plt.title('Last Notable Activity')\n",
    "plt.show()"
   ]
  },
  {
   "cell_type": "markdown",
   "id": "4dbdf3dd",
   "metadata": {},
   "source": [
    "### this is balanced column"
   ]
  },
  {
   "cell_type": "code",
   "execution_count": 65,
   "id": "bd983b9a",
   "metadata": {},
   "outputs": [
    {
     "name": "stdout",
     "output_type": "stream",
     "text": [
      "(9240, 37)\n",
      "(9240, 18)\n"
     ]
    }
   ],
   "source": [
    "print(df.shape)\n",
    "df.drop(['Prospect ID','Do Not Email','Do Not Call','Country','How did you hear about X Education','What is your current occupation','What matters most to you in choosing a course','Search','Magazine','Newspaper Article','X Education Forums','Newspaper','Digital Advertisement','Through Recommendations','Receive More Updates About Our Courses','Update me on Supply Chain Content','Get updates on DM Content','Asymmetrique Activity Index','I agree to pay the amount through cheque'],inplace=True,axis=1)\n",
    "print(df.shape)\n"
   ]
  },
  {
   "cell_type": "markdown",
   "id": "04de46da",
   "metadata": {},
   "source": [
    "### dropping all unique identifier and unbalanced columns"
   ]
  },
  {
   "cell_type": "code",
   "execution_count": 65,
   "id": "762f19e9",
   "metadata": {},
   "outputs": [
    {
     "data": {
      "text/html": [
       "<div>\n",
       "<style scoped>\n",
       "    .dataframe tbody tr th:only-of-type {\n",
       "        vertical-align: middle;\n",
       "    }\n",
       "\n",
       "    .dataframe tbody tr th {\n",
       "        vertical-align: top;\n",
       "    }\n",
       "\n",
       "    .dataframe thead th {\n",
       "        text-align: right;\n",
       "    }\n",
       "</style>\n",
       "<table border=\"1\" class=\"dataframe\">\n",
       "  <thead>\n",
       "    <tr style=\"text-align: right;\">\n",
       "      <th></th>\n",
       "      <th>Lead Number</th>\n",
       "      <th>Lead Origin</th>\n",
       "      <th>Lead Source</th>\n",
       "      <th>Converted</th>\n",
       "      <th>TotalVisits</th>\n",
       "      <th>Total Time Spent on Website</th>\n",
       "      <th>Page Views Per Visit</th>\n",
       "      <th>Last Activity</th>\n",
       "      <th>Specialization</th>\n",
       "      <th>Tags</th>\n",
       "      <th>Lead Quality</th>\n",
       "      <th>Lead Profile</th>\n",
       "      <th>City</th>\n",
       "      <th>Asymmetrique Profile Index</th>\n",
       "      <th>Asymmetrique Activity Score</th>\n",
       "      <th>Asymmetrique Profile Score</th>\n",
       "      <th>A free copy of Mastering The Interview</th>\n",
       "      <th>Last Notable Activity</th>\n",
       "    </tr>\n",
       "  </thead>\n",
       "  <tbody>\n",
       "    <tr>\n",
       "      <th>0</th>\n",
       "      <td>660737</td>\n",
       "      <td>API</td>\n",
       "      <td>Olark Chat</td>\n",
       "      <td>0</td>\n",
       "      <td>0.0</td>\n",
       "      <td>0</td>\n",
       "      <td>0.0</td>\n",
       "      <td>Page Visited on Website</td>\n",
       "      <td>Select</td>\n",
       "      <td>Interested in other courses</td>\n",
       "      <td>Low in Relevance</td>\n",
       "      <td>Select</td>\n",
       "      <td>Select</td>\n",
       "      <td>02.Medium</td>\n",
       "      <td>15.0</td>\n",
       "      <td>15.0</td>\n",
       "      <td>No</td>\n",
       "      <td>Modified</td>\n",
       "    </tr>\n",
       "    <tr>\n",
       "      <th>1</th>\n",
       "      <td>660728</td>\n",
       "      <td>API</td>\n",
       "      <td>Organic Search</td>\n",
       "      <td>0</td>\n",
       "      <td>5.0</td>\n",
       "      <td>674</td>\n",
       "      <td>2.5</td>\n",
       "      <td>Email Opened</td>\n",
       "      <td>Select</td>\n",
       "      <td>Ringing</td>\n",
       "      <td>NaN</td>\n",
       "      <td>Select</td>\n",
       "      <td>Select</td>\n",
       "      <td>02.Medium</td>\n",
       "      <td>15.0</td>\n",
       "      <td>15.0</td>\n",
       "      <td>No</td>\n",
       "      <td>Email Opened</td>\n",
       "    </tr>\n",
       "    <tr>\n",
       "      <th>2</th>\n",
       "      <td>660727</td>\n",
       "      <td>Landing Page Submission</td>\n",
       "      <td>Direct Traffic</td>\n",
       "      <td>1</td>\n",
       "      <td>2.0</td>\n",
       "      <td>1532</td>\n",
       "      <td>2.0</td>\n",
       "      <td>Email Opened</td>\n",
       "      <td>Business Administration</td>\n",
       "      <td>Will revert after reading the email</td>\n",
       "      <td>Might be</td>\n",
       "      <td>Potential Lead</td>\n",
       "      <td>Mumbai</td>\n",
       "      <td>01.High</td>\n",
       "      <td>14.0</td>\n",
       "      <td>20.0</td>\n",
       "      <td>Yes</td>\n",
       "      <td>Email Opened</td>\n",
       "    </tr>\n",
       "    <tr>\n",
       "      <th>3</th>\n",
       "      <td>660719</td>\n",
       "      <td>Landing Page Submission</td>\n",
       "      <td>Direct Traffic</td>\n",
       "      <td>0</td>\n",
       "      <td>1.0</td>\n",
       "      <td>305</td>\n",
       "      <td>1.0</td>\n",
       "      <td>Unreachable</td>\n",
       "      <td>Media and Advertising</td>\n",
       "      <td>Ringing</td>\n",
       "      <td>Not Sure</td>\n",
       "      <td>Select</td>\n",
       "      <td>Mumbai</td>\n",
       "      <td>01.High</td>\n",
       "      <td>13.0</td>\n",
       "      <td>17.0</td>\n",
       "      <td>No</td>\n",
       "      <td>Modified</td>\n",
       "    </tr>\n",
       "    <tr>\n",
       "      <th>4</th>\n",
       "      <td>660681</td>\n",
       "      <td>Landing Page Submission</td>\n",
       "      <td>Google</td>\n",
       "      <td>1</td>\n",
       "      <td>2.0</td>\n",
       "      <td>1428</td>\n",
       "      <td>1.0</td>\n",
       "      <td>Converted to Lead</td>\n",
       "      <td>Select</td>\n",
       "      <td>Will revert after reading the email</td>\n",
       "      <td>Might be</td>\n",
       "      <td>Select</td>\n",
       "      <td>Mumbai</td>\n",
       "      <td>01.High</td>\n",
       "      <td>15.0</td>\n",
       "      <td>18.0</td>\n",
       "      <td>No</td>\n",
       "      <td>Modified</td>\n",
       "    </tr>\n",
       "  </tbody>\n",
       "</table>\n",
       "</div>"
      ],
      "text/plain": [
       "   Lead Number              Lead Origin     Lead Source  Converted  \\\n",
       "0       660737                      API      Olark Chat          0   \n",
       "1       660728                      API  Organic Search          0   \n",
       "2       660727  Landing Page Submission  Direct Traffic          1   \n",
       "3       660719  Landing Page Submission  Direct Traffic          0   \n",
       "4       660681  Landing Page Submission          Google          1   \n",
       "\n",
       "   TotalVisits  Total Time Spent on Website  Page Views Per Visit  \\\n",
       "0          0.0                            0                   0.0   \n",
       "1          5.0                          674                   2.5   \n",
       "2          2.0                         1532                   2.0   \n",
       "3          1.0                          305                   1.0   \n",
       "4          2.0                         1428                   1.0   \n",
       "\n",
       "             Last Activity           Specialization  \\\n",
       "0  Page Visited on Website                   Select   \n",
       "1             Email Opened                   Select   \n",
       "2             Email Opened  Business Administration   \n",
       "3              Unreachable    Media and Advertising   \n",
       "4        Converted to Lead                   Select   \n",
       "\n",
       "                                  Tags      Lead Quality    Lead Profile  \\\n",
       "0          Interested in other courses  Low in Relevance          Select   \n",
       "1                              Ringing               NaN          Select   \n",
       "2  Will revert after reading the email          Might be  Potential Lead   \n",
       "3                              Ringing          Not Sure          Select   \n",
       "4  Will revert after reading the email          Might be          Select   \n",
       "\n",
       "     City Asymmetrique Profile Index  Asymmetrique Activity Score  \\\n",
       "0  Select                  02.Medium                         15.0   \n",
       "1  Select                  02.Medium                         15.0   \n",
       "2  Mumbai                    01.High                         14.0   \n",
       "3  Mumbai                    01.High                         13.0   \n",
       "4  Mumbai                    01.High                         15.0   \n",
       "\n",
       "   Asymmetrique Profile Score A free copy of Mastering The Interview  \\\n",
       "0                        15.0                                     No   \n",
       "1                        15.0                                     No   \n",
       "2                        20.0                                    Yes   \n",
       "3                        17.0                                     No   \n",
       "4                        18.0                                     No   \n",
       "\n",
       "  Last Notable Activity  \n",
       "0              Modified  \n",
       "1          Email Opened  \n",
       "2          Email Opened  \n",
       "3              Modified  \n",
       "4              Modified  "
      ]
     },
     "execution_count": 65,
     "metadata": {},
     "output_type": "execute_result"
    }
   ],
   "source": [
    "df.head()"
   ]
  },
  {
   "cell_type": "code",
   "execution_count": 66,
   "id": "fe3a8d1f",
   "metadata": {},
   "outputs": [
    {
     "data": {
      "text/plain": [
       "Lead Number                                  0\n",
       "Lead Origin                                  0\n",
       "Lead Source                                 36\n",
       "Converted                                    0\n",
       "TotalVisits                                137\n",
       "Total Time Spent on Website                  0\n",
       "Page Views Per Visit                       137\n",
       "Last Activity                              103\n",
       "Specialization                            1438\n",
       "Tags                                      3353\n",
       "Lead Quality                              4767\n",
       "Lead Profile                              2709\n",
       "City                                      1420\n",
       "Asymmetrique Profile Index                4218\n",
       "Asymmetrique Activity Score               4218\n",
       "Asymmetrique Profile Score                4218\n",
       "A free copy of Mastering The Interview       0\n",
       "Last Notable Activity                        0\n",
       "dtype: int64"
      ]
     },
     "execution_count": 66,
     "metadata": {},
     "output_type": "execute_result"
    }
   ],
   "source": [
    "df.isnull().sum()"
   ]
  },
  {
   "cell_type": "code",
   "execution_count": 67,
   "id": "fd16af0f",
   "metadata": {},
   "outputs": [
    {
     "name": "stdout",
     "output_type": "stream",
     "text": [
      "(9240, 18)\n",
      "(9240, 13)\n"
     ]
    }
   ],
   "source": [
    "print(df.shape)\n",
    "df.drop(['Lead Quality','Lead Profile','Asymmetrique Profile Index','Asymmetrique Activity Score','Asymmetrique Profile Score'],inplace=True,axis=1)\n",
    "print(df.shape)"
   ]
  },
  {
   "cell_type": "code",
   "execution_count": 66,
   "id": "e634bb34",
   "metadata": {},
   "outputs": [
    {
     "data": {
      "text/plain": [
       "Lead Number                                  0\n",
       "Lead Origin                                  0\n",
       "Lead Source                                 36\n",
       "Converted                                    0\n",
       "TotalVisits                                137\n",
       "Total Time Spent on Website                  0\n",
       "Page Views Per Visit                       137\n",
       "Last Activity                              103\n",
       "Specialization                            1438\n",
       "Tags                                      3353\n",
       "Lead Quality                              4767\n",
       "Lead Profile                              2709\n",
       "City                                      1420\n",
       "Asymmetrique Profile Index                4218\n",
       "Asymmetrique Activity Score               4218\n",
       "Asymmetrique Profile Score                4218\n",
       "A free copy of Mastering The Interview       0\n",
       "Last Notable Activity                        0\n",
       "dtype: int64"
      ]
     },
     "execution_count": 66,
     "metadata": {},
     "output_type": "execute_result"
    }
   ],
   "source": [
    "df.isnull().sum()"
   ]
  },
  {
   "cell_type": "markdown",
   "id": "ae8040fe",
   "metadata": {},
   "source": [
    "###  all the null value should be imputed"
   ]
  },
  {
   "cell_type": "code",
   "execution_count": 69,
   "id": "8aa50547",
   "metadata": {},
   "outputs": [
    {
     "name": "stdout",
     "output_type": "stream",
     "text": [
      "<class 'pandas.core.frame.DataFrame'>\n",
      "RangeIndex: 9240 entries, 0 to 9239\n",
      "Data columns (total 13 columns):\n",
      " #   Column                                  Non-Null Count  Dtype  \n",
      "---  ------                                  --------------  -----  \n",
      " 0   Lead Number                             9240 non-null   int64  \n",
      " 1   Lead Origin                             9240 non-null   object \n",
      " 2   Lead Source                             9204 non-null   object \n",
      " 3   Converted                               9240 non-null   int64  \n",
      " 4   TotalVisits                             9103 non-null   float64\n",
      " 5   Total Time Spent on Website             9240 non-null   int64  \n",
      " 6   Page Views Per Visit                    9103 non-null   float64\n",
      " 7   Last Activity                           9137 non-null   object \n",
      " 8   Specialization                          7802 non-null   object \n",
      " 9   Tags                                    5887 non-null   object \n",
      " 10  City                                    7820 non-null   object \n",
      " 11  A free copy of Mastering The Interview  9240 non-null   object \n",
      " 12  Last Notable Activity                   9240 non-null   object \n",
      "dtypes: float64(2), int64(3), object(8)\n",
      "memory usage: 938.6+ KB\n"
     ]
    }
   ],
   "source": [
    "df.info()"
   ]
  },
  {
   "cell_type": "code",
   "execution_count": 70,
   "id": "123d7b3b",
   "metadata": {},
   "outputs": [],
   "source": [
    "df['Lead Source'].fillna(df['Lead Source'].mode()[0],inplace=True)"
   ]
  },
  {
   "cell_type": "code",
   "execution_count": 71,
   "id": "1b351b10",
   "metadata": {},
   "outputs": [
    {
     "data": {
      "image/png": "[encoded data removed]",
      "text/plain": [
       "<Figure size 432x288 with 1 Axes>"
      ]
     },
     "metadata": {
      "needs_background": "light"
     },
     "output_type": "display_data"
    }
   ],
   "source": [
    "sns.boxplot(df['TotalVisits'])\n",
    "plt.show()"
   ]
  },
  {
   "cell_type": "markdown",
   "id": "2b050bb7",
   "metadata": {},
   "source": [
    "### outliers are present. so it should be imputed with median"
   ]
  },
  {
   "cell_type": "code",
   "execution_count": 67,
   "id": "1a392c8d",
   "metadata": {},
   "outputs": [],
   "source": [
    "df['TotalVisits'].fillna(df['TotalVisits'].median(),inplace=True)"
   ]
  },
  {
   "cell_type": "code",
   "execution_count": 69,
   "id": "8e1f335b",
   "metadata": {},
   "outputs": [
    {
     "data": {
      "image/png": "[encoded data removed]",
      "text/plain": [
       "<Figure size 432x288 with 1 Axes>"
      ]
     },
     "metadata": {
      "needs_background": "light"
     },
     "output_type": "display_data"
    }
   ],
   "source": [
    "sns.boxplot(df['Page Views Per Visit'])\n",
    "plt.show()"
   ]
  },
  {
   "cell_type": "markdown",
   "id": "a1a0038d",
   "metadata": {},
   "source": [
    "### outliers are present. so it should be imputed with median"
   ]
  },
  {
   "cell_type": "code",
   "execution_count": 70,
   "id": "117d2c12",
   "metadata": {},
   "outputs": [
    {
     "data": {
      "text/plain": [
       "0"
      ]
     },
     "execution_count": 70,
     "metadata": {},
     "output_type": "execute_result"
    }
   ],
   "source": [
    "df['Page Views Per Visit'].fillna(df['Page Views Per Visit'].median(),inplace=True)\n",
    "df['Page Views Per Visit'].isnull().sum()"
   ]
  },
  {
   "cell_type": "code",
   "execution_count": 75,
   "id": "16ad6729",
   "metadata": {},
   "outputs": [
    {
     "data": {
      "text/plain": [
       "0"
      ]
     },
     "execution_count": 75,
     "metadata": {},
     "output_type": "execute_result"
    }
   ],
   "source": [
    "df['Last Activity'].fillna(df['Last Activity'].mode()[0],inplace=True)\n",
    "df['Last Activity'].isnull().sum()"
   ]
  },
  {
   "cell_type": "code",
   "execution_count": 76,
   "id": "2faa6ef1",
   "metadata": {},
   "outputs": [
    {
     "data": {
      "text/plain": [
       "0"
      ]
     },
     "execution_count": 76,
     "metadata": {},
     "output_type": "execute_result"
    }
   ],
   "source": [
    "df['Specialization'].fillna(df['Specialization'].mode()[0],inplace=True)\n",
    "df['Specialization'].isnull().sum()"
   ]
  },
  {
   "cell_type": "code",
   "execution_count": 77,
   "id": "1594dca6",
   "metadata": {},
   "outputs": [
    {
     "data": {
      "text/plain": [
       "0"
      ]
     },
     "execution_count": 77,
     "metadata": {},
     "output_type": "execute_result"
    }
   ],
   "source": [
    "df['Tags'].fillna(df['Tags'].mode()[0],inplace=True)\n",
    "df['Tags'].isnull().sum()"
   ]
  },
  {
   "cell_type": "code",
   "execution_count": 78,
   "id": "d1de4582",
   "metadata": {},
   "outputs": [
    {
     "data": {
      "text/plain": [
       "0"
      ]
     },
     "execution_count": 78,
     "metadata": {},
     "output_type": "execute_result"
    }
   ],
   "source": [
    "df['City'].fillna(df['City'].mode()[0],inplace=True)\n",
    "df['City'].isnull().sum()"
   ]
  },
  {
   "cell_type": "code",
   "execution_count": 79,
   "id": "b2ab2ff3",
   "metadata": {},
   "outputs": [
    {
     "data": {
      "text/plain": [
       "Lead Number                               0\n",
       "Lead Origin                               0\n",
       "Lead Source                               0\n",
       "Converted                                 0\n",
       "TotalVisits                               0\n",
       "Total Time Spent on Website               0\n",
       "Page Views Per Visit                      0\n",
       "Last Activity                             0\n",
       "Specialization                            0\n",
       "Tags                                      0\n",
       "City                                      0\n",
       "A free copy of Mastering The Interview    0\n",
       "Last Notable Activity                     0\n",
       "dtype: int64"
      ]
     },
     "execution_count": 79,
     "metadata": {},
     "output_type": "execute_result"
    }
   ],
   "source": [
    "df.isnull().sum()"
   ]
  },
  {
   "cell_type": "code",
   "execution_count": 80,
   "id": "0079f6a0",
   "metadata": {},
   "outputs": [
    {
     "name": "stdout",
     "output_type": "stream",
     "text": [
      "(9240, 13)\n",
      "(9240, 12)\n"
     ]
    }
   ],
   "source": [
    "print(df.shape)\n",
    "df.drop('Lead Number',inplace=True,axis=1)\n",
    "print(df.shape)"
   ]
  },
  {
   "cell_type": "markdown",
   "id": "7277c1b5",
   "metadata": {},
   "source": [
    "## outliers treatment\n"
   ]
  },
  {
   "cell_type": "code",
   "execution_count": 81,
   "id": "b81c05f1",
   "metadata": {
    "scrolled": true
   },
   "outputs": [
    {
     "name": "stdout",
     "output_type": "stream",
     "text": [
      "<class 'pandas.core.frame.DataFrame'>\n",
      "RangeIndex: 9240 entries, 0 to 9239\n",
      "Data columns (total 12 columns):\n",
      " #   Column                                  Non-Null Count  Dtype  \n",
      "---  ------                                  --------------  -----  \n",
      " 0   Lead Origin                             9240 non-null   object \n",
      " 1   Lead Source                             9240 non-null   object \n",
      " 2   Converted                               9240 non-null   int64  \n",
      " 3   TotalVisits                             9240 non-null   float64\n",
      " 4   Total Time Spent on Website             9240 non-null   int64  \n",
      " 5   Page Views Per Visit                    9240 non-null   float64\n",
      " 6   Last Activity                           9240 non-null   object \n",
      " 7   Specialization                          9240 non-null   object \n",
      " 8   Tags                                    9240 non-null   object \n",
      " 9   City                                    9240 non-null   object \n",
      " 10  A free copy of Mastering The Interview  9240 non-null   object \n",
      " 11  Last Notable Activity                   9240 non-null   object \n",
      "dtypes: float64(2), int64(2), object(8)\n",
      "memory usage: 866.4+ KB\n"
     ]
    }
   ],
   "source": [
    "df.info()"
   ]
  },
  {
   "cell_type": "code",
   "execution_count": 82,
   "id": "c084c9da",
   "metadata": {},
   "outputs": [
    {
     "data": {
      "text/plain": [
       "0    5679\n",
       "1    3561\n",
       "Name: Converted, dtype: int64"
      ]
     },
     "execution_count": 82,
     "metadata": {},
     "output_type": "execute_result"
    }
   ],
   "source": [
    "df['Converted'].value_counts()"
   ]
  },
  {
   "cell_type": "code",
   "execution_count": 83,
   "id": "8c3b14f9",
   "metadata": {},
   "outputs": [
    {
     "data": {
      "image/png": "[encoded data removed]",
      "text/plain": [
       "<Figure size 432x288 with 1 Axes>"
      ]
     },
     "metadata": {
      "needs_background": "light"
     },
     "output_type": "display_data"
    }
   ],
   "source": [
    "sns.boxplot(df['TotalVisits'])\n",
    "plt.show()"
   ]
  },
  {
   "cell_type": "code",
   "execution_count": 84,
   "id": "41e68c2d",
   "metadata": {},
   "outputs": [
    {
     "name": "stdout",
     "output_type": "stream",
     "text": [
      "4.0 -5.0 11.0\n"
     ]
    }
   ],
   "source": [
    "IQRtv=df['TotalVisits'].quantile(0.75)-df['TotalVisits'].quantile(0.25)\n",
    "lowtv=df['TotalVisits'].quantile(0.25)-(1.5*IQRtv)\n",
    "hightv=df['TotalVisits'].quantile(0.75)+(1.5*IQRtv)\n",
    "print(IQRtv,lowtv,hightv)"
   ]
  },
  {
   "cell_type": "code",
   "execution_count": 85,
   "id": "627455e4",
   "metadata": {},
   "outputs": [],
   "source": [
    "treated_tv=np.where(df['TotalVisits']>hightv,hightv,df['TotalVisits'])\n",
    "df['TotalVisits'] = pd.DataFrame(treated_tv)"
   ]
  },
  {
   "cell_type": "code",
   "execution_count": 86,
   "id": "72b48230",
   "metadata": {},
   "outputs": [
    {
     "data": {
      "image/png": "[encoded data removed]",
      "text/plain": [
       "<Figure size 432x288 with 1 Axes>"
      ]
     },
     "metadata": {
      "needs_background": "light"
     },
     "output_type": "display_data"
    }
   ],
   "source": [
    "sns.boxplot(df['TotalVisits'])\n",
    "plt.show()"
   ]
  },
  {
   "cell_type": "code",
   "execution_count": 87,
   "id": "2821dc3d",
   "metadata": {},
   "outputs": [
    {
     "data": {
      "image/png": "[encoded data removed]",
      "text/plain": [
       "<Figure size 432x288 with 1 Axes>"
      ]
     },
     "metadata": {
      "needs_background": "light"
     },
     "output_type": "display_data"
    }
   ],
   "source": [
    "sns.boxplot(df['Total Time Spent on Website'])\n",
    "plt.show()"
   ]
  },
  {
   "cell_type": "code",
   "execution_count": 88,
   "id": "66b49009",
   "metadata": {},
   "outputs": [
    {
     "data": {
      "image/png": "[encoded data removed]",
      "text/plain": [
       "<Figure size 432x288 with 1 Axes>"
      ]
     },
     "metadata": {
      "needs_background": "light"
     },
     "output_type": "display_data"
    }
   ],
   "source": [
    "sns.boxplot(df['Page Views Per Visit'])\n",
    "plt.show()"
   ]
  },
  {
   "cell_type": "code",
   "execution_count": 89,
   "id": "b9b85c47",
   "metadata": {},
   "outputs": [
    {
     "name": "stdout",
     "output_type": "stream",
     "text": [
      "2.0 6.0\n"
     ]
    }
   ],
   "source": [
    "IQRpv=df['Page Views Per Visit'].quantile(0.75)-df['Page Views Per Visit'].quantile(0.25)\n",
    "highpv=df['Page Views Per Visit'].quantile(0.75)+(1.5*IQRpv)\n",
    "print(IQRpv,highpv)"
   ]
  },
  {
   "cell_type": "code",
   "execution_count": 90,
   "id": "93e56819",
   "metadata": {},
   "outputs": [],
   "source": [
    "treated_pv = np.where(df['Page Views Per Visit']>highpv,highpv,df['Page Views Per Visit'])\n",
    "df['Page Views Per Visit']=pd.DataFrame(treated_pv)"
   ]
  },
  {
   "cell_type": "code",
   "execution_count": 91,
   "id": "cc933eb7",
   "metadata": {},
   "outputs": [
    {
     "data": {
      "image/png": "[encoded data removed]",
      "text/plain": [
       "<Figure size 432x288 with 1 Axes>"
      ]
     },
     "metadata": {
      "needs_background": "light"
     },
     "output_type": "display_data"
    }
   ],
   "source": [
    "sns.boxplot(df['Page Views Per Visit'])\n",
    "plt.show()"
   ]
  },
  {
   "cell_type": "code",
   "execution_count": 92,
   "id": "89bd954e",
   "metadata": {},
   "outputs": [
    {
     "name": "stdout",
     "output_type": "stream",
     "text": [
      "<class 'pandas.core.frame.DataFrame'>\n",
      "RangeIndex: 9240 entries, 0 to 9239\n",
      "Data columns (total 12 columns):\n",
      " #   Column                                  Non-Null Count  Dtype  \n",
      "---  ------                                  --------------  -----  \n",
      " 0   Lead Origin                             9240 non-null   object \n",
      " 1   Lead Source                             9240 non-null   object \n",
      " 2   Converted                               9240 non-null   int64  \n",
      " 3   TotalVisits                             9240 non-null   float64\n",
      " 4   Total Time Spent on Website             9240 non-null   int64  \n",
      " 5   Page Views Per Visit                    9240 non-null   float64\n",
      " 6   Last Activity                           9240 non-null   object \n",
      " 7   Specialization                          9240 non-null   object \n",
      " 8   Tags                                    9240 non-null   object \n",
      " 9   City                                    9240 non-null   object \n",
      " 10  A free copy of Mastering The Interview  9240 non-null   object \n",
      " 11  Last Notable Activity                   9240 non-null   object \n",
      "dtypes: float64(2), int64(2), object(8)\n",
      "memory usage: 866.4+ KB\n"
     ]
    }
   ],
   "source": [
    "df.info()"
   ]
  },
  {
   "cell_type": "code",
   "execution_count": 93,
   "id": "1bb563f6",
   "metadata": {},
   "outputs": [
    {
     "data": {
      "image/png": "[encoded data removed]",
      "text/plain": [
       "<Figure size 432x288 with 1 Axes>"
      ]
     },
     "metadata": {
      "needs_background": "light"
     },
     "output_type": "display_data"
    }
   ],
   "source": [
    "sns.distplot(df['TotalVisits'])\n",
    "plt.show()"
   ]
  },
  {
   "cell_type": "code",
   "execution_count": 95,
   "id": "5f19bc05",
   "metadata": {},
   "outputs": [
    {
     "data": {
      "image/png": "[encoded data removed]",
      "text/plain": [
       "<Figure size 432x288 with 1 Axes>"
      ]
     },
     "metadata": {
      "needs_background": "light"
     },
     "output_type": "display_data"
    }
   ],
   "source": [
    "df['TotalVisits'] =1/ (df['TotalVisits']+2)\n",
    "sns.distplot(df['TotalVisits'])\n",
    "plt.show()\n"
   ]
  },
  {
   "cell_type": "code",
   "execution_count": 96,
   "id": "82061612",
   "metadata": {},
   "outputs": [
    {
     "name": "stdout",
     "output_type": "stream",
     "text": [
      "Optimal lambda:  23.261174727416005\n"
     ]
    },
    {
     "data": {
      "image/png": "[encoded data removed]",
      "text/plain": [
       "<Figure size 432x288 with 1 Axes>"
      ]
     },
     "metadata": {
      "needs_background": "light"
     },
     "output_type": "display_data"
    }
   ],
   "source": [
    "df['TotalVisits'], param = stats.boxcox(df['TotalVisits']+1) # you can vary the exponent as needed\n",
    "\n",
    "\n",
    "sns.distplot(df['TotalVisits'])\n",
    "plt.title('TotalVisits')\n",
    "plt.show()"
   ]
  },
  {
   "cell_type": "code",
   "execution_count": 96,
   "id": "6f4456cb",
   "metadata": {},
   "outputs": [
    {
     "data": {
      "image/png": "[encoded data removed]",
      "text/plain": [
       "<Figure size 432x288 with 1 Axes>"
      ]
     },
     "metadata": {
      "needs_background": "light"
     },
     "output_type": "display_data"
    }
   ],
   "source": [
    "sns.distplot(df['Total Time Spent on Website'])\n",
    "plt.show()"
   ]
  },
  {
   "cell_type": "code",
   "execution_count": 97,
   "id": "3728e27c",
   "metadata": {},
   "outputs": [
    {
     "data": {
      "image/png": "[encoded data removed]",
      "text/plain": [
       "<Figure size 432x288 with 1 Axes>"
      ]
     },
     "metadata": {
      "needs_background": "light"
     },
     "output_type": "display_data"
    }
   ],
   "source": [
    "df['Total Time Spent on Website'] = np.log(df['Total Time Spent on Website']+1)\n",
    "sns.distplot(df['Total Time Spent on Website'])\n",
    "plt.show()"
   ]
  },
  {
   "cell_type": "code",
   "execution_count": 98,
   "id": "c3b1f4ff",
   "metadata": {},
   "outputs": [
    {
     "data": {
      "image/png": "[encoded data removed]",
      "text/plain": [
       "<Figure size 432x288 with 1 Axes>"
      ]
     },
     "metadata": {
      "needs_background": "light"
     },
     "output_type": "display_data"
    }
   ],
   "source": [
    "sns.distplot(df['Page Views Per Visit'])\n",
    "plt.show()"
   ]
  },
  {
   "cell_type": "code",
   "execution_count": 99,
   "id": "5082190a",
   "metadata": {},
   "outputs": [
    {
     "data": {
      "image/png": "[encoded data removed]",
      "text/plain": [
       "<Figure size 432x288 with 1 Axes>"
      ]
     },
     "metadata": {
      "needs_background": "light"
     },
     "output_type": "display_data"
    }
   ],
   "source": [
    "a = 1/(df['Page Views Per Visit']+2)\n",
    "sns.distplot(a)\n",
    "plt.show()"
   ]
  },
  {
   "cell_type": "markdown",
   "id": "7615a92c",
   "metadata": {},
   "source": [
    "## categorical treatment"
   ]
  },
  {
   "cell_type": "code",
   "execution_count": 100,
   "id": "422b58d4",
   "metadata": {},
   "outputs": [
    {
     "name": "stdout",
     "output_type": "stream",
     "text": [
      "<class 'pandas.core.frame.DataFrame'>\n",
      "RangeIndex: 9240 entries, 0 to 9239\n",
      "Data columns (total 12 columns):\n",
      " #   Column                                  Non-Null Count  Dtype  \n",
      "---  ------                                  --------------  -----  \n",
      " 0   Lead Origin                             9240 non-null   object \n",
      " 1   Lead Source                             9240 non-null   object \n",
      " 2   Converted                               9240 non-null   int64  \n",
      " 3   TotalVisits                             9240 non-null   float64\n",
      " 4   Total Time Spent on Website             9240 non-null   float64\n",
      " 5   Page Views Per Visit                    9240 non-null   float64\n",
      " 6   Last Activity                           9240 non-null   object \n",
      " 7   Specialization                          9240 non-null   object \n",
      " 8   Tags                                    9240 non-null   object \n",
      " 9   City                                    9240 non-null   object \n",
      " 10  A free copy of Mastering The Interview  9240 non-null   object \n",
      " 11  Last Notable Activity                   9240 non-null   object \n",
      "dtypes: float64(3), int64(1), object(8)\n",
      "memory usage: 866.4+ KB\n"
     ]
    }
   ],
   "source": [
    "df.info()"
   ]
  },
  {
   "cell_type": "code",
   "execution_count": 101,
   "id": "5f307d16",
   "metadata": {},
   "outputs": [
    {
     "data": {
      "text/plain": [
       "Landing Page Submission    4886\n",
       "API                        3580\n",
       "Lead Add Form               718\n",
       "Lead Import                  55\n",
       "Quick Add Form                1\n",
       "Name: Lead Origin, dtype: int64"
      ]
     },
     "execution_count": 101,
     "metadata": {},
     "output_type": "execute_result"
    }
   ],
   "source": [
    "df['Lead Origin'].value_counts()"
   ]
  },
  {
   "cell_type": "markdown",
   "id": "14a07625",
   "metadata": {},
   "source": [
    "### one hot encoding"
   ]
  },
  {
   "cell_type": "code",
   "execution_count": 102,
   "id": "bc5023f1",
   "metadata": {},
   "outputs": [
    {
     "name": "stdout",
     "output_type": "stream",
     "text": [
      "(9240, 12)\n",
      "(9240, 11)\n"
     ]
    }
   ],
   "source": [
    "dummies = pd.get_dummies(df['Lead Origin'])\n",
    "print(df.shape)\n",
    "df.drop('Lead Origin',inplace=True,axis=1)\n",
    "print(df.shape)"
   ]
  },
  {
   "cell_type": "code",
   "execution_count": 103,
   "id": "1d472f4a",
   "metadata": {},
   "outputs": [
    {
     "data": {
      "text/plain": [
       "(9240, 16)"
      ]
     },
     "execution_count": 103,
     "metadata": {},
     "output_type": "execute_result"
    }
   ],
   "source": [
    "df = pd.concat([dummies,df],axis=1)\n",
    "df.shape"
   ]
  },
  {
   "cell_type": "code",
   "execution_count": 104,
   "id": "1511d835",
   "metadata": {},
   "outputs": [
    {
     "data": {
      "text/plain": [
       "Google               2904\n",
       "Direct Traffic       2543\n",
       "Olark Chat           1755\n",
       "Organic Search       1154\n",
       "Reference             534\n",
       "Welingak Website      142\n",
       "Referral Sites        125\n",
       "Facebook               55\n",
       "bing                    6\n",
       "google                  5\n",
       "Click2call              4\n",
       "Live Chat               2\n",
       "Press_Release           2\n",
       "Social Media            2\n",
       "Pay per Click Ads       1\n",
       "welearnblog_Home        1\n",
       "youtubechannel          1\n",
       "WeLearn                 1\n",
       "testone                 1\n",
       "blog                    1\n",
       "NC_EDM                  1\n",
       "Name: Lead Source, dtype: int64"
      ]
     },
     "execution_count": 104,
     "metadata": {},
     "output_type": "execute_result"
    }
   ],
   "source": [
    "df['Lead Source'].value_counts()"
   ]
  },
  {
   "cell_type": "code",
   "execution_count": 105,
   "id": "16ae7e45",
   "metadata": {},
   "outputs": [],
   "source": [
    "df['Lead Source'].replace(to_replace=['Google','Direct Traffic','Olark Chat','Organic Search','Reference','Welingak Website','Referral Sites','Facebook','bing','google','Click2call','Social Media','Live Chat','Press_Release','youtubechannel','blog','NC_EDM','welearnblog_Home','testone','WeLearn','Pay per Click Ads'],\n",
    "               value=[1,3,7,59,102,654,759,11,103,459,652,326,985,785,5213,69,98,574,12,22,99],inplace=True)"
   ]
  },
  {
   "cell_type": "code",
   "execution_count": 106,
   "id": "f2df9b21",
   "metadata": {},
   "outputs": [
    {
     "data": {
      "text/plain": [
       "1       2904\n",
       "3       2543\n",
       "7       1755\n",
       "59      1154\n",
       "102      534\n",
       "654      142\n",
       "759      125\n",
       "11        55\n",
       "103        6\n",
       "459        5\n",
       "652        4\n",
       "785        2\n",
       "326        2\n",
       "985        2\n",
       "69         1\n",
       "22         1\n",
       "574        1\n",
       "12         1\n",
       "99         1\n",
       "98         1\n",
       "5213       1\n",
       "Name: Lead Source, dtype: int64"
      ]
     },
     "execution_count": 106,
     "metadata": {},
     "output_type": "execute_result"
    }
   ],
   "source": [
    "df['Lead Source'].value_counts()"
   ]
  },
  {
   "cell_type": "code",
   "execution_count": 107,
   "id": "42978c89",
   "metadata": {},
   "outputs": [
    {
     "data": {
      "text/plain": [
       "17"
      ]
     },
     "execution_count": 107,
     "metadata": {},
     "output_type": "execute_result"
    }
   ],
   "source": [
    "df['Last Activity'].value_counts().count()"
   ]
  },
  {
   "cell_type": "code",
   "execution_count": 108,
   "id": "2bbe185f",
   "metadata": {},
   "outputs": [],
   "source": [
    "df['Last Activity'].replace(to_replace=['Email Opened','SMS Sent','Olark Chat Conversation','Page Visited on Website','Converted to Lead','Email Bounced','Email Link Clicked','Form Submitted on Website','Unreachable','Unsubscribed','Had a Phone Conversation','Approached upfront','View in browser link Clicked','Email Received','Email Marked Spam','Visited Booth in Tradeshow','Resubscribed to emails'],\n",
    "                            value=[1,3,7,59,102,654,759,11,103,459,652,326,985,785,5213,69,98],inplace=True)\n"
   ]
  },
  {
   "cell_type": "code",
   "execution_count": 109,
   "id": "3359f7f4",
   "metadata": {},
   "outputs": [
    {
     "data": {
      "text/plain": [
       "17"
      ]
     },
     "execution_count": 109,
     "metadata": {},
     "output_type": "execute_result"
    }
   ],
   "source": [
    "df['Last Activity'].value_counts().count()"
   ]
  },
  {
   "cell_type": "code",
   "execution_count": 110,
   "id": "481ca4ff",
   "metadata": {},
   "outputs": [
    {
     "data": {
      "text/plain": [
       "19"
      ]
     },
     "execution_count": 110,
     "metadata": {},
     "output_type": "execute_result"
    }
   ],
   "source": [
    "df['Specialization'].value_counts().count()"
   ]
  },
  {
   "cell_type": "code",
   "execution_count": 111,
   "id": "1cd8ef7f",
   "metadata": {},
   "outputs": [],
   "source": [
    "df['Specialization'].replace(['Select','Finance Management','Human Resource Management','Marketing Management','Operations Management','Business Administration','IT Projects Management','Supply Chain Management','Banking, Investment And Insurance','Media and Advertising','Travel and Tourism','International Business','Healthcare Management','Hospitality Management','E-COMMERCE','Retail Management','Rural and Agribusiness','E-Business','Services Excellence'],\n",
    "                            value=[1,3,7,59,102,654,759,11,103,459,652,326,985,785,5213,69,98,574,12],inplace=True)"
   ]
  },
  {
   "cell_type": "code",
   "execution_count": 112,
   "id": "22d0b25e",
   "metadata": {},
   "outputs": [
    {
     "data": {
      "text/plain": [
       "1       3380\n",
       "3        976\n",
       "7        848\n",
       "59       838\n",
       "102      503\n",
       "654      403\n",
       "759      366\n",
       "11       349\n",
       "103      338\n",
       "652      203\n",
       "459      203\n",
       "326      178\n",
       "985      159\n",
       "785      114\n",
       "5213     112\n",
       "69       100\n",
       "98        73\n",
       "574       57\n",
       "12        40\n",
       "Name: Specialization, dtype: int64"
      ]
     },
     "execution_count": 112,
     "metadata": {},
     "output_type": "execute_result"
    }
   ],
   "source": [
    "df['Specialization'].value_counts()"
   ]
  },
  {
   "cell_type": "code",
   "execution_count": 113,
   "id": "fcbfc1f6",
   "metadata": {},
   "outputs": [
    {
     "data": {
      "text/plain": [
       "26"
      ]
     },
     "execution_count": 113,
     "metadata": {},
     "output_type": "execute_result"
    }
   ],
   "source": [
    "df['Tags'].value_counts().count()\n",
    "\n",
    "    \n"
   ]
  },
  {
   "cell_type": "code",
   "execution_count": 114,
   "id": "7e4af105",
   "metadata": {},
   "outputs": [],
   "source": [
    "df['Tags'].replace(to_replace=['Will revert after reading the email','Ringing','Interested in other courses','Already a student','Closed by Horizzon','switched off','Busy','Lost to EINS','Not doing further education','Interested  in full time MBA','Graduation in progress','invalid number','Diploma holder (Not Eligible)','wrong number given','opp hangup','number not provided','in touch with EINS','Lost to Others','Want to take admission but has financial problems','Still Thinking','In confusion whether part time or DLP','Interested in Next batch','Lateral student','Shall take in the next coming month','University not recognized','Recognition issue (DEC approval)'],\n",
    "                  value=[1,3,7,59,102,654,759,11,103,459,652,326,985,785,5213,69,98,574,12,22,99,3216,555,666,333,222],inplace=True)"
   ]
  },
  {
   "cell_type": "code",
   "execution_count": 115,
   "id": "4a03801d",
   "metadata": {},
   "outputs": [
    {
     "data": {
      "text/plain": [
       "1       5425\n",
       "3       1203\n",
       "7        513\n",
       "59       465\n",
       "102      358\n",
       "654      240\n",
       "759      186\n",
       "11       175\n",
       "103      145\n",
       "459      117\n",
       "652      111\n",
       "326       83\n",
       "985       63\n",
       "785       47\n",
       "5213      33\n",
       "69        27\n",
       "98        12\n",
       "574        7\n",
       "12         6\n",
       "22         6\n",
       "99         5\n",
       "3216       5\n",
       "555        3\n",
       "333        2\n",
       "666        2\n",
       "222        1\n",
       "Name: Tags, dtype: int64"
      ]
     },
     "execution_count": 115,
     "metadata": {},
     "output_type": "execute_result"
    }
   ],
   "source": [
    "df['Tags'].value_counts()"
   ]
  },
  {
   "cell_type": "code",
   "execution_count": 116,
   "id": "38f9d412",
   "metadata": {},
   "outputs": [
    {
     "data": {
      "text/plain": [
       "Mumbai                         4642\n",
       "Select                         2249\n",
       "Thane & Outskirts               752\n",
       "Other Cities                    686\n",
       "Other Cities of Maharashtra     457\n",
       "Other Metro Cities              380\n",
       "Tier II Cities                   74\n",
       "Name: City, dtype: int64"
      ]
     },
     "execution_count": 116,
     "metadata": {},
     "output_type": "execute_result"
    }
   ],
   "source": [
    "df['City'].value_counts()"
   ]
  },
  {
   "cell_type": "code",
   "execution_count": 117,
   "id": "4efbcbb8",
   "metadata": {},
   "outputs": [],
   "source": [
    "df['City'].replace(to_replace=['Mumbai','Select','Thane & Outskirts','Other Cities','Other Cities of Maharashtra','Other Metro Cities','Tier II Cities'],\n",
    "                  value=[23,45,65,102,98,66,32],inplace=True)"
   ]
  },
  {
   "cell_type": "code",
   "execution_count": 118,
   "id": "99cc2914",
   "metadata": {},
   "outputs": [
    {
     "data": {
      "text/plain": [
       "23     4642\n",
       "45     2249\n",
       "65      752\n",
       "102     686\n",
       "98      457\n",
       "66      380\n",
       "32       74\n",
       "Name: City, dtype: int64"
      ]
     },
     "execution_count": 118,
     "metadata": {},
     "output_type": "execute_result"
    }
   ],
   "source": [
    "df['City'].value_counts()"
   ]
  },
  {
   "cell_type": "code",
   "execution_count": 119,
   "id": "b6b80e8c",
   "metadata": {},
   "outputs": [
    {
     "data": {
      "text/plain": [
       "No     6352\n",
       "Yes    2888\n",
       "Name: A free copy of Mastering The Interview, dtype: int64"
      ]
     },
     "execution_count": 119,
     "metadata": {},
     "output_type": "execute_result"
    }
   ],
   "source": [
    "df['A free copy of Mastering The Interview'].value_counts()"
   ]
  },
  {
   "cell_type": "code",
   "execution_count": 120,
   "id": "02555070",
   "metadata": {},
   "outputs": [],
   "source": [
    "df['A free copy of Mastering The Interview'].replace(to_replace=['No','Yes'],value=[0,1],inplace=True)"
   ]
  },
  {
   "cell_type": "code",
   "execution_count": 121,
   "id": "1fde71f3",
   "metadata": {},
   "outputs": [
    {
     "data": {
      "text/plain": [
       "0    6352\n",
       "1    2888\n",
       "Name: A free copy of Mastering The Interview, dtype: int64"
      ]
     },
     "execution_count": 121,
     "metadata": {},
     "output_type": "execute_result"
    }
   ],
   "source": [
    "df['A free copy of Mastering The Interview'].value_counts()"
   ]
  },
  {
   "cell_type": "code",
   "execution_count": 124,
   "id": "6c90e535",
   "metadata": {},
   "outputs": [
    {
     "data": {
      "text/plain": [
       "16"
      ]
     },
     "execution_count": 124,
     "metadata": {},
     "output_type": "execute_result"
    }
   ],
   "source": [
    "df['Last Notable Activity'].value_counts().count()"
   ]
  },
  {
   "cell_type": "code",
   "execution_count": 125,
   "id": "53c8ce67",
   "metadata": {},
   "outputs": [],
   "source": [
    "df['Last Notable Activity'].replace(to_replace=['Modified','Email Opened','SMS Sent','Page Visited on Website','Olark Chat Conversation','Email Link Clicked','Email Bounced','Unsubscribed','Unreachable','Had a Phone Conversation','Email Marked Spam','View in browser link Clicked','Form Submitted on Website','Email Received','Approached upfront','Resubscribed to emails'],\n",
    "                                   value=[1,3,7,59,102,654,759,11,103,459,652,326,985,785,5213,98],inplace=True)"
   ]
  },
  {
   "cell_type": "code",
   "execution_count": 126,
   "id": "45139ab5",
   "metadata": {},
   "outputs": [
    {
     "data": {
      "text/plain": [
       "1       3407\n",
       "3       2827\n",
       "7       2172\n",
       "59       318\n",
       "102      183\n",
       "654      173\n",
       "759       60\n",
       "11        47\n",
       "103       32\n",
       "459       14\n",
       "652        2\n",
       "785        1\n",
       "985        1\n",
       "98         1\n",
       "326        1\n",
       "5213       1\n",
       "Name: Last Notable Activity, dtype: int64"
      ]
     },
     "execution_count": 126,
     "metadata": {},
     "output_type": "execute_result"
    }
   ],
   "source": [
    "df['Last Notable Activity'].value_counts()"
   ]
  },
  {
   "cell_type": "code",
   "execution_count": 129,
   "id": "5fe449e3",
   "metadata": {},
   "outputs": [
    {
     "data": {
      "text/html": [
       "<div>\n",
       "<style scoped>\n",
       "    .dataframe tbody tr th:only-of-type {\n",
       "        vertical-align: middle;\n",
       "    }\n",
       "\n",
       "    .dataframe tbody tr th {\n",
       "        vertical-align: top;\n",
       "    }\n",
       "\n",
       "    .dataframe thead th {\n",
       "        text-align: right;\n",
       "    }\n",
       "</style>\n",
       "<table border=\"1\" class=\"dataframe\">\n",
       "  <thead>\n",
       "    <tr style=\"text-align: right;\">\n",
       "      <th></th>\n",
       "      <th>API</th>\n",
       "      <th>Landing Page Submission</th>\n",
       "      <th>Lead Add Form</th>\n",
       "      <th>Lead Import</th>\n",
       "      <th>Quick Add Form</th>\n",
       "      <th>Lead Source</th>\n",
       "      <th>Converted</th>\n",
       "      <th>TotalVisits</th>\n",
       "      <th>Total Time Spent on Website</th>\n",
       "      <th>Page Views Per Visit</th>\n",
       "      <th>Last Activity</th>\n",
       "      <th>Specialization</th>\n",
       "      <th>Tags</th>\n",
       "      <th>City</th>\n",
       "      <th>A free copy of Mastering The Interview</th>\n",
       "      <th>Last Notable Activity</th>\n",
       "    </tr>\n",
       "  </thead>\n",
       "  <tbody>\n",
       "    <tr>\n",
       "      <th>0</th>\n",
       "      <td>1</td>\n",
       "      <td>0</td>\n",
       "      <td>0</td>\n",
       "      <td>0</td>\n",
       "      <td>0</td>\n",
       "      <td>7</td>\n",
       "      <td>0</td>\n",
       "      <td>0.202709</td>\n",
       "      <td>0.000000</td>\n",
       "      <td>0.00</td>\n",
       "      <td>59</td>\n",
       "      <td>1</td>\n",
       "      <td>7</td>\n",
       "      <td>45</td>\n",
       "      <td>0</td>\n",
       "      <td>1</td>\n",
       "    </tr>\n",
       "    <tr>\n",
       "      <th>1</th>\n",
       "      <td>1</td>\n",
       "      <td>0</td>\n",
       "      <td>0</td>\n",
       "      <td>0</td>\n",
       "      <td>0</td>\n",
       "      <td>59</td>\n",
       "      <td>0</td>\n",
       "      <td>0.103889</td>\n",
       "      <td>6.514713</td>\n",
       "      <td>2.50</td>\n",
       "      <td>1</td>\n",
       "      <td>1</td>\n",
       "      <td>3</td>\n",
       "      <td>45</td>\n",
       "      <td>0</td>\n",
       "      <td>3</td>\n",
       "    </tr>\n",
       "    <tr>\n",
       "      <th>2</th>\n",
       "      <td>0</td>\n",
       "      <td>1</td>\n",
       "      <td>0</td>\n",
       "      <td>0</td>\n",
       "      <td>0</td>\n",
       "      <td>3</td>\n",
       "      <td>1</td>\n",
       "      <td>0.148572</td>\n",
       "      <td>7.334982</td>\n",
       "      <td>2.00</td>\n",
       "      <td>1</td>\n",
       "      <td>654</td>\n",
       "      <td>1</td>\n",
       "      <td>23</td>\n",
       "      <td>1</td>\n",
       "      <td>3</td>\n",
       "    </tr>\n",
       "    <tr>\n",
       "      <th>3</th>\n",
       "      <td>0</td>\n",
       "      <td>1</td>\n",
       "      <td>0</td>\n",
       "      <td>0</td>\n",
       "      <td>0</td>\n",
       "      <td>3</td>\n",
       "      <td>0</td>\n",
       "      <td>0.172282</td>\n",
       "      <td>5.723585</td>\n",
       "      <td>1.00</td>\n",
       "      <td>103</td>\n",
       "      <td>459</td>\n",
       "      <td>3</td>\n",
       "      <td>23</td>\n",
       "      <td>0</td>\n",
       "      <td>1</td>\n",
       "    </tr>\n",
       "    <tr>\n",
       "      <th>4</th>\n",
       "      <td>0</td>\n",
       "      <td>1</td>\n",
       "      <td>0</td>\n",
       "      <td>0</td>\n",
       "      <td>0</td>\n",
       "      <td>1</td>\n",
       "      <td>1</td>\n",
       "      <td>0.148572</td>\n",
       "      <td>7.264730</td>\n",
       "      <td>1.00</td>\n",
       "      <td>102</td>\n",
       "      <td>1</td>\n",
       "      <td>1</td>\n",
       "      <td>23</td>\n",
       "      <td>0</td>\n",
       "      <td>1</td>\n",
       "    </tr>\n",
       "    <tr>\n",
       "      <th>5</th>\n",
       "      <td>1</td>\n",
       "      <td>0</td>\n",
       "      <td>0</td>\n",
       "      <td>0</td>\n",
       "      <td>0</td>\n",
       "      <td>7</td>\n",
       "      <td>0</td>\n",
       "      <td>0.202709</td>\n",
       "      <td>0.000000</td>\n",
       "      <td>0.00</td>\n",
       "      <td>7</td>\n",
       "      <td>1</td>\n",
       "      <td>1</td>\n",
       "      <td>23</td>\n",
       "      <td>0</td>\n",
       "      <td>1</td>\n",
       "    </tr>\n",
       "    <tr>\n",
       "      <th>6</th>\n",
       "      <td>0</td>\n",
       "      <td>1</td>\n",
       "      <td>0</td>\n",
       "      <td>0</td>\n",
       "      <td>0</td>\n",
       "      <td>1</td>\n",
       "      <td>1</td>\n",
       "      <td>0.148572</td>\n",
       "      <td>7.403061</td>\n",
       "      <td>2.00</td>\n",
       "      <td>1</td>\n",
       "      <td>11</td>\n",
       "      <td>1</td>\n",
       "      <td>23</td>\n",
       "      <td>0</td>\n",
       "      <td>1</td>\n",
       "    </tr>\n",
       "    <tr>\n",
       "      <th>7</th>\n",
       "      <td>1</td>\n",
       "      <td>0</td>\n",
       "      <td>0</td>\n",
       "      <td>0</td>\n",
       "      <td>0</td>\n",
       "      <td>7</td>\n",
       "      <td>0</td>\n",
       "      <td>0.202709</td>\n",
       "      <td>0.000000</td>\n",
       "      <td>0.00</td>\n",
       "      <td>7</td>\n",
       "      <td>1</td>\n",
       "      <td>1</td>\n",
       "      <td>23</td>\n",
       "      <td>0</td>\n",
       "      <td>1</td>\n",
       "    </tr>\n",
       "    <tr>\n",
       "      <th>8</th>\n",
       "      <td>0</td>\n",
       "      <td>1</td>\n",
       "      <td>0</td>\n",
       "      <td>0</td>\n",
       "      <td>0</td>\n",
       "      <td>3</td>\n",
       "      <td>0</td>\n",
       "      <td>0.148572</td>\n",
       "      <td>4.276666</td>\n",
       "      <td>2.00</td>\n",
       "      <td>1</td>\n",
       "      <td>759</td>\n",
       "      <td>1</td>\n",
       "      <td>65</td>\n",
       "      <td>1</td>\n",
       "      <td>3</td>\n",
       "    </tr>\n",
       "    <tr>\n",
       "      <th>9</th>\n",
       "      <td>1</td>\n",
       "      <td>0</td>\n",
       "      <td>0</td>\n",
       "      <td>0</td>\n",
       "      <td>0</td>\n",
       "      <td>1</td>\n",
       "      <td>0</td>\n",
       "      <td>0.115606</td>\n",
       "      <td>4.077537</td>\n",
       "      <td>4.00</td>\n",
       "      <td>1</td>\n",
       "      <td>3</td>\n",
       "      <td>1</td>\n",
       "      <td>23</td>\n",
       "      <td>0</td>\n",
       "      <td>3</td>\n",
       "    </tr>\n",
       "    <tr>\n",
       "      <th>10</th>\n",
       "      <td>0</td>\n",
       "      <td>1</td>\n",
       "      <td>0</td>\n",
       "      <td>0</td>\n",
       "      <td>0</td>\n",
       "      <td>59</td>\n",
       "      <td>1</td>\n",
       "      <td>0.079491</td>\n",
       "      <td>7.209340</td>\n",
       "      <td>6.00</td>\n",
       "      <td>1</td>\n",
       "      <td>652</td>\n",
       "      <td>1</td>\n",
       "      <td>66</td>\n",
       "      <td>1</td>\n",
       "      <td>3</td>\n",
       "    </tr>\n",
       "    <tr>\n",
       "      <th>11</th>\n",
       "      <td>0</td>\n",
       "      <td>1</td>\n",
       "      <td>0</td>\n",
       "      <td>0</td>\n",
       "      <td>0</td>\n",
       "      <td>3</td>\n",
       "      <td>1</td>\n",
       "      <td>0.079491</td>\n",
       "      <td>7.203406</td>\n",
       "      <td>2.67</td>\n",
       "      <td>59</td>\n",
       "      <td>7</td>\n",
       "      <td>11</td>\n",
       "      <td>65</td>\n",
       "      <td>1</td>\n",
       "      <td>59</td>\n",
       "    </tr>\n",
       "    <tr>\n",
       "      <th>12</th>\n",
       "      <td>1</td>\n",
       "      <td>0</td>\n",
       "      <td>0</td>\n",
       "      <td>0</td>\n",
       "      <td>0</td>\n",
       "      <td>59</td>\n",
       "      <td>1</td>\n",
       "      <td>0.064289</td>\n",
       "      <td>7.338888</td>\n",
       "      <td>6.00</td>\n",
       "      <td>1</td>\n",
       "      <td>59</td>\n",
       "      <td>1</td>\n",
       "      <td>45</td>\n",
       "      <td>0</td>\n",
       "      <td>1</td>\n",
       "    </tr>\n",
       "    <tr>\n",
       "      <th>13</th>\n",
       "      <td>0</td>\n",
       "      <td>1</td>\n",
       "      <td>0</td>\n",
       "      <td>0</td>\n",
       "      <td>0</td>\n",
       "      <td>59</td>\n",
       "      <td>0</td>\n",
       "      <td>0.103889</td>\n",
       "      <td>5.141664</td>\n",
       "      <td>5.00</td>\n",
       "      <td>1</td>\n",
       "      <td>654</td>\n",
       "      <td>3</td>\n",
       "      <td>65</td>\n",
       "      <td>1</td>\n",
       "      <td>3</td>\n",
       "    </tr>\n",
       "    <tr>\n",
       "      <th>14</th>\n",
       "      <td>0</td>\n",
       "      <td>1</td>\n",
       "      <td>0</td>\n",
       "      <td>0</td>\n",
       "      <td>0</td>\n",
       "      <td>3</td>\n",
       "      <td>0</td>\n",
       "      <td>0.172282</td>\n",
       "      <td>6.177944</td>\n",
       "      <td>1.00</td>\n",
       "      <td>654</td>\n",
       "      <td>654</td>\n",
       "      <td>1</td>\n",
       "      <td>45</td>\n",
       "      <td>0</td>\n",
       "      <td>759</td>\n",
       "    </tr>\n",
       "    <tr>\n",
       "      <th>15</th>\n",
       "      <td>1</td>\n",
       "      <td>0</td>\n",
       "      <td>0</td>\n",
       "      <td>0</td>\n",
       "      <td>0</td>\n",
       "      <td>59</td>\n",
       "      <td>1</td>\n",
       "      <td>0.094278</td>\n",
       "      <td>6.920672</td>\n",
       "      <td>6.00</td>\n",
       "      <td>1</td>\n",
       "      <td>1</td>\n",
       "      <td>1</td>\n",
       "      <td>45</td>\n",
       "      <td>0</td>\n",
       "      <td>3</td>\n",
       "    </tr>\n",
       "    <tr>\n",
       "      <th>16</th>\n",
       "      <td>1</td>\n",
       "      <td>0</td>\n",
       "      <td>0</td>\n",
       "      <td>0</td>\n",
       "      <td>0</td>\n",
       "      <td>7</td>\n",
       "      <td>0</td>\n",
       "      <td>0.202709</td>\n",
       "      <td>0.000000</td>\n",
       "      <td>0.00</td>\n",
       "      <td>7</td>\n",
       "      <td>1</td>\n",
       "      <td>1</td>\n",
       "      <td>23</td>\n",
       "      <td>0</td>\n",
       "      <td>1</td>\n",
       "    </tr>\n",
       "    <tr>\n",
       "      <th>17</th>\n",
       "      <td>1</td>\n",
       "      <td>0</td>\n",
       "      <td>0</td>\n",
       "      <td>0</td>\n",
       "      <td>0</td>\n",
       "      <td>759</td>\n",
       "      <td>0</td>\n",
       "      <td>0.094278</td>\n",
       "      <td>6.881411</td>\n",
       "      <td>6.00</td>\n",
       "      <td>759</td>\n",
       "      <td>1</td>\n",
       "      <td>7</td>\n",
       "      <td>45</td>\n",
       "      <td>0</td>\n",
       "      <td>1</td>\n",
       "    </tr>\n",
       "    <tr>\n",
       "      <th>18</th>\n",
       "      <td>0</td>\n",
       "      <td>1</td>\n",
       "      <td>0</td>\n",
       "      <td>0</td>\n",
       "      <td>0</td>\n",
       "      <td>1</td>\n",
       "      <td>1</td>\n",
       "      <td>0.094278</td>\n",
       "      <td>7.431892</td>\n",
       "      <td>3.00</td>\n",
       "      <td>59</td>\n",
       "      <td>59</td>\n",
       "      <td>1</td>\n",
       "      <td>23</td>\n",
       "      <td>0</td>\n",
       "      <td>59</td>\n",
       "    </tr>\n",
       "    <tr>\n",
       "      <th>19</th>\n",
       "      <td>1</td>\n",
       "      <td>0</td>\n",
       "      <td>0</td>\n",
       "      <td>0</td>\n",
       "      <td>0</td>\n",
       "      <td>59</td>\n",
       "      <td>0</td>\n",
       "      <td>0.130154</td>\n",
       "      <td>4.595120</td>\n",
       "      <td>3.00</td>\n",
       "      <td>59</td>\n",
       "      <td>1</td>\n",
       "      <td>7</td>\n",
       "      <td>45</td>\n",
       "      <td>0</td>\n",
       "      <td>1</td>\n",
       "    </tr>\n",
       "  </tbody>\n",
       "</table>\n",
       "</div>"
      ],
      "text/plain": [
       "    API  Landing Page Submission  Lead Add Form  Lead Import  Quick Add Form  \\\n",
       "0     1                        0              0            0               0   \n",
       "1     1                        0              0            0               0   \n",
       "2     0                        1              0            0               0   \n",
       "3     0                        1              0            0               0   \n",
       "4     0                        1              0            0               0   \n",
       "5     1                        0              0            0               0   \n",
       "6     0                        1              0            0               0   \n",
       "7     1                        0              0            0               0   \n",
       "8     0                        1              0            0               0   \n",
       "9     1                        0              0            0               0   \n",
       "10    0                        1              0            0               0   \n",
       "11    0                        1              0            0               0   \n",
       "12    1                        0              0            0               0   \n",
       "13    0                        1              0            0               0   \n",
       "14    0                        1              0            0               0   \n",
       "15    1                        0              0            0               0   \n",
       "16    1                        0              0            0               0   \n",
       "17    1                        0              0            0               0   \n",
       "18    0                        1              0            0               0   \n",
       "19    1                        0              0            0               0   \n",
       "\n",
       "    Lead Source  Converted  TotalVisits  Total Time Spent on Website  \\\n",
       "0             7          0     0.202709                     0.000000   \n",
       "1            59          0     0.103889                     6.514713   \n",
       "2             3          1     0.148572                     7.334982   \n",
       "3             3          0     0.172282                     5.723585   \n",
       "4             1          1     0.148572                     7.264730   \n",
       "5             7          0     0.202709                     0.000000   \n",
       "6             1          1     0.148572                     7.403061   \n",
       "7             7          0     0.202709                     0.000000   \n",
       "8             3          0     0.148572                     4.276666   \n",
       "9             1          0     0.115606                     4.077537   \n",
       "10           59          1     0.079491                     7.209340   \n",
       "11            3          1     0.079491                     7.203406   \n",
       "12           59          1     0.064289                     7.338888   \n",
       "13           59          0     0.103889                     5.141664   \n",
       "14            3          0     0.172282                     6.177944   \n",
       "15           59          1     0.094278                     6.920672   \n",
       "16            7          0     0.202709                     0.000000   \n",
       "17          759          0     0.094278                     6.881411   \n",
       "18            1          1     0.094278                     7.431892   \n",
       "19           59          0     0.130154                     4.595120   \n",
       "\n",
       "    Page Views Per Visit  Last Activity  Specialization  Tags  City  \\\n",
       "0                   0.00             59               1     7    45   \n",
       "1                   2.50              1               1     3    45   \n",
       "2                   2.00              1             654     1    23   \n",
       "3                   1.00            103             459     3    23   \n",
       "4                   1.00            102               1     1    23   \n",
       "5                   0.00              7               1     1    23   \n",
       "6                   2.00              1              11     1    23   \n",
       "7                   0.00              7               1     1    23   \n",
       "8                   2.00              1             759     1    65   \n",
       "9                   4.00              1               3     1    23   \n",
       "10                  6.00              1             652     1    66   \n",
       "11                  2.67             59               7    11    65   \n",
       "12                  6.00              1              59     1    45   \n",
       "13                  5.00              1             654     3    65   \n",
       "14                  1.00            654             654     1    45   \n",
       "15                  6.00              1               1     1    45   \n",
       "16                  0.00              7               1     1    23   \n",
       "17                  6.00            759               1     7    45   \n",
       "18                  3.00             59              59     1    23   \n",
       "19                  3.00             59               1     7    45   \n",
       "\n",
       "    A free copy of Mastering The Interview  Last Notable Activity  \n",
       "0                                        0                      1  \n",
       "1                                        0                      3  \n",
       "2                                        1                      3  \n",
       "3                                        0                      1  \n",
       "4                                        0                      1  \n",
       "5                                        0                      1  \n",
       "6                                        0                      1  \n",
       "7                                        0                      1  \n",
       "8                                        1                      3  \n",
       "9                                        0                      3  \n",
       "10                                       1                      3  \n",
       "11                                       1                     59  \n",
       "12                                       0                      1  \n",
       "13                                       1                      3  \n",
       "14                                       0                    759  \n",
       "15                                       0                      3  \n",
       "16                                       0                      1  \n",
       "17                                       0                      1  \n",
       "18                                       0                     59  \n",
       "19                                       0                      1  "
      ]
     },
     "execution_count": 129,
     "metadata": {},
     "output_type": "execute_result"
    }
   ],
   "source": [
    "df.head(20)"
   ]
  },
  {
   "cell_type": "code",
   "execution_count": 130,
   "id": "448adba5",
   "metadata": {},
   "outputs": [
    {
     "data": {
      "text/html": [
       "<div>\n",
       "<style scoped>\n",
       "    .dataframe tbody tr th:only-of-type {\n",
       "        vertical-align: middle;\n",
       "    }\n",
       "\n",
       "    .dataframe tbody tr th {\n",
       "        vertical-align: top;\n",
       "    }\n",
       "\n",
       "    .dataframe thead th {\n",
       "        text-align: right;\n",
       "    }\n",
       "</style>\n",
       "<table border=\"1\" class=\"dataframe\">\n",
       "  <thead>\n",
       "    <tr style=\"text-align: right;\">\n",
       "      <th></th>\n",
       "      <th>API</th>\n",
       "      <th>Landing Page Submission</th>\n",
       "      <th>Lead Add Form</th>\n",
       "      <th>Lead Import</th>\n",
       "      <th>Quick Add Form</th>\n",
       "      <th>Lead Source</th>\n",
       "      <th>Converted</th>\n",
       "      <th>TotalVisits</th>\n",
       "      <th>Total Time Spent on Website</th>\n",
       "      <th>Page Views Per Visit</th>\n",
       "      <th>Last Activity</th>\n",
       "      <th>Specialization</th>\n",
       "      <th>Tags</th>\n",
       "      <th>City</th>\n",
       "      <th>A free copy of Mastering The Interview</th>\n",
       "      <th>Last Notable Activity</th>\n",
       "    </tr>\n",
       "  </thead>\n",
       "  <tbody>\n",
       "    <tr>\n",
       "      <th>9220</th>\n",
       "      <td>0</td>\n",
       "      <td>1</td>\n",
       "      <td>0</td>\n",
       "      <td>0</td>\n",
       "      <td>0</td>\n",
       "      <td>3</td>\n",
       "      <td>0</td>\n",
       "      <td>0.103889</td>\n",
       "      <td>3.044522</td>\n",
       "      <td>2.50</td>\n",
       "      <td>3</td>\n",
       "      <td>3</td>\n",
       "      <td>785</td>\n",
       "      <td>65</td>\n",
       "      <td>1</td>\n",
       "      <td>1</td>\n",
       "    </tr>\n",
       "    <tr>\n",
       "      <th>9221</th>\n",
       "      <td>0</td>\n",
       "      <td>1</td>\n",
       "      <td>0</td>\n",
       "      <td>0</td>\n",
       "      <td>0</td>\n",
       "      <td>1</td>\n",
       "      <td>0</td>\n",
       "      <td>0.115606</td>\n",
       "      <td>7.206377</td>\n",
       "      <td>2.00</td>\n",
       "      <td>3</td>\n",
       "      <td>459</td>\n",
       "      <td>326</td>\n",
       "      <td>23</td>\n",
       "      <td>1</td>\n",
       "      <td>7</td>\n",
       "    </tr>\n",
       "    <tr>\n",
       "      <th>9222</th>\n",
       "      <td>1</td>\n",
       "      <td>0</td>\n",
       "      <td>0</td>\n",
       "      <td>0</td>\n",
       "      <td>0</td>\n",
       "      <td>1</td>\n",
       "      <td>0</td>\n",
       "      <td>0.094278</td>\n",
       "      <td>5.433722</td>\n",
       "      <td>6.00</td>\n",
       "      <td>3</td>\n",
       "      <td>69</td>\n",
       "      <td>1</td>\n",
       "      <td>102</td>\n",
       "      <td>0</td>\n",
       "      <td>1</td>\n",
       "    </tr>\n",
       "    <tr>\n",
       "      <th>9223</th>\n",
       "      <td>1</td>\n",
       "      <td>0</td>\n",
       "      <td>0</td>\n",
       "      <td>0</td>\n",
       "      <td>0</td>\n",
       "      <td>59</td>\n",
       "      <td>0</td>\n",
       "      <td>0.086266</td>\n",
       "      <td>4.962845</td>\n",
       "      <td>6.00</td>\n",
       "      <td>1</td>\n",
       "      <td>102</td>\n",
       "      <td>103</td>\n",
       "      <td>23</td>\n",
       "      <td>1</td>\n",
       "      <td>1</td>\n",
       "    </tr>\n",
       "    <tr>\n",
       "      <th>9224</th>\n",
       "      <td>0</td>\n",
       "      <td>1</td>\n",
       "      <td>0</td>\n",
       "      <td>0</td>\n",
       "      <td>0</td>\n",
       "      <td>1</td>\n",
       "      <td>0</td>\n",
       "      <td>0.115606</td>\n",
       "      <td>6.122493</td>\n",
       "      <td>4.00</td>\n",
       "      <td>11</td>\n",
       "      <td>102</td>\n",
       "      <td>7</td>\n",
       "      <td>23</td>\n",
       "      <td>0</td>\n",
       "      <td>1</td>\n",
       "    </tr>\n",
       "    <tr>\n",
       "      <th>9225</th>\n",
       "      <td>0</td>\n",
       "      <td>1</td>\n",
       "      <td>0</td>\n",
       "      <td>0</td>\n",
       "      <td>0</td>\n",
       "      <td>3</td>\n",
       "      <td>0</td>\n",
       "      <td>0.148572</td>\n",
       "      <td>4.317488</td>\n",
       "      <td>2.00</td>\n",
       "      <td>654</td>\n",
       "      <td>326</td>\n",
       "      <td>785</td>\n",
       "      <td>23</td>\n",
       "      <td>1</td>\n",
       "      <td>1</td>\n",
       "    </tr>\n",
       "    <tr>\n",
       "      <th>9226</th>\n",
       "      <td>1</td>\n",
       "      <td>0</td>\n",
       "      <td>0</td>\n",
       "      <td>0</td>\n",
       "      <td>0</td>\n",
       "      <td>7</td>\n",
       "      <td>0</td>\n",
       "      <td>0.202709</td>\n",
       "      <td>0.000000</td>\n",
       "      <td>0.00</td>\n",
       "      <td>3</td>\n",
       "      <td>1</td>\n",
       "      <td>3</td>\n",
       "      <td>45</td>\n",
       "      <td>0</td>\n",
       "      <td>1</td>\n",
       "    </tr>\n",
       "    <tr>\n",
       "      <th>9227</th>\n",
       "      <td>0</td>\n",
       "      <td>1</td>\n",
       "      <td>0</td>\n",
       "      <td>0</td>\n",
       "      <td>0</td>\n",
       "      <td>1</td>\n",
       "      <td>1</td>\n",
       "      <td>0.103889</td>\n",
       "      <td>7.157735</td>\n",
       "      <td>1.67</td>\n",
       "      <td>1</td>\n",
       "      <td>11</td>\n",
       "      <td>1</td>\n",
       "      <td>23</td>\n",
       "      <td>0</td>\n",
       "      <td>3</td>\n",
       "    </tr>\n",
       "    <tr>\n",
       "      <th>9228</th>\n",
       "      <td>0</td>\n",
       "      <td>1</td>\n",
       "      <td>0</td>\n",
       "      <td>0</td>\n",
       "      <td>0</td>\n",
       "      <td>1</td>\n",
       "      <td>1</td>\n",
       "      <td>0.115606</td>\n",
       "      <td>7.573017</td>\n",
       "      <td>2.00</td>\n",
       "      <td>3</td>\n",
       "      <td>3</td>\n",
       "      <td>1</td>\n",
       "      <td>23</td>\n",
       "      <td>1</td>\n",
       "      <td>1</td>\n",
       "    </tr>\n",
       "    <tr>\n",
       "      <th>9229</th>\n",
       "      <td>0</td>\n",
       "      <td>1</td>\n",
       "      <td>0</td>\n",
       "      <td>0</td>\n",
       "      <td>0</td>\n",
       "      <td>59</td>\n",
       "      <td>1</td>\n",
       "      <td>0.064289</td>\n",
       "      <td>7.112327</td>\n",
       "      <td>6.00</td>\n",
       "      <td>3</td>\n",
       "      <td>59</td>\n",
       "      <td>1</td>\n",
       "      <td>23</td>\n",
       "      <td>1</td>\n",
       "      <td>1</td>\n",
       "    </tr>\n",
       "    <tr>\n",
       "      <th>9230</th>\n",
       "      <td>0</td>\n",
       "      <td>1</td>\n",
       "      <td>0</td>\n",
       "      <td>0</td>\n",
       "      <td>0</td>\n",
       "      <td>1</td>\n",
       "      <td>0</td>\n",
       "      <td>0.148572</td>\n",
       "      <td>6.769642</td>\n",
       "      <td>2.00</td>\n",
       "      <td>1</td>\n",
       "      <td>7</td>\n",
       "      <td>1</td>\n",
       "      <td>23</td>\n",
       "      <td>0</td>\n",
       "      <td>3</td>\n",
       "    </tr>\n",
       "    <tr>\n",
       "      <th>9231</th>\n",
       "      <td>0</td>\n",
       "      <td>1</td>\n",
       "      <td>0</td>\n",
       "      <td>0</td>\n",
       "      <td>0</td>\n",
       "      <td>1</td>\n",
       "      <td>1</td>\n",
       "      <td>0.079491</td>\n",
       "      <td>6.924612</td>\n",
       "      <td>4.00</td>\n",
       "      <td>1</td>\n",
       "      <td>103</td>\n",
       "      <td>1</td>\n",
       "      <td>23</td>\n",
       "      <td>0</td>\n",
       "      <td>3</td>\n",
       "    </tr>\n",
       "    <tr>\n",
       "      <th>9232</th>\n",
       "      <td>0</td>\n",
       "      <td>1</td>\n",
       "      <td>0</td>\n",
       "      <td>0</td>\n",
       "      <td>0</td>\n",
       "      <td>3</td>\n",
       "      <td>0</td>\n",
       "      <td>0.148572</td>\n",
       "      <td>7.479300</td>\n",
       "      <td>2.00</td>\n",
       "      <td>3</td>\n",
       "      <td>7</td>\n",
       "      <td>3</td>\n",
       "      <td>23</td>\n",
       "      <td>1</td>\n",
       "      <td>7</td>\n",
       "    </tr>\n",
       "    <tr>\n",
       "      <th>9233</th>\n",
       "      <td>1</td>\n",
       "      <td>0</td>\n",
       "      <td>0</td>\n",
       "      <td>0</td>\n",
       "      <td>0</td>\n",
       "      <td>3</td>\n",
       "      <td>1</td>\n",
       "      <td>0.064289</td>\n",
       "      <td>7.251345</td>\n",
       "      <td>2.60</td>\n",
       "      <td>3</td>\n",
       "      <td>1</td>\n",
       "      <td>1</td>\n",
       "      <td>45</td>\n",
       "      <td>0</td>\n",
       "      <td>7</td>\n",
       "    </tr>\n",
       "    <tr>\n",
       "      <th>9234</th>\n",
       "      <td>0</td>\n",
       "      <td>1</td>\n",
       "      <td>0</td>\n",
       "      <td>0</td>\n",
       "      <td>0</td>\n",
       "      <td>3</td>\n",
       "      <td>1</td>\n",
       "      <td>0.103889</td>\n",
       "      <td>5.351858</td>\n",
       "      <td>2.50</td>\n",
       "      <td>3</td>\n",
       "      <td>654</td>\n",
       "      <td>1</td>\n",
       "      <td>23</td>\n",
       "      <td>0</td>\n",
       "      <td>1</td>\n",
       "    </tr>\n",
       "    <tr>\n",
       "      <th>9235</th>\n",
       "      <td>0</td>\n",
       "      <td>1</td>\n",
       "      <td>0</td>\n",
       "      <td>0</td>\n",
       "      <td>0</td>\n",
       "      <td>3</td>\n",
       "      <td>1</td>\n",
       "      <td>0.079491</td>\n",
       "      <td>7.520776</td>\n",
       "      <td>2.67</td>\n",
       "      <td>5213</td>\n",
       "      <td>759</td>\n",
       "      <td>1</td>\n",
       "      <td>23</td>\n",
       "      <td>0</td>\n",
       "      <td>652</td>\n",
       "    </tr>\n",
       "    <tr>\n",
       "      <th>9236</th>\n",
       "      <td>0</td>\n",
       "      <td>1</td>\n",
       "      <td>0</td>\n",
       "      <td>0</td>\n",
       "      <td>0</td>\n",
       "      <td>3</td>\n",
       "      <td>0</td>\n",
       "      <td>0.148572</td>\n",
       "      <td>5.476464</td>\n",
       "      <td>2.00</td>\n",
       "      <td>3</td>\n",
       "      <td>459</td>\n",
       "      <td>785</td>\n",
       "      <td>23</td>\n",
       "      <td>1</td>\n",
       "      <td>7</td>\n",
       "    </tr>\n",
       "    <tr>\n",
       "      <th>9237</th>\n",
       "      <td>0</td>\n",
       "      <td>1</td>\n",
       "      <td>0</td>\n",
       "      <td>0</td>\n",
       "      <td>0</td>\n",
       "      <td>3</td>\n",
       "      <td>0</td>\n",
       "      <td>0.148572</td>\n",
       "      <td>5.298317</td>\n",
       "      <td>2.00</td>\n",
       "      <td>3</td>\n",
       "      <td>654</td>\n",
       "      <td>326</td>\n",
       "      <td>23</td>\n",
       "      <td>1</td>\n",
       "      <td>7</td>\n",
       "    </tr>\n",
       "    <tr>\n",
       "      <th>9238</th>\n",
       "      <td>0</td>\n",
       "      <td>1</td>\n",
       "      <td>0</td>\n",
       "      <td>0</td>\n",
       "      <td>0</td>\n",
       "      <td>1</td>\n",
       "      <td>1</td>\n",
       "      <td>0.130154</td>\n",
       "      <td>6.214608</td>\n",
       "      <td>3.00</td>\n",
       "      <td>3</td>\n",
       "      <td>7</td>\n",
       "      <td>1</td>\n",
       "      <td>66</td>\n",
       "      <td>0</td>\n",
       "      <td>7</td>\n",
       "    </tr>\n",
       "    <tr>\n",
       "      <th>9239</th>\n",
       "      <td>0</td>\n",
       "      <td>1</td>\n",
       "      <td>0</td>\n",
       "      <td>0</td>\n",
       "      <td>0</td>\n",
       "      <td>3</td>\n",
       "      <td>1</td>\n",
       "      <td>0.094278</td>\n",
       "      <td>7.154615</td>\n",
       "      <td>3.00</td>\n",
       "      <td>3</td>\n",
       "      <td>11</td>\n",
       "      <td>1</td>\n",
       "      <td>102</td>\n",
       "      <td>1</td>\n",
       "      <td>1</td>\n",
       "    </tr>\n",
       "  </tbody>\n",
       "</table>\n",
       "</div>"
      ],
      "text/plain": [
       "      API  Landing Page Submission  Lead Add Form  Lead Import  \\\n",
       "9220    0                        1              0            0   \n",
       "9221    0                        1              0            0   \n",
       "9222    1                        0              0            0   \n",
       "9223    1                        0              0            0   \n",
       "9224    0                        1              0            0   \n",
       "9225    0                        1              0            0   \n",
       "9226    1                        0              0            0   \n",
       "9227    0                        1              0            0   \n",
       "9228    0                        1              0            0   \n",
       "9229    0                        1              0            0   \n",
       "9230    0                        1              0            0   \n",
       "9231    0                        1              0            0   \n",
       "9232    0                        1              0            0   \n",
       "9233    1                        0              0            0   \n",
       "9234    0                        1              0            0   \n",
       "9235    0                        1              0            0   \n",
       "9236    0                        1              0            0   \n",
       "9237    0                        1              0            0   \n",
       "9238    0                        1              0            0   \n",
       "9239    0                        1              0            0   \n",
       "\n",
       "      Quick Add Form  Lead Source  Converted  TotalVisits  \\\n",
       "9220               0            3          0     0.103889   \n",
       "9221               0            1          0     0.115606   \n",
       "9222               0            1          0     0.094278   \n",
       "9223               0           59          0     0.086266   \n",
       "9224               0            1          0     0.115606   \n",
       "9225               0            3          0     0.148572   \n",
       "9226               0            7          0     0.202709   \n",
       "9227               0            1          1     0.103889   \n",
       "9228               0            1          1     0.115606   \n",
       "9229               0           59          1     0.064289   \n",
       "9230               0            1          0     0.148572   \n",
       "9231               0            1          1     0.079491   \n",
       "9232               0            3          0     0.148572   \n",
       "9233               0            3          1     0.064289   \n",
       "9234               0            3          1     0.103889   \n",
       "9235               0            3          1     0.079491   \n",
       "9236               0            3          0     0.148572   \n",
       "9237               0            3          0     0.148572   \n",
       "9238               0            1          1     0.130154   \n",
       "9239               0            3          1     0.094278   \n",
       "\n",
       "      Total Time Spent on Website  Page Views Per Visit  Last Activity  \\\n",
       "9220                     3.044522                  2.50              3   \n",
       "9221                     7.206377                  2.00              3   \n",
       "9222                     5.433722                  6.00              3   \n",
       "9223                     4.962845                  6.00              1   \n",
       "9224                     6.122493                  4.00             11   \n",
       "9225                     4.317488                  2.00            654   \n",
       "9226                     0.000000                  0.00              3   \n",
       "9227                     7.157735                  1.67              1   \n",
       "9228                     7.573017                  2.00              3   \n",
       "9229                     7.112327                  6.00              3   \n",
       "9230                     6.769642                  2.00              1   \n",
       "9231                     6.924612                  4.00              1   \n",
       "9232                     7.479300                  2.00              3   \n",
       "9233                     7.251345                  2.60              3   \n",
       "9234                     5.351858                  2.50              3   \n",
       "9235                     7.520776                  2.67           5213   \n",
       "9236                     5.476464                  2.00              3   \n",
       "9237                     5.298317                  2.00              3   \n",
       "9238                     6.214608                  3.00              3   \n",
       "9239                     7.154615                  3.00              3   \n",
       "\n",
       "      Specialization  Tags  City  A free copy of Mastering The Interview  \\\n",
       "9220               3   785    65                                       1   \n",
       "9221             459   326    23                                       1   \n",
       "9222              69     1   102                                       0   \n",
       "9223             102   103    23                                       1   \n",
       "9224             102     7    23                                       0   \n",
       "9225             326   785    23                                       1   \n",
       "9226               1     3    45                                       0   \n",
       "9227              11     1    23                                       0   \n",
       "9228               3     1    23                                       1   \n",
       "9229              59     1    23                                       1   \n",
       "9230               7     1    23                                       0   \n",
       "9231             103     1    23                                       0   \n",
       "9232               7     3    23                                       1   \n",
       "9233               1     1    45                                       0   \n",
       "9234             654     1    23                                       0   \n",
       "9235             759     1    23                                       0   \n",
       "9236             459   785    23                                       1   \n",
       "9237             654   326    23                                       1   \n",
       "9238               7     1    66                                       0   \n",
       "9239              11     1   102                                       1   \n",
       "\n",
       "      Last Notable Activity  \n",
       "9220                      1  \n",
       "9221                      7  \n",
       "9222                      1  \n",
       "9223                      1  \n",
       "9224                      1  \n",
       "9225                      1  \n",
       "9226                      1  \n",
       "9227                      3  \n",
       "9228                      1  \n",
       "9229                      1  \n",
       "9230                      3  \n",
       "9231                      3  \n",
       "9232                      7  \n",
       "9233                      7  \n",
       "9234                      1  \n",
       "9235                    652  \n",
       "9236                      7  \n",
       "9237                      7  \n",
       "9238                      7  \n",
       "9239                      1  "
      ]
     },
     "execution_count": 130,
     "metadata": {},
     "output_type": "execute_result"
    }
   ],
   "source": [
    "df.tail(20)"
   ]
  },
  {
   "cell_type": "code",
   "execution_count": 132,
   "id": "d10cfced",
   "metadata": {},
   "outputs": [
    {
     "name": "stdout",
     "output_type": "stream",
     "text": [
      "<class 'pandas.core.frame.DataFrame'>\n",
      "RangeIndex: 9240 entries, 0 to 9239\n",
      "Data columns (total 16 columns):\n",
      " #   Column                                  Non-Null Count  Dtype  \n",
      "---  ------                                  --------------  -----  \n",
      " 0   API                                     9240 non-null   uint8  \n",
      " 1   Landing Page Submission                 9240 non-null   uint8  \n",
      " 2   Lead Add Form                           9240 non-null   uint8  \n",
      " 3   Lead Import                             9240 non-null   uint8  \n",
      " 4   Quick Add Form                          9240 non-null   uint8  \n",
      " 5   Lead Source                             9240 non-null   int64  \n",
      " 6   Converted                               9240 non-null   int64  \n",
      " 7   TotalVisits                             9240 non-null   float64\n",
      " 8   Total Time Spent on Website             9240 non-null   float64\n",
      " 9   Page Views Per Visit                    9240 non-null   float64\n",
      " 10  Last Activity                           9240 non-null   int64  \n",
      " 11  Specialization                          9240 non-null   int64  \n",
      " 12  Tags                                    9240 non-null   int64  \n",
      " 13  City                                    9240 non-null   int64  \n",
      " 14  A free copy of Mastering The Interview  9240 non-null   int64  \n",
      " 15  Last Notable Activity                   9240 non-null   int64  \n",
      "dtypes: float64(3), int64(8), uint8(5)\n",
      "memory usage: 839.3 KB\n"
     ]
    }
   ],
   "source": [
    "df.info()"
   ]
  },
  {
   "cell_type": "code",
   "execution_count": 133,
   "id": "faa91799",
   "metadata": {},
   "outputs": [
    {
     "data": {
      "text/html": [
       "<div>\n",
       "<style scoped>\n",
       "    .dataframe tbody tr th:only-of-type {\n",
       "        vertical-align: middle;\n",
       "    }\n",
       "\n",
       "    .dataframe tbody tr th {\n",
       "        vertical-align: top;\n",
       "    }\n",
       "\n",
       "    .dataframe thead th {\n",
       "        text-align: right;\n",
       "    }\n",
       "</style>\n",
       "<table border=\"1\" class=\"dataframe\">\n",
       "  <thead>\n",
       "    <tr style=\"text-align: right;\">\n",
       "      <th></th>\n",
       "      <th>API</th>\n",
       "      <th>Landing Page Submission</th>\n",
       "      <th>Lead Add Form</th>\n",
       "      <th>Lead Import</th>\n",
       "      <th>Quick Add Form</th>\n",
       "      <th>Lead Source</th>\n",
       "      <th>Converted</th>\n",
       "      <th>TotalVisits</th>\n",
       "      <th>Total Time Spent on Website</th>\n",
       "      <th>Page Views Per Visit</th>\n",
       "      <th>Last Activity</th>\n",
       "      <th>Specialization</th>\n",
       "      <th>Tags</th>\n",
       "      <th>City</th>\n",
       "      <th>A free copy of Mastering The Interview</th>\n",
       "      <th>Last Notable Activity</th>\n",
       "    </tr>\n",
       "  </thead>\n",
       "  <tbody>\n",
       "    <tr>\n",
       "      <th>count</th>\n",
       "      <td>9240.000000</td>\n",
       "      <td>9240.000000</td>\n",
       "      <td>9240.000000</td>\n",
       "      <td>9240.000000</td>\n",
       "      <td>9240.000000</td>\n",
       "      <td>9240.000000</td>\n",
       "      <td>9240.000000</td>\n",
       "      <td>9240.000000</td>\n",
       "      <td>9240.000000</td>\n",
       "      <td>9240.000000</td>\n",
       "      <td>9240.000000</td>\n",
       "      <td>9240.000000</td>\n",
       "      <td>9240.000000</td>\n",
       "      <td>9240.000000</td>\n",
       "      <td>9240.000000</td>\n",
       "      <td>9240.000000</td>\n",
       "    </tr>\n",
       "    <tr>\n",
       "      <th>mean</th>\n",
       "      <td>0.387446</td>\n",
       "      <td>0.528788</td>\n",
       "      <td>0.077706</td>\n",
       "      <td>0.005952</td>\n",
       "      <td>0.000108</td>\n",
       "      <td>37.826840</td>\n",
       "      <td>0.385390</td>\n",
       "      <td>0.139721</td>\n",
       "      <td>4.506633</td>\n",
       "      <td>2.255105</td>\n",
       "      <td>64.424242</td>\n",
       "      <td>200.625000</td>\n",
       "      <td>91.277381</td>\n",
       "      <td>43.187987</td>\n",
       "      <td>0.312554</td>\n",
       "      <td>26.206926</td>\n",
       "    </tr>\n",
       "    <tr>\n",
       "      <th>std</th>\n",
       "      <td>0.487193</td>\n",
       "      <td>0.499198</td>\n",
       "      <td>0.267722</td>\n",
       "      <td>0.076926</td>\n",
       "      <td>0.010403</td>\n",
       "      <td>132.804422</td>\n",
       "      <td>0.486714</td>\n",
       "      <td>0.042871</td>\n",
       "      <td>2.742945</td>\n",
       "      <td>1.779471</td>\n",
       "      <td>194.812021</td>\n",
       "      <td>611.895907</td>\n",
       "      <td>369.835244</td>\n",
       "      <td>25.925456</td>\n",
       "      <td>0.463559</td>\n",
       "      <td>122.384954</td>\n",
       "    </tr>\n",
       "    <tr>\n",
       "      <th>min</th>\n",
       "      <td>0.000000</td>\n",
       "      <td>0.000000</td>\n",
       "      <td>0.000000</td>\n",
       "      <td>0.000000</td>\n",
       "      <td>0.000000</td>\n",
       "      <td>1.000000</td>\n",
       "      <td>0.000000</td>\n",
       "      <td>0.064289</td>\n",
       "      <td>0.000000</td>\n",
       "      <td>0.000000</td>\n",
       "      <td>1.000000</td>\n",
       "      <td>1.000000</td>\n",
       "      <td>1.000000</td>\n",
       "      <td>23.000000</td>\n",
       "      <td>0.000000</td>\n",
       "      <td>1.000000</td>\n",
       "    </tr>\n",
       "    <tr>\n",
       "      <th>25%</th>\n",
       "      <td>0.000000</td>\n",
       "      <td>0.000000</td>\n",
       "      <td>0.000000</td>\n",
       "      <td>0.000000</td>\n",
       "      <td>0.000000</td>\n",
       "      <td>1.000000</td>\n",
       "      <td>0.000000</td>\n",
       "      <td>0.103889</td>\n",
       "      <td>2.564949</td>\n",
       "      <td>1.000000</td>\n",
       "      <td>1.000000</td>\n",
       "      <td>1.000000</td>\n",
       "      <td>1.000000</td>\n",
       "      <td>23.000000</td>\n",
       "      <td>0.000000</td>\n",
       "      <td>1.000000</td>\n",
       "    </tr>\n",
       "    <tr>\n",
       "      <th>50%</th>\n",
       "      <td>0.000000</td>\n",
       "      <td>1.000000</td>\n",
       "      <td>0.000000</td>\n",
       "      <td>0.000000</td>\n",
       "      <td>0.000000</td>\n",
       "      <td>3.000000</td>\n",
       "      <td>0.000000</td>\n",
       "      <td>0.130154</td>\n",
       "      <td>5.517453</td>\n",
       "      <td>2.000000</td>\n",
       "      <td>3.000000</td>\n",
       "      <td>7.000000</td>\n",
       "      <td>1.000000</td>\n",
       "      <td>23.000000</td>\n",
       "      <td>0.000000</td>\n",
       "      <td>3.000000</td>\n",
       "    </tr>\n",
       "    <tr>\n",
       "      <th>75%</th>\n",
       "      <td>1.000000</td>\n",
       "      <td>1.000000</td>\n",
       "      <td>0.000000</td>\n",
       "      <td>0.000000</td>\n",
       "      <td>0.000000</td>\n",
       "      <td>7.000000</td>\n",
       "      <td>1.000000</td>\n",
       "      <td>0.172282</td>\n",
       "      <td>6.842683</td>\n",
       "      <td>3.000000</td>\n",
       "      <td>7.000000</td>\n",
       "      <td>102.000000</td>\n",
       "      <td>7.000000</td>\n",
       "      <td>45.000000</td>\n",
       "      <td>1.000000</td>\n",
       "      <td>7.000000</td>\n",
       "    </tr>\n",
       "    <tr>\n",
       "      <th>max</th>\n",
       "      <td>1.000000</td>\n",
       "      <td>1.000000</td>\n",
       "      <td>1.000000</td>\n",
       "      <td>1.000000</td>\n",
       "      <td>1.000000</td>\n",
       "      <td>5213.000000</td>\n",
       "      <td>1.000000</td>\n",
       "      <td>0.202709</td>\n",
       "      <td>7.728856</td>\n",
       "      <td>6.000000</td>\n",
       "      <td>5213.000000</td>\n",
       "      <td>5213.000000</td>\n",
       "      <td>5213.000000</td>\n",
       "      <td>102.000000</td>\n",
       "      <td>1.000000</td>\n",
       "      <td>5213.000000</td>\n",
       "    </tr>\n",
       "  </tbody>\n",
       "</table>\n",
       "</div>"
      ],
      "text/plain": [
       "               API  Landing Page Submission  Lead Add Form  Lead Import  \\\n",
       "count  9240.000000              9240.000000    9240.000000  9240.000000   \n",
       "mean      0.387446                 0.528788       0.077706     0.005952   \n",
       "std       0.487193                 0.499198       0.267722     0.076926   \n",
       "min       0.000000                 0.000000       0.000000     0.000000   \n",
       "25%       0.000000                 0.000000       0.000000     0.000000   \n",
       "50%       0.000000                 1.000000       0.000000     0.000000   \n",
       "75%       1.000000                 1.000000       0.000000     0.000000   \n",
       "max       1.000000                 1.000000       1.000000     1.000000   \n",
       "\n",
       "       Quick Add Form  Lead Source    Converted  TotalVisits  \\\n",
       "count     9240.000000  9240.000000  9240.000000  9240.000000   \n",
       "mean         0.000108    37.826840     0.385390     0.139721   \n",
       "std          0.010403   132.804422     0.486714     0.042871   \n",
       "min          0.000000     1.000000     0.000000     0.064289   \n",
       "25%          0.000000     1.000000     0.000000     0.103889   \n",
       "50%          0.000000     3.000000     0.000000     0.130154   \n",
       "75%          0.000000     7.000000     1.000000     0.172282   \n",
       "max          1.000000  5213.000000     1.000000     0.202709   \n",
       "\n",
       "       Total Time Spent on Website  Page Views Per Visit  Last Activity  \\\n",
       "count                  9240.000000           9240.000000    9240.000000   \n",
       "mean                      4.506633              2.255105      64.424242   \n",
       "std                       2.742945              1.779471     194.812021   \n",
       "min                       0.000000              0.000000       1.000000   \n",
       "25%                       2.564949              1.000000       1.000000   \n",
       "50%                       5.517453              2.000000       3.000000   \n",
       "75%                       6.842683              3.000000       7.000000   \n",
       "max                       7.728856              6.000000    5213.000000   \n",
       "\n",
       "       Specialization         Tags         City  \\\n",
       "count     9240.000000  9240.000000  9240.000000   \n",
       "mean       200.625000    91.277381    43.187987   \n",
       "std        611.895907   369.835244    25.925456   \n",
       "min          1.000000     1.000000    23.000000   \n",
       "25%          1.000000     1.000000    23.000000   \n",
       "50%          7.000000     1.000000    23.000000   \n",
       "75%        102.000000     7.000000    45.000000   \n",
       "max       5213.000000  5213.000000   102.000000   \n",
       "\n",
       "       A free copy of Mastering The Interview  Last Notable Activity  \n",
       "count                             9240.000000            9240.000000  \n",
       "mean                                 0.312554              26.206926  \n",
       "std                                  0.463559             122.384954  \n",
       "min                                  0.000000               1.000000  \n",
       "25%                                  0.000000               1.000000  \n",
       "50%                                  0.000000               3.000000  \n",
       "75%                                  1.000000               7.000000  \n",
       "max                                  1.000000            5213.000000  "
      ]
     },
     "execution_count": 133,
     "metadata": {},
     "output_type": "execute_result"
    }
   ],
   "source": [
    "df.describe()"
   ]
  },
  {
   "cell_type": "code",
   "execution_count": 137,
   "id": "d0b1c1c8",
   "metadata": {},
   "outputs": [],
   "source": [
    "df.to_csv('deepak_leads_EDA.csv')"
   ]
  },
  {
   "cell_type": "code",
   "execution_count": null,
   "id": "f53b8c65",
   "metadata": {},
   "outputs": [],
   "source": []
  }
 ],
 "metadata": {
  "kernelspec": {
   "display_name": "Python 3",
   "language": "python",
   "name": "python3"
  },
  "language_info": {
   "codemirror_mode": {
    "name": "ipython",
    "version": 3
   },
   "file_extension": ".py",
   "mimetype": "text/x-python",
   "name": "python",
   "nbconvert_exporter": "python",
   "pygments_lexer": "ipython3",
   "version": "3.8.8"
  }
 },
 "nbformat": 4,
 "nbformat_minor": 5
}
